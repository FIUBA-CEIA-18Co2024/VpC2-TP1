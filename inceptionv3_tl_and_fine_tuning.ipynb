{
 "cells": [
  {
   "cell_type": "code",
   "execution_count": 1,
   "id": "12c1f03b",
   "metadata": {},
   "outputs": [
    {
     "name": "stdout",
     "output_type": "stream",
     "text": [
      "Dispositivo a utilizar: cuda\n"
     ]
    }
   ],
   "source": [
    "import os\n",
    "import torch\n",
    "import torch.nn as nn\n",
    "from PIL import Image\n",
    "from PIL import ImageOps\n",
    "from src.training import fit\n",
    "import torchinfo as torchinfo\n",
    "from src.evaluation import evaluate_model\n",
    "from collections import Counter\n",
    "from torchvision import datasets, transforms\n",
    "from src.training import plot_train_results_from_json\n",
    "from torchvision.models import inception_v3, Inception_V3_Weights\n",
    "from torch.utils.data import DataLoader, WeightedRandomSampler\n",
    "\n",
    "# USAR GPU SI ES POSIBLE\n",
    "device = \"cuda\" if torch.cuda.is_available() else \"cpu\"\n",
    "\n",
    "# Path de descarga de datasets usando KaggleHub\n",
    "os.environ[\"KAGGLEHUB_CACHE\"] = \"./\"\n",
    "\n",
    "# PARAMETROS GLOBALES\n",
    "BATCH_SIZE = 256\n",
    "WORKERS = 0\n",
    "DATASET_AUGMENTED_SIZE = 4000\n",
    "\n",
    "print(f'Dispositivo a utilizar: {device}')"
   ]
  },
  {
   "cell_type": "code",
   "execution_count": 2,
   "id": "c4f9ade7",
   "metadata": {},
   "outputs": [
    {
     "name": "stdout",
     "output_type": "stream",
     "text": [
      "Cantidad de imágenes por tipo de canal (modo):\n",
      "  RGBA: 923 imágenes\n",
      "  RGB: 74 imágenes\n",
      "  L: 3 imágenes\n"
     ]
    }
   ],
   "source": [
    "# Directorio raíz del dataset\n",
    "root_dir = \"./data/dataset\"\n",
    "\n",
    "# Inicializamos contador\n",
    "channel_counter = Counter()\n",
    "errors = []\n",
    "\n",
    "# Recorremos todas las imágenes\n",
    "for split in [\"train\", \"valid\", \"test\"]:\n",
    "    split_path = os.path.join(root_dir, split)\n",
    "    for class_name in os.listdir(split_path):\n",
    "        class_dir = os.path.join(split_path, class_name)\n",
    "        if not os.path.isdir(class_dir):\n",
    "            continue\n",
    "        for img_name in os.listdir(class_dir):\n",
    "            img_path = os.path.join(class_dir, img_name)\n",
    "            try:\n",
    "                with Image.open(img_path) as img:\n",
    "                    channel_counter[img.mode] += 1\n",
    "            except Exception as e:\n",
    "                errors.append((img_path, str(e)))\n",
    "\n",
    "# Resultados\n",
    "print(\"Cantidad de imágenes por tipo de canal (modo):\")\n",
    "for mode, count in channel_counter.items():\n",
    "    print(f\"  {mode}: {count} imágenes\")\n",
    "\n",
    "if errors:\n",
    "    print(\"\\n⚠️ Errores al abrir algunas imágenes:\")\n",
    "    for path, err in errors:\n",
    "        print(f\"  {path} -> {err}\")"
   ]
  },
  {
   "cell_type": "code",
   "execution_count": 3,
   "id": "b83f3cb9",
   "metadata": {},
   "outputs": [],
   "source": [
    "class ResizeWithAspectRatioPadding:\n",
    "    \"\"\"\n",
    "    Clase para redimensionar imágenes manteniendo el aspecto y rellenando con ceros (padding).\n",
    "    \"\"\"\n",
    "    def __init__(self, target_size):\n",
    "        self.target_size = target_size\n",
    "\n",
    "    def __call__(self, img):\n",
    "        # Convertimos a tamaño cuadrado manteniendo aspecto\n",
    "        old_width, old_height = img.size\n",
    "        ratio = min(self.target_size[0] / old_width, self.target_size[1] / old_height)\n",
    "        new_size = (int(old_width * ratio), int(old_height * ratio))\n",
    "        img = img.resize(new_size, resample=Image.BILINEAR)\n",
    "\n",
    "        delta_w = self.target_size[0] - new_size[0]\n",
    "        delta_h = self.target_size[1] - new_size[1]\n",
    "        padding = (delta_w // 2, delta_h // 2, delta_w - delta_w // 2, delta_h - delta_h // 2)\n",
    "        img = ImageOps.expand(img, padding, fill=0)\n",
    "\n",
    "        return img"
   ]
  },
  {
   "cell_type": "code",
   "execution_count": 4,
   "id": "e71b2d6e",
   "metadata": {},
   "outputs": [
    {
     "name": "stdout",
     "output_type": "stream",
     "text": [
      "Pesos por clase: {0: 3.1435897435897435, 1: 5.3304347826086955, 2: 4.141891891891892, 3: 3.9548387096774196}\n",
      "Tamaño de train dataset original: 613\n",
      "Tamaño de train dataset con augmentation: 4000\n",
      "Tamaño de validation dataset: 72\n",
      "Tamaño de test dataset: 315\n"
     ]
    }
   ],
   "source": [
    "# Paso previo obligatorio: transformar todo a RGB\n",
    "to_rgb = transforms.Lambda(lambda img: img.convert(\"RGB\"))\n",
    "\n",
    "# Tamaño objetivo (input para ResNet)\n",
    "image_size = (299, 299)\n",
    "\n",
    "# 1- Se aplican distintas transformaciones para el dataset de train y test\n",
    "# Transform para train (con augmentations)\n",
    "train_transform = transforms.Compose([\n",
    "    to_rgb,\n",
    "    ResizeWithAspectRatioPadding(image_size),\n",
    "    transforms.RandomHorizontalFlip(p=0.5),\n",
    "    transforms.RandomRotation(degrees=10),\n",
    "    transforms.ColorJitter(brightness=0.1, contrast=0.1),  # Augmentations suaves\n",
    "    transforms.ToTensor(),\n",
    "    transforms.Normalize(mean=[0.485, 0.456, 0.406], std=[0.229, 0.224, 0.225])\n",
    "])\n",
    "\n",
    "# Transform para valid (sin augmentations, con resize)\n",
    "valid_transform = transforms.Compose([\n",
    "    to_rgb,\n",
    "    ResizeWithAspectRatioPadding(image_size),\n",
    "    transforms.ToTensor(),\n",
    "    transforms.Normalize(mean=[0.485, 0.456, 0.406], std=[0.229, 0.224, 0.225])\n",
    "])\n",
    "\n",
    "# Transform para test (idéntico a valid)\n",
    "test_transform = transforms.Compose([\n",
    "    to_rgb,\n",
    "    ResizeWithAspectRatioPadding(image_size),\n",
    "    transforms.ToTensor(),\n",
    "    transforms.Normalize(mean=[0.485, 0.456, 0.406], std=[0.229, 0.224, 0.225])\n",
    "])\n",
    "\n",
    "# 2- Se cargan los datasets de train y test con las transformaciones\n",
    "train_dataset = datasets.ImageFolder(root='data/dataset' + '/train', transform=train_transform)\n",
    "test_dataset = datasets.ImageFolder(root='data/dataset' + '/test', transform=test_transform)\n",
    "valid_dataset = datasets.ImageFolder(root='data/dataset' + '/valid', transform=valid_transform)\n",
    "\n",
    "# 3- Se splitea el dataset de train en train y validation para entrenamiento, test se deja para tarea final de evaluación\n",
    "# Obtener las etiquetas de las imágenes en el dataset de entrenamiento\n",
    "targets = [label for _, label in train_dataset]\n",
    "class_counts = Counter(targets)\n",
    "class_weights = {cls: len(targets) / count for cls, count in class_counts.items()}\n",
    "sample_weights = torch.DoubleTensor([class_weights[label] for label in targets])\n",
    "\n",
    "# 4 - Sampler balanceado\n",
    "sampler = WeightedRandomSampler(\n",
    "    weights=sample_weights,num_samples=DATASET_AUGMENTED_SIZE,replacement=True\n",
    ")\n",
    "\n",
    "# 5 - DataLoaders\n",
    "train_loader = DataLoader(train_dataset, batch_size=BATCH_SIZE, sampler=sampler, num_workers=WORKERS, pin_memory=True)\n",
    "val_loader = DataLoader(valid_dataset, batch_size=BATCH_SIZE, shuffle=False, num_workers=WORKERS, pin_memory=True)\n",
    "test_loader = DataLoader(test_dataset, batch_size=BATCH_SIZE, shuffle=False, num_workers=WORKERS, pin_memory=True)\n",
    "\n",
    "# 6 - Info\n",
    "print(f\"Pesos por clase: {class_weights}\")\n",
    "print(f\"Tamaño de train dataset original: {len(train_dataset)}\")\n",
    "print(f\"Tamaño de train dataset con augmentation: {DATASET_AUGMENTED_SIZE}\")\n",
    "print(f\"Tamaño de validation dataset: {len(valid_dataset)}\")\n",
    "print(f\"Tamaño de test dataset: {len(test_dataset)}\")"
   ]
  },
  {
   "cell_type": "code",
   "execution_count": 5,
   "id": "7d538ccb",
   "metadata": {},
   "outputs": [
    {
     "name": "stdout",
     "output_type": "stream",
     "text": [
      "La arquitectura por default de ResNet-50 es la siguiente:\n",
      "\n",
      "Inception3(\n",
      "  (Conv2d_1a_3x3): BasicConv2d(\n",
      "    (conv): Conv2d(3, 32, kernel_size=(3, 3), stride=(2, 2), bias=False)\n",
      "    (bn): BatchNorm2d(32, eps=0.001, momentum=0.1, affine=True, track_running_stats=True)\n",
      "  )\n",
      "  (Conv2d_2a_3x3): BasicConv2d(\n",
      "    (conv): Conv2d(32, 32, kernel_size=(3, 3), stride=(1, 1), bias=False)\n",
      "    (bn): BatchNorm2d(32, eps=0.001, momentum=0.1, affine=True, track_running_stats=True)\n",
      "  )\n",
      "  (Conv2d_2b_3x3): BasicConv2d(\n",
      "    (conv): Conv2d(32, 64, kernel_size=(3, 3), stride=(1, 1), padding=(1, 1), bias=False)\n",
      "    (bn): BatchNorm2d(64, eps=0.001, momentum=0.1, affine=True, track_running_stats=True)\n",
      "  )\n",
      "  (maxpool1): MaxPool2d(kernel_size=3, stride=2, padding=0, dilation=1, ceil_mode=False)\n",
      "  (Conv2d_3b_1x1): BasicConv2d(\n",
      "    (conv): Conv2d(64, 80, kernel_size=(1, 1), stride=(1, 1), bias=False)\n",
      "    (bn): BatchNorm2d(80, eps=0.001, momentum=0.1, affine=True, track_running_stats=True)\n",
      "  )\n",
      "  (Conv2d_4a_3x3): BasicConv2d(\n",
      "    (conv): Conv2d(80, 192, kernel_size=(3, 3), stride=(1, 1), bias=False)\n",
      "    (bn): BatchNorm2d(192, eps=0.001, momentum=0.1, affine=True, track_running_stats=True)\n",
      "  )\n",
      "  (maxpool2): MaxPool2d(kernel_size=3, stride=2, padding=0, dilation=1, ceil_mode=False)\n",
      "  (Mixed_5b): InceptionA(\n",
      "    (branch1x1): BasicConv2d(\n",
      "      (conv): Conv2d(192, 64, kernel_size=(1, 1), stride=(1, 1), bias=False)\n",
      "      (bn): BatchNorm2d(64, eps=0.001, momentum=0.1, affine=True, track_running_stats=True)\n",
      "    )\n",
      "    (branch5x5_1): BasicConv2d(\n",
      "      (conv): Conv2d(192, 48, kernel_size=(1, 1), stride=(1, 1), bias=False)\n",
      "      (bn): BatchNorm2d(48, eps=0.001, momentum=0.1, affine=True, track_running_stats=True)\n",
      "    )\n",
      "    (branch5x5_2): BasicConv2d(\n",
      "      (conv): Conv2d(48, 64, kernel_size=(5, 5), stride=(1, 1), padding=(2, 2), bias=False)\n",
      "      (bn): BatchNorm2d(64, eps=0.001, momentum=0.1, affine=True, track_running_stats=True)\n",
      "    )\n",
      "    (branch3x3dbl_1): BasicConv2d(\n",
      "      (conv): Conv2d(192, 64, kernel_size=(1, 1), stride=(1, 1), bias=False)\n",
      "      (bn): BatchNorm2d(64, eps=0.001, momentum=0.1, affine=True, track_running_stats=True)\n",
      "    )\n",
      "    (branch3x3dbl_2): BasicConv2d(\n",
      "      (conv): Conv2d(64, 96, kernel_size=(3, 3), stride=(1, 1), padding=(1, 1), bias=False)\n",
      "      (bn): BatchNorm2d(96, eps=0.001, momentum=0.1, affine=True, track_running_stats=True)\n",
      "    )\n",
      "    (branch3x3dbl_3): BasicConv2d(\n",
      "      (conv): Conv2d(96, 96, kernel_size=(3, 3), stride=(1, 1), padding=(1, 1), bias=False)\n",
      "      (bn): BatchNorm2d(96, eps=0.001, momentum=0.1, affine=True, track_running_stats=True)\n",
      "    )\n",
      "    (branch_pool): BasicConv2d(\n",
      "      (conv): Conv2d(192, 32, kernel_size=(1, 1), stride=(1, 1), bias=False)\n",
      "      (bn): BatchNorm2d(32, eps=0.001, momentum=0.1, affine=True, track_running_stats=True)\n",
      "    )\n",
      "  )\n",
      "  (Mixed_5c): InceptionA(\n",
      "    (branch1x1): BasicConv2d(\n",
      "      (conv): Conv2d(256, 64, kernel_size=(1, 1), stride=(1, 1), bias=False)\n",
      "      (bn): BatchNorm2d(64, eps=0.001, momentum=0.1, affine=True, track_running_stats=True)\n",
      "    )\n",
      "    (branch5x5_1): BasicConv2d(\n",
      "      (conv): Conv2d(256, 48, kernel_size=(1, 1), stride=(1, 1), bias=False)\n",
      "      (bn): BatchNorm2d(48, eps=0.001, momentum=0.1, affine=True, track_running_stats=True)\n",
      "    )\n",
      "    (branch5x5_2): BasicConv2d(\n",
      "      (conv): Conv2d(48, 64, kernel_size=(5, 5), stride=(1, 1), padding=(2, 2), bias=False)\n",
      "      (bn): BatchNorm2d(64, eps=0.001, momentum=0.1, affine=True, track_running_stats=True)\n",
      "    )\n",
      "    (branch3x3dbl_1): BasicConv2d(\n",
      "      (conv): Conv2d(256, 64, kernel_size=(1, 1), stride=(1, 1), bias=False)\n",
      "      (bn): BatchNorm2d(64, eps=0.001, momentum=0.1, affine=True, track_running_stats=True)\n",
      "    )\n",
      "    (branch3x3dbl_2): BasicConv2d(\n",
      "      (conv): Conv2d(64, 96, kernel_size=(3, 3), stride=(1, 1), padding=(1, 1), bias=False)\n",
      "      (bn): BatchNorm2d(96, eps=0.001, momentum=0.1, affine=True, track_running_stats=True)\n",
      "    )\n",
      "    (branch3x3dbl_3): BasicConv2d(\n",
      "      (conv): Conv2d(96, 96, kernel_size=(3, 3), stride=(1, 1), padding=(1, 1), bias=False)\n",
      "      (bn): BatchNorm2d(96, eps=0.001, momentum=0.1, affine=True, track_running_stats=True)\n",
      "    )\n",
      "    (branch_pool): BasicConv2d(\n",
      "      (conv): Conv2d(256, 64, kernel_size=(1, 1), stride=(1, 1), bias=False)\n",
      "      (bn): BatchNorm2d(64, eps=0.001, momentum=0.1, affine=True, track_running_stats=True)\n",
      "    )\n",
      "  )\n",
      "  (Mixed_5d): InceptionA(\n",
      "    (branch1x1): BasicConv2d(\n",
      "      (conv): Conv2d(288, 64, kernel_size=(1, 1), stride=(1, 1), bias=False)\n",
      "      (bn): BatchNorm2d(64, eps=0.001, momentum=0.1, affine=True, track_running_stats=True)\n",
      "    )\n",
      "    (branch5x5_1): BasicConv2d(\n",
      "      (conv): Conv2d(288, 48, kernel_size=(1, 1), stride=(1, 1), bias=False)\n",
      "      (bn): BatchNorm2d(48, eps=0.001, momentum=0.1, affine=True, track_running_stats=True)\n",
      "    )\n",
      "    (branch5x5_2): BasicConv2d(\n",
      "      (conv): Conv2d(48, 64, kernel_size=(5, 5), stride=(1, 1), padding=(2, 2), bias=False)\n",
      "      (bn): BatchNorm2d(64, eps=0.001, momentum=0.1, affine=True, track_running_stats=True)\n",
      "    )\n",
      "    (branch3x3dbl_1): BasicConv2d(\n",
      "      (conv): Conv2d(288, 64, kernel_size=(1, 1), stride=(1, 1), bias=False)\n",
      "      (bn): BatchNorm2d(64, eps=0.001, momentum=0.1, affine=True, track_running_stats=True)\n",
      "    )\n",
      "    (branch3x3dbl_2): BasicConv2d(\n",
      "      (conv): Conv2d(64, 96, kernel_size=(3, 3), stride=(1, 1), padding=(1, 1), bias=False)\n",
      "      (bn): BatchNorm2d(96, eps=0.001, momentum=0.1, affine=True, track_running_stats=True)\n",
      "    )\n",
      "    (branch3x3dbl_3): BasicConv2d(\n",
      "      (conv): Conv2d(96, 96, kernel_size=(3, 3), stride=(1, 1), padding=(1, 1), bias=False)\n",
      "      (bn): BatchNorm2d(96, eps=0.001, momentum=0.1, affine=True, track_running_stats=True)\n",
      "    )\n",
      "    (branch_pool): BasicConv2d(\n",
      "      (conv): Conv2d(288, 64, kernel_size=(1, 1), stride=(1, 1), bias=False)\n",
      "      (bn): BatchNorm2d(64, eps=0.001, momentum=0.1, affine=True, track_running_stats=True)\n",
      "    )\n",
      "  )\n",
      "  (Mixed_6a): InceptionB(\n",
      "    (branch3x3): BasicConv2d(\n",
      "      (conv): Conv2d(288, 384, kernel_size=(3, 3), stride=(2, 2), bias=False)\n",
      "      (bn): BatchNorm2d(384, eps=0.001, momentum=0.1, affine=True, track_running_stats=True)\n",
      "    )\n",
      "    (branch3x3dbl_1): BasicConv2d(\n",
      "      (conv): Conv2d(288, 64, kernel_size=(1, 1), stride=(1, 1), bias=False)\n",
      "      (bn): BatchNorm2d(64, eps=0.001, momentum=0.1, affine=True, track_running_stats=True)\n",
      "    )\n",
      "    (branch3x3dbl_2): BasicConv2d(\n",
      "      (conv): Conv2d(64, 96, kernel_size=(3, 3), stride=(1, 1), padding=(1, 1), bias=False)\n",
      "      (bn): BatchNorm2d(96, eps=0.001, momentum=0.1, affine=True, track_running_stats=True)\n",
      "    )\n",
      "    (branch3x3dbl_3): BasicConv2d(\n",
      "      (conv): Conv2d(96, 96, kernel_size=(3, 3), stride=(2, 2), bias=False)\n",
      "      (bn): BatchNorm2d(96, eps=0.001, momentum=0.1, affine=True, track_running_stats=True)\n",
      "    )\n",
      "  )\n",
      "  (Mixed_6b): InceptionC(\n",
      "    (branch1x1): BasicConv2d(\n",
      "      (conv): Conv2d(768, 192, kernel_size=(1, 1), stride=(1, 1), bias=False)\n",
      "      (bn): BatchNorm2d(192, eps=0.001, momentum=0.1, affine=True, track_running_stats=True)\n",
      "    )\n",
      "    (branch7x7_1): BasicConv2d(\n",
      "      (conv): Conv2d(768, 128, kernel_size=(1, 1), stride=(1, 1), bias=False)\n",
      "      (bn): BatchNorm2d(128, eps=0.001, momentum=0.1, affine=True, track_running_stats=True)\n",
      "    )\n",
      "    (branch7x7_2): BasicConv2d(\n",
      "      (conv): Conv2d(128, 128, kernel_size=(1, 7), stride=(1, 1), padding=(0, 3), bias=False)\n",
      "      (bn): BatchNorm2d(128, eps=0.001, momentum=0.1, affine=True, track_running_stats=True)\n",
      "    )\n",
      "    (branch7x7_3): BasicConv2d(\n",
      "      (conv): Conv2d(128, 192, kernel_size=(7, 1), stride=(1, 1), padding=(3, 0), bias=False)\n",
      "      (bn): BatchNorm2d(192, eps=0.001, momentum=0.1, affine=True, track_running_stats=True)\n",
      "    )\n",
      "    (branch7x7dbl_1): BasicConv2d(\n",
      "      (conv): Conv2d(768, 128, kernel_size=(1, 1), stride=(1, 1), bias=False)\n",
      "      (bn): BatchNorm2d(128, eps=0.001, momentum=0.1, affine=True, track_running_stats=True)\n",
      "    )\n",
      "    (branch7x7dbl_2): BasicConv2d(\n",
      "      (conv): Conv2d(128, 128, kernel_size=(7, 1), stride=(1, 1), padding=(3, 0), bias=False)\n",
      "      (bn): BatchNorm2d(128, eps=0.001, momentum=0.1, affine=True, track_running_stats=True)\n",
      "    )\n",
      "    (branch7x7dbl_3): BasicConv2d(\n",
      "      (conv): Conv2d(128, 128, kernel_size=(1, 7), stride=(1, 1), padding=(0, 3), bias=False)\n",
      "      (bn): BatchNorm2d(128, eps=0.001, momentum=0.1, affine=True, track_running_stats=True)\n",
      "    )\n",
      "    (branch7x7dbl_4): BasicConv2d(\n",
      "      (conv): Conv2d(128, 128, kernel_size=(7, 1), stride=(1, 1), padding=(3, 0), bias=False)\n",
      "      (bn): BatchNorm2d(128, eps=0.001, momentum=0.1, affine=True, track_running_stats=True)\n",
      "    )\n",
      "    (branch7x7dbl_5): BasicConv2d(\n",
      "      (conv): Conv2d(128, 192, kernel_size=(1, 7), stride=(1, 1), padding=(0, 3), bias=False)\n",
      "      (bn): BatchNorm2d(192, eps=0.001, momentum=0.1, affine=True, track_running_stats=True)\n",
      "    )\n",
      "    (branch_pool): BasicConv2d(\n",
      "      (conv): Conv2d(768, 192, kernel_size=(1, 1), stride=(1, 1), bias=False)\n",
      "      (bn): BatchNorm2d(192, eps=0.001, momentum=0.1, affine=True, track_running_stats=True)\n",
      "    )\n",
      "  )\n",
      "  (Mixed_6c): InceptionC(\n",
      "    (branch1x1): BasicConv2d(\n",
      "      (conv): Conv2d(768, 192, kernel_size=(1, 1), stride=(1, 1), bias=False)\n",
      "      (bn): BatchNorm2d(192, eps=0.001, momentum=0.1, affine=True, track_running_stats=True)\n",
      "    )\n",
      "    (branch7x7_1): BasicConv2d(\n",
      "      (conv): Conv2d(768, 160, kernel_size=(1, 1), stride=(1, 1), bias=False)\n",
      "      (bn): BatchNorm2d(160, eps=0.001, momentum=0.1, affine=True, track_running_stats=True)\n",
      "    )\n",
      "    (branch7x7_2): BasicConv2d(\n",
      "      (conv): Conv2d(160, 160, kernel_size=(1, 7), stride=(1, 1), padding=(0, 3), bias=False)\n",
      "      (bn): BatchNorm2d(160, eps=0.001, momentum=0.1, affine=True, track_running_stats=True)\n",
      "    )\n",
      "    (branch7x7_3): BasicConv2d(\n",
      "      (conv): Conv2d(160, 192, kernel_size=(7, 1), stride=(1, 1), padding=(3, 0), bias=False)\n",
      "      (bn): BatchNorm2d(192, eps=0.001, momentum=0.1, affine=True, track_running_stats=True)\n",
      "    )\n",
      "    (branch7x7dbl_1): BasicConv2d(\n",
      "      (conv): Conv2d(768, 160, kernel_size=(1, 1), stride=(1, 1), bias=False)\n",
      "      (bn): BatchNorm2d(160, eps=0.001, momentum=0.1, affine=True, track_running_stats=True)\n",
      "    )\n",
      "    (branch7x7dbl_2): BasicConv2d(\n",
      "      (conv): Conv2d(160, 160, kernel_size=(7, 1), stride=(1, 1), padding=(3, 0), bias=False)\n",
      "      (bn): BatchNorm2d(160, eps=0.001, momentum=0.1, affine=True, track_running_stats=True)\n",
      "    )\n",
      "    (branch7x7dbl_3): BasicConv2d(\n",
      "      (conv): Conv2d(160, 160, kernel_size=(1, 7), stride=(1, 1), padding=(0, 3), bias=False)\n",
      "      (bn): BatchNorm2d(160, eps=0.001, momentum=0.1, affine=True, track_running_stats=True)\n",
      "    )\n",
      "    (branch7x7dbl_4): BasicConv2d(\n",
      "      (conv): Conv2d(160, 160, kernel_size=(7, 1), stride=(1, 1), padding=(3, 0), bias=False)\n",
      "      (bn): BatchNorm2d(160, eps=0.001, momentum=0.1, affine=True, track_running_stats=True)\n",
      "    )\n",
      "    (branch7x7dbl_5): BasicConv2d(\n",
      "      (conv): Conv2d(160, 192, kernel_size=(1, 7), stride=(1, 1), padding=(0, 3), bias=False)\n",
      "      (bn): BatchNorm2d(192, eps=0.001, momentum=0.1, affine=True, track_running_stats=True)\n",
      "    )\n",
      "    (branch_pool): BasicConv2d(\n",
      "      (conv): Conv2d(768, 192, kernel_size=(1, 1), stride=(1, 1), bias=False)\n",
      "      (bn): BatchNorm2d(192, eps=0.001, momentum=0.1, affine=True, track_running_stats=True)\n",
      "    )\n",
      "  )\n",
      "  (Mixed_6d): InceptionC(\n",
      "    (branch1x1): BasicConv2d(\n",
      "      (conv): Conv2d(768, 192, kernel_size=(1, 1), stride=(1, 1), bias=False)\n",
      "      (bn): BatchNorm2d(192, eps=0.001, momentum=0.1, affine=True, track_running_stats=True)\n",
      "    )\n",
      "    (branch7x7_1): BasicConv2d(\n",
      "      (conv): Conv2d(768, 160, kernel_size=(1, 1), stride=(1, 1), bias=False)\n",
      "      (bn): BatchNorm2d(160, eps=0.001, momentum=0.1, affine=True, track_running_stats=True)\n",
      "    )\n",
      "    (branch7x7_2): BasicConv2d(\n",
      "      (conv): Conv2d(160, 160, kernel_size=(1, 7), stride=(1, 1), padding=(0, 3), bias=False)\n",
      "      (bn): BatchNorm2d(160, eps=0.001, momentum=0.1, affine=True, track_running_stats=True)\n",
      "    )\n",
      "    (branch7x7_3): BasicConv2d(\n",
      "      (conv): Conv2d(160, 192, kernel_size=(7, 1), stride=(1, 1), padding=(3, 0), bias=False)\n",
      "      (bn): BatchNorm2d(192, eps=0.001, momentum=0.1, affine=True, track_running_stats=True)\n",
      "    )\n",
      "    (branch7x7dbl_1): BasicConv2d(\n",
      "      (conv): Conv2d(768, 160, kernel_size=(1, 1), stride=(1, 1), bias=False)\n",
      "      (bn): BatchNorm2d(160, eps=0.001, momentum=0.1, affine=True, track_running_stats=True)\n",
      "    )\n",
      "    (branch7x7dbl_2): BasicConv2d(\n",
      "      (conv): Conv2d(160, 160, kernel_size=(7, 1), stride=(1, 1), padding=(3, 0), bias=False)\n",
      "      (bn): BatchNorm2d(160, eps=0.001, momentum=0.1, affine=True, track_running_stats=True)\n",
      "    )\n",
      "    (branch7x7dbl_3): BasicConv2d(\n",
      "      (conv): Conv2d(160, 160, kernel_size=(1, 7), stride=(1, 1), padding=(0, 3), bias=False)\n",
      "      (bn): BatchNorm2d(160, eps=0.001, momentum=0.1, affine=True, track_running_stats=True)\n",
      "    )\n",
      "    (branch7x7dbl_4): BasicConv2d(\n",
      "      (conv): Conv2d(160, 160, kernel_size=(7, 1), stride=(1, 1), padding=(3, 0), bias=False)\n",
      "      (bn): BatchNorm2d(160, eps=0.001, momentum=0.1, affine=True, track_running_stats=True)\n",
      "    )\n",
      "    (branch7x7dbl_5): BasicConv2d(\n",
      "      (conv): Conv2d(160, 192, kernel_size=(1, 7), stride=(1, 1), padding=(0, 3), bias=False)\n",
      "      (bn): BatchNorm2d(192, eps=0.001, momentum=0.1, affine=True, track_running_stats=True)\n",
      "    )\n",
      "    (branch_pool): BasicConv2d(\n",
      "      (conv): Conv2d(768, 192, kernel_size=(1, 1), stride=(1, 1), bias=False)\n",
      "      (bn): BatchNorm2d(192, eps=0.001, momentum=0.1, affine=True, track_running_stats=True)\n",
      "    )\n",
      "  )\n",
      "  (Mixed_6e): InceptionC(\n",
      "    (branch1x1): BasicConv2d(\n",
      "      (conv): Conv2d(768, 192, kernel_size=(1, 1), stride=(1, 1), bias=False)\n",
      "      (bn): BatchNorm2d(192, eps=0.001, momentum=0.1, affine=True, track_running_stats=True)\n",
      "    )\n",
      "    (branch7x7_1): BasicConv2d(\n",
      "      (conv): Conv2d(768, 192, kernel_size=(1, 1), stride=(1, 1), bias=False)\n",
      "      (bn): BatchNorm2d(192, eps=0.001, momentum=0.1, affine=True, track_running_stats=True)\n",
      "    )\n",
      "    (branch7x7_2): BasicConv2d(\n",
      "      (conv): Conv2d(192, 192, kernel_size=(1, 7), stride=(1, 1), padding=(0, 3), bias=False)\n",
      "      (bn): BatchNorm2d(192, eps=0.001, momentum=0.1, affine=True, track_running_stats=True)\n",
      "    )\n",
      "    (branch7x7_3): BasicConv2d(\n",
      "      (conv): Conv2d(192, 192, kernel_size=(7, 1), stride=(1, 1), padding=(3, 0), bias=False)\n",
      "      (bn): BatchNorm2d(192, eps=0.001, momentum=0.1, affine=True, track_running_stats=True)\n",
      "    )\n",
      "    (branch7x7dbl_1): BasicConv2d(\n",
      "      (conv): Conv2d(768, 192, kernel_size=(1, 1), stride=(1, 1), bias=False)\n",
      "      (bn): BatchNorm2d(192, eps=0.001, momentum=0.1, affine=True, track_running_stats=True)\n",
      "    )\n",
      "    (branch7x7dbl_2): BasicConv2d(\n",
      "      (conv): Conv2d(192, 192, kernel_size=(7, 1), stride=(1, 1), padding=(3, 0), bias=False)\n",
      "      (bn): BatchNorm2d(192, eps=0.001, momentum=0.1, affine=True, track_running_stats=True)\n",
      "    )\n",
      "    (branch7x7dbl_3): BasicConv2d(\n",
      "      (conv): Conv2d(192, 192, kernel_size=(1, 7), stride=(1, 1), padding=(0, 3), bias=False)\n",
      "      (bn): BatchNorm2d(192, eps=0.001, momentum=0.1, affine=True, track_running_stats=True)\n",
      "    )\n",
      "    (branch7x7dbl_4): BasicConv2d(\n",
      "      (conv): Conv2d(192, 192, kernel_size=(7, 1), stride=(1, 1), padding=(3, 0), bias=False)\n",
      "      (bn): BatchNorm2d(192, eps=0.001, momentum=0.1, affine=True, track_running_stats=True)\n",
      "    )\n",
      "    (branch7x7dbl_5): BasicConv2d(\n",
      "      (conv): Conv2d(192, 192, kernel_size=(1, 7), stride=(1, 1), padding=(0, 3), bias=False)\n",
      "      (bn): BatchNorm2d(192, eps=0.001, momentum=0.1, affine=True, track_running_stats=True)\n",
      "    )\n",
      "    (branch_pool): BasicConv2d(\n",
      "      (conv): Conv2d(768, 192, kernel_size=(1, 1), stride=(1, 1), bias=False)\n",
      "      (bn): BatchNorm2d(192, eps=0.001, momentum=0.1, affine=True, track_running_stats=True)\n",
      "    )\n",
      "  )\n",
      "  (AuxLogits): InceptionAux(\n",
      "    (conv0): BasicConv2d(\n",
      "      (conv): Conv2d(768, 128, kernel_size=(1, 1), stride=(1, 1), bias=False)\n",
      "      (bn): BatchNorm2d(128, eps=0.001, momentum=0.1, affine=True, track_running_stats=True)\n",
      "    )\n",
      "    (conv1): BasicConv2d(\n",
      "      (conv): Conv2d(128, 768, kernel_size=(5, 5), stride=(1, 1), bias=False)\n",
      "      (bn): BatchNorm2d(768, eps=0.001, momentum=0.1, affine=True, track_running_stats=True)\n",
      "    )\n",
      "    (fc): Linear(in_features=768, out_features=1000, bias=True)\n",
      "  )\n",
      "  (Mixed_7a): InceptionD(\n",
      "    (branch3x3_1): BasicConv2d(\n",
      "      (conv): Conv2d(768, 192, kernel_size=(1, 1), stride=(1, 1), bias=False)\n",
      "      (bn): BatchNorm2d(192, eps=0.001, momentum=0.1, affine=True, track_running_stats=True)\n",
      "    )\n",
      "    (branch3x3_2): BasicConv2d(\n",
      "      (conv): Conv2d(192, 320, kernel_size=(3, 3), stride=(2, 2), bias=False)\n",
      "      (bn): BatchNorm2d(320, eps=0.001, momentum=0.1, affine=True, track_running_stats=True)\n",
      "    )\n",
      "    (branch7x7x3_1): BasicConv2d(\n",
      "      (conv): Conv2d(768, 192, kernel_size=(1, 1), stride=(1, 1), bias=False)\n",
      "      (bn): BatchNorm2d(192, eps=0.001, momentum=0.1, affine=True, track_running_stats=True)\n",
      "    )\n",
      "    (branch7x7x3_2): BasicConv2d(\n",
      "      (conv): Conv2d(192, 192, kernel_size=(1, 7), stride=(1, 1), padding=(0, 3), bias=False)\n",
      "      (bn): BatchNorm2d(192, eps=0.001, momentum=0.1, affine=True, track_running_stats=True)\n",
      "    )\n",
      "    (branch7x7x3_3): BasicConv2d(\n",
      "      (conv): Conv2d(192, 192, kernel_size=(7, 1), stride=(1, 1), padding=(3, 0), bias=False)\n",
      "      (bn): BatchNorm2d(192, eps=0.001, momentum=0.1, affine=True, track_running_stats=True)\n",
      "    )\n",
      "    (branch7x7x3_4): BasicConv2d(\n",
      "      (conv): Conv2d(192, 192, kernel_size=(3, 3), stride=(2, 2), bias=False)\n",
      "      (bn): BatchNorm2d(192, eps=0.001, momentum=0.1, affine=True, track_running_stats=True)\n",
      "    )\n",
      "  )\n",
      "  (Mixed_7b): InceptionE(\n",
      "    (branch1x1): BasicConv2d(\n",
      "      (conv): Conv2d(1280, 320, kernel_size=(1, 1), stride=(1, 1), bias=False)\n",
      "      (bn): BatchNorm2d(320, eps=0.001, momentum=0.1, affine=True, track_running_stats=True)\n",
      "    )\n",
      "    (branch3x3_1): BasicConv2d(\n",
      "      (conv): Conv2d(1280, 384, kernel_size=(1, 1), stride=(1, 1), bias=False)\n",
      "      (bn): BatchNorm2d(384, eps=0.001, momentum=0.1, affine=True, track_running_stats=True)\n",
      "    )\n",
      "    (branch3x3_2a): BasicConv2d(\n",
      "      (conv): Conv2d(384, 384, kernel_size=(1, 3), stride=(1, 1), padding=(0, 1), bias=False)\n",
      "      (bn): BatchNorm2d(384, eps=0.001, momentum=0.1, affine=True, track_running_stats=True)\n",
      "    )\n",
      "    (branch3x3_2b): BasicConv2d(\n",
      "      (conv): Conv2d(384, 384, kernel_size=(3, 1), stride=(1, 1), padding=(1, 0), bias=False)\n",
      "      (bn): BatchNorm2d(384, eps=0.001, momentum=0.1, affine=True, track_running_stats=True)\n",
      "    )\n",
      "    (branch3x3dbl_1): BasicConv2d(\n",
      "      (conv): Conv2d(1280, 448, kernel_size=(1, 1), stride=(1, 1), bias=False)\n",
      "      (bn): BatchNorm2d(448, eps=0.001, momentum=0.1, affine=True, track_running_stats=True)\n",
      "    )\n",
      "    (branch3x3dbl_2): BasicConv2d(\n",
      "      (conv): Conv2d(448, 384, kernel_size=(3, 3), stride=(1, 1), padding=(1, 1), bias=False)\n",
      "      (bn): BatchNorm2d(384, eps=0.001, momentum=0.1, affine=True, track_running_stats=True)\n",
      "    )\n",
      "    (branch3x3dbl_3a): BasicConv2d(\n",
      "      (conv): Conv2d(384, 384, kernel_size=(1, 3), stride=(1, 1), padding=(0, 1), bias=False)\n",
      "      (bn): BatchNorm2d(384, eps=0.001, momentum=0.1, affine=True, track_running_stats=True)\n",
      "    )\n",
      "    (branch3x3dbl_3b): BasicConv2d(\n",
      "      (conv): Conv2d(384, 384, kernel_size=(3, 1), stride=(1, 1), padding=(1, 0), bias=False)\n",
      "      (bn): BatchNorm2d(384, eps=0.001, momentum=0.1, affine=True, track_running_stats=True)\n",
      "    )\n",
      "    (branch_pool): BasicConv2d(\n",
      "      (conv): Conv2d(1280, 192, kernel_size=(1, 1), stride=(1, 1), bias=False)\n",
      "      (bn): BatchNorm2d(192, eps=0.001, momentum=0.1, affine=True, track_running_stats=True)\n",
      "    )\n",
      "  )\n",
      "  (Mixed_7c): InceptionE(\n",
      "    (branch1x1): BasicConv2d(\n",
      "      (conv): Conv2d(2048, 320, kernel_size=(1, 1), stride=(1, 1), bias=False)\n",
      "      (bn): BatchNorm2d(320, eps=0.001, momentum=0.1, affine=True, track_running_stats=True)\n",
      "    )\n",
      "    (branch3x3_1): BasicConv2d(\n",
      "      (conv): Conv2d(2048, 384, kernel_size=(1, 1), stride=(1, 1), bias=False)\n",
      "      (bn): BatchNorm2d(384, eps=0.001, momentum=0.1, affine=True, track_running_stats=True)\n",
      "    )\n",
      "    (branch3x3_2a): BasicConv2d(\n",
      "      (conv): Conv2d(384, 384, kernel_size=(1, 3), stride=(1, 1), padding=(0, 1), bias=False)\n",
      "      (bn): BatchNorm2d(384, eps=0.001, momentum=0.1, affine=True, track_running_stats=True)\n",
      "    )\n",
      "    (branch3x3_2b): BasicConv2d(\n",
      "      (conv): Conv2d(384, 384, kernel_size=(3, 1), stride=(1, 1), padding=(1, 0), bias=False)\n",
      "      (bn): BatchNorm2d(384, eps=0.001, momentum=0.1, affine=True, track_running_stats=True)\n",
      "    )\n",
      "    (branch3x3dbl_1): BasicConv2d(\n",
      "      (conv): Conv2d(2048, 448, kernel_size=(1, 1), stride=(1, 1), bias=False)\n",
      "      (bn): BatchNorm2d(448, eps=0.001, momentum=0.1, affine=True, track_running_stats=True)\n",
      "    )\n",
      "    (branch3x3dbl_2): BasicConv2d(\n",
      "      (conv): Conv2d(448, 384, kernel_size=(3, 3), stride=(1, 1), padding=(1, 1), bias=False)\n",
      "      (bn): BatchNorm2d(384, eps=0.001, momentum=0.1, affine=True, track_running_stats=True)\n",
      "    )\n",
      "    (branch3x3dbl_3a): BasicConv2d(\n",
      "      (conv): Conv2d(384, 384, kernel_size=(1, 3), stride=(1, 1), padding=(0, 1), bias=False)\n",
      "      (bn): BatchNorm2d(384, eps=0.001, momentum=0.1, affine=True, track_running_stats=True)\n",
      "    )\n",
      "    (branch3x3dbl_3b): BasicConv2d(\n",
      "      (conv): Conv2d(384, 384, kernel_size=(3, 1), stride=(1, 1), padding=(1, 0), bias=False)\n",
      "      (bn): BatchNorm2d(384, eps=0.001, momentum=0.1, affine=True, track_running_stats=True)\n",
      "    )\n",
      "    (branch_pool): BasicConv2d(\n",
      "      (conv): Conv2d(2048, 192, kernel_size=(1, 1), stride=(1, 1), bias=False)\n",
      "      (bn): BatchNorm2d(192, eps=0.001, momentum=0.1, affine=True, track_running_stats=True)\n",
      "    )\n",
      "  )\n",
      "  (avgpool): AdaptiveAvgPool2d(output_size=(1, 1))\n",
      "  (dropout): Dropout(p=0.5, inplace=False)\n",
      "  (fc): Linear(in_features=2048, out_features=1000, bias=True)\n",
      ")\n"
     ]
    }
   ],
   "source": [
    "weights = Inception_V3_Weights.DEFAULT\n",
    "model = inception_v3(weights=weights)\n",
    "print(f'La arquitectura por default de ResNet-50 es la siguiente:\\n\\n{model}') "
   ]
  },
  {
   "cell_type": "code",
   "execution_count": 6,
   "id": "981b0ccf",
   "metadata": {},
   "outputs": [
    {
     "data": {
      "text/plain": [
       "===================================================================================================================\n",
       "Layer (type:depth-idx)                   Kernel Shape              Output Shape              Param #\n",
       "===================================================================================================================\n",
       "Inception3                               --                        [1, 1000]                 3,326,696\n",
       "├─BasicConv2d: 1-1                       --                        [1, 32, 111, 111]         --\n",
       "│    └─Conv2d: 2-1                       [3, 3]                    [1, 32, 111, 111]         864\n",
       "│    └─BatchNorm2d: 2-2                  --                        [1, 32, 111, 111]         64\n",
       "├─BasicConv2d: 1-2                       --                        [1, 32, 109, 109]         --\n",
       "│    └─Conv2d: 2-3                       [3, 3]                    [1, 32, 109, 109]         9,216\n",
       "│    └─BatchNorm2d: 2-4                  --                        [1, 32, 109, 109]         64\n",
       "├─BasicConv2d: 1-3                       --                        [1, 64, 109, 109]         --\n",
       "│    └─Conv2d: 2-5                       [3, 3]                    [1, 64, 109, 109]         18,432\n",
       "│    └─BatchNorm2d: 2-6                  --                        [1, 64, 109, 109]         128\n",
       "├─MaxPool2d: 1-4                         3                         [1, 64, 54, 54]           --\n",
       "├─BasicConv2d: 1-5                       --                        [1, 80, 54, 54]           --\n",
       "│    └─Conv2d: 2-7                       [1, 1]                    [1, 80, 54, 54]           5,120\n",
       "│    └─BatchNorm2d: 2-8                  --                        [1, 80, 54, 54]           160\n",
       "├─BasicConv2d: 1-6                       --                        [1, 192, 52, 52]          --\n",
       "│    └─Conv2d: 2-9                       [3, 3]                    [1, 192, 52, 52]          138,240\n",
       "│    └─BatchNorm2d: 2-10                 --                        [1, 192, 52, 52]          384\n",
       "├─MaxPool2d: 1-7                         3                         [1, 192, 25, 25]          --\n",
       "├─InceptionA: 1-8                        --                        [1, 256, 25, 25]          --\n",
       "│    └─BasicConv2d: 2-11                 --                        [1, 64, 25, 25]           --\n",
       "│    │    └─Conv2d: 3-1                  [1, 1]                    [1, 64, 25, 25]           12,288\n",
       "│    │    └─BatchNorm2d: 3-2             --                        [1, 64, 25, 25]           128\n",
       "│    └─BasicConv2d: 2-12                 --                        [1, 48, 25, 25]           --\n",
       "│    │    └─Conv2d: 3-3                  [1, 1]                    [1, 48, 25, 25]           9,216\n",
       "│    │    └─BatchNorm2d: 3-4             --                        [1, 48, 25, 25]           96\n",
       "│    └─BasicConv2d: 2-13                 --                        [1, 64, 25, 25]           --\n",
       "│    │    └─Conv2d: 3-5                  [5, 5]                    [1, 64, 25, 25]           76,800\n",
       "│    │    └─BatchNorm2d: 3-6             --                        [1, 64, 25, 25]           128\n",
       "│    └─BasicConv2d: 2-14                 --                        [1, 64, 25, 25]           --\n",
       "│    │    └─Conv2d: 3-7                  [1, 1]                    [1, 64, 25, 25]           12,288\n",
       "│    │    └─BatchNorm2d: 3-8             --                        [1, 64, 25, 25]           128\n",
       "│    └─BasicConv2d: 2-15                 --                        [1, 96, 25, 25]           --\n",
       "│    │    └─Conv2d: 3-9                  [3, 3]                    [1, 96, 25, 25]           55,296\n",
       "│    │    └─BatchNorm2d: 3-10            --                        [1, 96, 25, 25]           192\n",
       "│    └─BasicConv2d: 2-16                 --                        [1, 96, 25, 25]           --\n",
       "│    │    └─Conv2d: 3-11                 [3, 3]                    [1, 96, 25, 25]           82,944\n",
       "│    │    └─BatchNorm2d: 3-12            --                        [1, 96, 25, 25]           192\n",
       "│    └─BasicConv2d: 2-17                 --                        [1, 32, 25, 25]           --\n",
       "│    │    └─Conv2d: 3-13                 [1, 1]                    [1, 32, 25, 25]           6,144\n",
       "│    │    └─BatchNorm2d: 3-14            --                        [1, 32, 25, 25]           64\n",
       "├─InceptionA: 1-9                        --                        [1, 288, 25, 25]          --\n",
       "│    └─BasicConv2d: 2-18                 --                        [1, 64, 25, 25]           --\n",
       "│    │    └─Conv2d: 3-15                 [1, 1]                    [1, 64, 25, 25]           16,384\n",
       "│    │    └─BatchNorm2d: 3-16            --                        [1, 64, 25, 25]           128\n",
       "│    └─BasicConv2d: 2-19                 --                        [1, 48, 25, 25]           --\n",
       "│    │    └─Conv2d: 3-17                 [1, 1]                    [1, 48, 25, 25]           12,288\n",
       "│    │    └─BatchNorm2d: 3-18            --                        [1, 48, 25, 25]           96\n",
       "│    └─BasicConv2d: 2-20                 --                        [1, 64, 25, 25]           --\n",
       "│    │    └─Conv2d: 3-19                 [5, 5]                    [1, 64, 25, 25]           76,800\n",
       "│    │    └─BatchNorm2d: 3-20            --                        [1, 64, 25, 25]           128\n",
       "│    └─BasicConv2d: 2-21                 --                        [1, 64, 25, 25]           --\n",
       "│    │    └─Conv2d: 3-21                 [1, 1]                    [1, 64, 25, 25]           16,384\n",
       "│    │    └─BatchNorm2d: 3-22            --                        [1, 64, 25, 25]           128\n",
       "│    └─BasicConv2d: 2-22                 --                        [1, 96, 25, 25]           --\n",
       "│    │    └─Conv2d: 3-23                 [3, 3]                    [1, 96, 25, 25]           55,296\n",
       "│    │    └─BatchNorm2d: 3-24            --                        [1, 96, 25, 25]           192\n",
       "│    └─BasicConv2d: 2-23                 --                        [1, 96, 25, 25]           --\n",
       "│    │    └─Conv2d: 3-25                 [3, 3]                    [1, 96, 25, 25]           82,944\n",
       "│    │    └─BatchNorm2d: 3-26            --                        [1, 96, 25, 25]           192\n",
       "│    └─BasicConv2d: 2-24                 --                        [1, 64, 25, 25]           --\n",
       "│    │    └─Conv2d: 3-27                 [1, 1]                    [1, 64, 25, 25]           16,384\n",
       "│    │    └─BatchNorm2d: 3-28            --                        [1, 64, 25, 25]           128\n",
       "├─InceptionA: 1-10                       --                        [1, 288, 25, 25]          --\n",
       "│    └─BasicConv2d: 2-25                 --                        [1, 64, 25, 25]           --\n",
       "│    │    └─Conv2d: 3-29                 [1, 1]                    [1, 64, 25, 25]           18,432\n",
       "│    │    └─BatchNorm2d: 3-30            --                        [1, 64, 25, 25]           128\n",
       "│    └─BasicConv2d: 2-26                 --                        [1, 48, 25, 25]           --\n",
       "│    │    └─Conv2d: 3-31                 [1, 1]                    [1, 48, 25, 25]           13,824\n",
       "│    │    └─BatchNorm2d: 3-32            --                        [1, 48, 25, 25]           96\n",
       "│    └─BasicConv2d: 2-27                 --                        [1, 64, 25, 25]           --\n",
       "│    │    └─Conv2d: 3-33                 [5, 5]                    [1, 64, 25, 25]           76,800\n",
       "│    │    └─BatchNorm2d: 3-34            --                        [1, 64, 25, 25]           128\n",
       "│    └─BasicConv2d: 2-28                 --                        [1, 64, 25, 25]           --\n",
       "│    │    └─Conv2d: 3-35                 [1, 1]                    [1, 64, 25, 25]           18,432\n",
       "│    │    └─BatchNorm2d: 3-36            --                        [1, 64, 25, 25]           128\n",
       "│    └─BasicConv2d: 2-29                 --                        [1, 96, 25, 25]           --\n",
       "│    │    └─Conv2d: 3-37                 [3, 3]                    [1, 96, 25, 25]           55,296\n",
       "│    │    └─BatchNorm2d: 3-38            --                        [1, 96, 25, 25]           192\n",
       "│    └─BasicConv2d: 2-30                 --                        [1, 96, 25, 25]           --\n",
       "│    │    └─Conv2d: 3-39                 [3, 3]                    [1, 96, 25, 25]           82,944\n",
       "│    │    └─BatchNorm2d: 3-40            --                        [1, 96, 25, 25]           192\n",
       "│    └─BasicConv2d: 2-31                 --                        [1, 64, 25, 25]           --\n",
       "│    │    └─Conv2d: 3-41                 [1, 1]                    [1, 64, 25, 25]           18,432\n",
       "│    │    └─BatchNorm2d: 3-42            --                        [1, 64, 25, 25]           128\n",
       "├─InceptionB: 1-11                       --                        [1, 768, 12, 12]          --\n",
       "│    └─BasicConv2d: 2-32                 --                        [1, 384, 12, 12]          --\n",
       "│    │    └─Conv2d: 3-43                 [3, 3]                    [1, 384, 12, 12]          995,328\n",
       "│    │    └─BatchNorm2d: 3-44            --                        [1, 384, 12, 12]          768\n",
       "│    └─BasicConv2d: 2-33                 --                        [1, 64, 25, 25]           --\n",
       "│    │    └─Conv2d: 3-45                 [1, 1]                    [1, 64, 25, 25]           18,432\n",
       "│    │    └─BatchNorm2d: 3-46            --                        [1, 64, 25, 25]           128\n",
       "│    └─BasicConv2d: 2-34                 --                        [1, 96, 25, 25]           --\n",
       "│    │    └─Conv2d: 3-47                 [3, 3]                    [1, 96, 25, 25]           55,296\n",
       "│    │    └─BatchNorm2d: 3-48            --                        [1, 96, 25, 25]           192\n",
       "│    └─BasicConv2d: 2-35                 --                        [1, 96, 12, 12]           --\n",
       "│    │    └─Conv2d: 3-49                 [3, 3]                    [1, 96, 12, 12]           82,944\n",
       "│    │    └─BatchNorm2d: 3-50            --                        [1, 96, 12, 12]           192\n",
       "├─InceptionC: 1-12                       --                        [1, 768, 12, 12]          --\n",
       "│    └─BasicConv2d: 2-36                 --                        [1, 192, 12, 12]          --\n",
       "│    │    └─Conv2d: 3-51                 [1, 1]                    [1, 192, 12, 12]          147,456\n",
       "│    │    └─BatchNorm2d: 3-52            --                        [1, 192, 12, 12]          384\n",
       "│    └─BasicConv2d: 2-37                 --                        [1, 128, 12, 12]          --\n",
       "│    │    └─Conv2d: 3-53                 [1, 1]                    [1, 128, 12, 12]          98,304\n",
       "│    │    └─BatchNorm2d: 3-54            --                        [1, 128, 12, 12]          256\n",
       "│    └─BasicConv2d: 2-38                 --                        [1, 128, 12, 12]          --\n",
       "│    │    └─Conv2d: 3-55                 [1, 7]                    [1, 128, 12, 12]          114,688\n",
       "│    │    └─BatchNorm2d: 3-56            --                        [1, 128, 12, 12]          256\n",
       "│    └─BasicConv2d: 2-39                 --                        [1, 192, 12, 12]          --\n",
       "│    │    └─Conv2d: 3-57                 [7, 1]                    [1, 192, 12, 12]          172,032\n",
       "│    │    └─BatchNorm2d: 3-58            --                        [1, 192, 12, 12]          384\n",
       "│    └─BasicConv2d: 2-40                 --                        [1, 128, 12, 12]          --\n",
       "│    │    └─Conv2d: 3-59                 [1, 1]                    [1, 128, 12, 12]          98,304\n",
       "│    │    └─BatchNorm2d: 3-60            --                        [1, 128, 12, 12]          256\n",
       "│    └─BasicConv2d: 2-41                 --                        [1, 128, 12, 12]          --\n",
       "│    │    └─Conv2d: 3-61                 [7, 1]                    [1, 128, 12, 12]          114,688\n",
       "│    │    └─BatchNorm2d: 3-62            --                        [1, 128, 12, 12]          256\n",
       "│    └─BasicConv2d: 2-42                 --                        [1, 128, 12, 12]          --\n",
       "│    │    └─Conv2d: 3-63                 [1, 7]                    [1, 128, 12, 12]          114,688\n",
       "│    │    └─BatchNorm2d: 3-64            --                        [1, 128, 12, 12]          256\n",
       "│    └─BasicConv2d: 2-43                 --                        [1, 128, 12, 12]          --\n",
       "│    │    └─Conv2d: 3-65                 [7, 1]                    [1, 128, 12, 12]          114,688\n",
       "│    │    └─BatchNorm2d: 3-66            --                        [1, 128, 12, 12]          256\n",
       "│    └─BasicConv2d: 2-44                 --                        [1, 192, 12, 12]          --\n",
       "│    │    └─Conv2d: 3-67                 [1, 7]                    [1, 192, 12, 12]          172,032\n",
       "│    │    └─BatchNorm2d: 3-68            --                        [1, 192, 12, 12]          384\n",
       "│    └─BasicConv2d: 2-45                 --                        [1, 192, 12, 12]          --\n",
       "│    │    └─Conv2d: 3-69                 [1, 1]                    [1, 192, 12, 12]          147,456\n",
       "│    │    └─BatchNorm2d: 3-70            --                        [1, 192, 12, 12]          384\n",
       "├─InceptionC: 1-13                       --                        [1, 768, 12, 12]          --\n",
       "│    └─BasicConv2d: 2-46                 --                        [1, 192, 12, 12]          --\n",
       "│    │    └─Conv2d: 3-71                 [1, 1]                    [1, 192, 12, 12]          147,456\n",
       "│    │    └─BatchNorm2d: 3-72            --                        [1, 192, 12, 12]          384\n",
       "│    └─BasicConv2d: 2-47                 --                        [1, 160, 12, 12]          --\n",
       "│    │    └─Conv2d: 3-73                 [1, 1]                    [1, 160, 12, 12]          122,880\n",
       "│    │    └─BatchNorm2d: 3-74            --                        [1, 160, 12, 12]          320\n",
       "│    └─BasicConv2d: 2-48                 --                        [1, 160, 12, 12]          --\n",
       "│    │    └─Conv2d: 3-75                 [1, 7]                    [1, 160, 12, 12]          179,200\n",
       "│    │    └─BatchNorm2d: 3-76            --                        [1, 160, 12, 12]          320\n",
       "│    └─BasicConv2d: 2-49                 --                        [1, 192, 12, 12]          --\n",
       "│    │    └─Conv2d: 3-77                 [7, 1]                    [1, 192, 12, 12]          215,040\n",
       "│    │    └─BatchNorm2d: 3-78            --                        [1, 192, 12, 12]          384\n",
       "│    └─BasicConv2d: 2-50                 --                        [1, 160, 12, 12]          --\n",
       "│    │    └─Conv2d: 3-79                 [1, 1]                    [1, 160, 12, 12]          122,880\n",
       "│    │    └─BatchNorm2d: 3-80            --                        [1, 160, 12, 12]          320\n",
       "│    └─BasicConv2d: 2-51                 --                        [1, 160, 12, 12]          --\n",
       "│    │    └─Conv2d: 3-81                 [7, 1]                    [1, 160, 12, 12]          179,200\n",
       "│    │    └─BatchNorm2d: 3-82            --                        [1, 160, 12, 12]          320\n",
       "│    └─BasicConv2d: 2-52                 --                        [1, 160, 12, 12]          --\n",
       "│    │    └─Conv2d: 3-83                 [1, 7]                    [1, 160, 12, 12]          179,200\n",
       "│    │    └─BatchNorm2d: 3-84            --                        [1, 160, 12, 12]          320\n",
       "│    └─BasicConv2d: 2-53                 --                        [1, 160, 12, 12]          --\n",
       "│    │    └─Conv2d: 3-85                 [7, 1]                    [1, 160, 12, 12]          179,200\n",
       "│    │    └─BatchNorm2d: 3-86            --                        [1, 160, 12, 12]          320\n",
       "│    └─BasicConv2d: 2-54                 --                        [1, 192, 12, 12]          --\n",
       "│    │    └─Conv2d: 3-87                 [1, 7]                    [1, 192, 12, 12]          215,040\n",
       "│    │    └─BatchNorm2d: 3-88            --                        [1, 192, 12, 12]          384\n",
       "│    └─BasicConv2d: 2-55                 --                        [1, 192, 12, 12]          --\n",
       "│    │    └─Conv2d: 3-89                 [1, 1]                    [1, 192, 12, 12]          147,456\n",
       "│    │    └─BatchNorm2d: 3-90            --                        [1, 192, 12, 12]          384\n",
       "├─InceptionC: 1-14                       --                        [1, 768, 12, 12]          --\n",
       "│    └─BasicConv2d: 2-56                 --                        [1, 192, 12, 12]          --\n",
       "│    │    └─Conv2d: 3-91                 [1, 1]                    [1, 192, 12, 12]          147,456\n",
       "│    │    └─BatchNorm2d: 3-92            --                        [1, 192, 12, 12]          384\n",
       "│    └─BasicConv2d: 2-57                 --                        [1, 160, 12, 12]          --\n",
       "│    │    └─Conv2d: 3-93                 [1, 1]                    [1, 160, 12, 12]          122,880\n",
       "│    │    └─BatchNorm2d: 3-94            --                        [1, 160, 12, 12]          320\n",
       "│    └─BasicConv2d: 2-58                 --                        [1, 160, 12, 12]          --\n",
       "│    │    └─Conv2d: 3-95                 [1, 7]                    [1, 160, 12, 12]          179,200\n",
       "│    │    └─BatchNorm2d: 3-96            --                        [1, 160, 12, 12]          320\n",
       "│    └─BasicConv2d: 2-59                 --                        [1, 192, 12, 12]          --\n",
       "│    │    └─Conv2d: 3-97                 [7, 1]                    [1, 192, 12, 12]          215,040\n",
       "│    │    └─BatchNorm2d: 3-98            --                        [1, 192, 12, 12]          384\n",
       "│    └─BasicConv2d: 2-60                 --                        [1, 160, 12, 12]          --\n",
       "│    │    └─Conv2d: 3-99                 [1, 1]                    [1, 160, 12, 12]          122,880\n",
       "│    │    └─BatchNorm2d: 3-100           --                        [1, 160, 12, 12]          320\n",
       "│    └─BasicConv2d: 2-61                 --                        [1, 160, 12, 12]          --\n",
       "│    │    └─Conv2d: 3-101                [7, 1]                    [1, 160, 12, 12]          179,200\n",
       "│    │    └─BatchNorm2d: 3-102           --                        [1, 160, 12, 12]          320\n",
       "│    └─BasicConv2d: 2-62                 --                        [1, 160, 12, 12]          --\n",
       "│    │    └─Conv2d: 3-103                [1, 7]                    [1, 160, 12, 12]          179,200\n",
       "│    │    └─BatchNorm2d: 3-104           --                        [1, 160, 12, 12]          320\n",
       "│    └─BasicConv2d: 2-63                 --                        [1, 160, 12, 12]          --\n",
       "│    │    └─Conv2d: 3-105                [7, 1]                    [1, 160, 12, 12]          179,200\n",
       "│    │    └─BatchNorm2d: 3-106           --                        [1, 160, 12, 12]          320\n",
       "│    └─BasicConv2d: 2-64                 --                        [1, 192, 12, 12]          --\n",
       "│    │    └─Conv2d: 3-107                [1, 7]                    [1, 192, 12, 12]          215,040\n",
       "│    │    └─BatchNorm2d: 3-108           --                        [1, 192, 12, 12]          384\n",
       "│    └─BasicConv2d: 2-65                 --                        [1, 192, 12, 12]          --\n",
       "│    │    └─Conv2d: 3-109                [1, 1]                    [1, 192, 12, 12]          147,456\n",
       "│    │    └─BatchNorm2d: 3-110           --                        [1, 192, 12, 12]          384\n",
       "├─InceptionC: 1-15                       --                        [1, 768, 12, 12]          --\n",
       "│    └─BasicConv2d: 2-66                 --                        [1, 192, 12, 12]          --\n",
       "│    │    └─Conv2d: 3-111                [1, 1]                    [1, 192, 12, 12]          147,456\n",
       "│    │    └─BatchNorm2d: 3-112           --                        [1, 192, 12, 12]          384\n",
       "│    └─BasicConv2d: 2-67                 --                        [1, 192, 12, 12]          --\n",
       "│    │    └─Conv2d: 3-113                [1, 1]                    [1, 192, 12, 12]          147,456\n",
       "│    │    └─BatchNorm2d: 3-114           --                        [1, 192, 12, 12]          384\n",
       "│    └─BasicConv2d: 2-68                 --                        [1, 192, 12, 12]          --\n",
       "│    │    └─Conv2d: 3-115                [1, 7]                    [1, 192, 12, 12]          258,048\n",
       "│    │    └─BatchNorm2d: 3-116           --                        [1, 192, 12, 12]          384\n",
       "│    └─BasicConv2d: 2-69                 --                        [1, 192, 12, 12]          --\n",
       "│    │    └─Conv2d: 3-117                [7, 1]                    [1, 192, 12, 12]          258,048\n",
       "│    │    └─BatchNorm2d: 3-118           --                        [1, 192, 12, 12]          384\n",
       "│    └─BasicConv2d: 2-70                 --                        [1, 192, 12, 12]          --\n",
       "│    │    └─Conv2d: 3-119                [1, 1]                    [1, 192, 12, 12]          147,456\n",
       "│    │    └─BatchNorm2d: 3-120           --                        [1, 192, 12, 12]          384\n",
       "│    └─BasicConv2d: 2-71                 --                        [1, 192, 12, 12]          --\n",
       "│    │    └─Conv2d: 3-121                [7, 1]                    [1, 192, 12, 12]          258,048\n",
       "│    │    └─BatchNorm2d: 3-122           --                        [1, 192, 12, 12]          384\n",
       "│    └─BasicConv2d: 2-72                 --                        [1, 192, 12, 12]          --\n",
       "│    │    └─Conv2d: 3-123                [1, 7]                    [1, 192, 12, 12]          258,048\n",
       "│    │    └─BatchNorm2d: 3-124           --                        [1, 192, 12, 12]          384\n",
       "│    └─BasicConv2d: 2-73                 --                        [1, 192, 12, 12]          --\n",
       "│    │    └─Conv2d: 3-125                [7, 1]                    [1, 192, 12, 12]          258,048\n",
       "│    │    └─BatchNorm2d: 3-126           --                        [1, 192, 12, 12]          384\n",
       "│    └─BasicConv2d: 2-74                 --                        [1, 192, 12, 12]          --\n",
       "│    │    └─Conv2d: 3-127                [1, 7]                    [1, 192, 12, 12]          258,048\n",
       "│    │    └─BatchNorm2d: 3-128           --                        [1, 192, 12, 12]          384\n",
       "│    └─BasicConv2d: 2-75                 --                        [1, 192, 12, 12]          --\n",
       "│    │    └─Conv2d: 3-129                [1, 1]                    [1, 192, 12, 12]          147,456\n",
       "│    │    └─BatchNorm2d: 3-130           --                        [1, 192, 12, 12]          384\n",
       "├─InceptionD: 1-16                       --                        [1, 1280, 5, 5]           --\n",
       "│    └─BasicConv2d: 2-76                 --                        [1, 192, 12, 12]          --\n",
       "│    │    └─Conv2d: 3-131                [1, 1]                    [1, 192, 12, 12]          147,456\n",
       "│    │    └─BatchNorm2d: 3-132           --                        [1, 192, 12, 12]          384\n",
       "│    └─BasicConv2d: 2-77                 --                        [1, 320, 5, 5]            --\n",
       "│    │    └─Conv2d: 3-133                [3, 3]                    [1, 320, 5, 5]            552,960\n",
       "│    │    └─BatchNorm2d: 3-134           --                        [1, 320, 5, 5]            640\n",
       "│    └─BasicConv2d: 2-78                 --                        [1, 192, 12, 12]          --\n",
       "│    │    └─Conv2d: 3-135                [1, 1]                    [1, 192, 12, 12]          147,456\n",
       "│    │    └─BatchNorm2d: 3-136           --                        [1, 192, 12, 12]          384\n",
       "│    └─BasicConv2d: 2-79                 --                        [1, 192, 12, 12]          --\n",
       "│    │    └─Conv2d: 3-137                [1, 7]                    [1, 192, 12, 12]          258,048\n",
       "│    │    └─BatchNorm2d: 3-138           --                        [1, 192, 12, 12]          384\n",
       "│    └─BasicConv2d: 2-80                 --                        [1, 192, 12, 12]          --\n",
       "│    │    └─Conv2d: 3-139                [7, 1]                    [1, 192, 12, 12]          258,048\n",
       "│    │    └─BatchNorm2d: 3-140           --                        [1, 192, 12, 12]          384\n",
       "│    └─BasicConv2d: 2-81                 --                        [1, 192, 5, 5]            --\n",
       "│    │    └─Conv2d: 3-141                [3, 3]                    [1, 192, 5, 5]            331,776\n",
       "│    │    └─BatchNorm2d: 3-142           --                        [1, 192, 5, 5]            384\n",
       "├─InceptionE: 1-17                       --                        [1, 2048, 5, 5]           --\n",
       "│    └─BasicConv2d: 2-82                 --                        [1, 320, 5, 5]            --\n",
       "│    │    └─Conv2d: 3-143                [1, 1]                    [1, 320, 5, 5]            409,600\n",
       "│    │    └─BatchNorm2d: 3-144           --                        [1, 320, 5, 5]            640\n",
       "│    └─BasicConv2d: 2-83                 --                        [1, 384, 5, 5]            --\n",
       "│    │    └─Conv2d: 3-145                [1, 1]                    [1, 384, 5, 5]            491,520\n",
       "│    │    └─BatchNorm2d: 3-146           --                        [1, 384, 5, 5]            768\n",
       "│    └─BasicConv2d: 2-84                 --                        [1, 384, 5, 5]            --\n",
       "│    │    └─Conv2d: 3-147                [1, 3]                    [1, 384, 5, 5]            442,368\n",
       "│    │    └─BatchNorm2d: 3-148           --                        [1, 384, 5, 5]            768\n",
       "│    └─BasicConv2d: 2-85                 --                        [1, 384, 5, 5]            --\n",
       "│    │    └─Conv2d: 3-149                [3, 1]                    [1, 384, 5, 5]            442,368\n",
       "│    │    └─BatchNorm2d: 3-150           --                        [1, 384, 5, 5]            768\n",
       "│    └─BasicConv2d: 2-86                 --                        [1, 448, 5, 5]            --\n",
       "│    │    └─Conv2d: 3-151                [1, 1]                    [1, 448, 5, 5]            573,440\n",
       "│    │    └─BatchNorm2d: 3-152           --                        [1, 448, 5, 5]            896\n",
       "│    └─BasicConv2d: 2-87                 --                        [1, 384, 5, 5]            --\n",
       "│    │    └─Conv2d: 3-153                [3, 3]                    [1, 384, 5, 5]            1,548,288\n",
       "│    │    └─BatchNorm2d: 3-154           --                        [1, 384, 5, 5]            768\n",
       "│    └─BasicConv2d: 2-88                 --                        [1, 384, 5, 5]            --\n",
       "│    │    └─Conv2d: 3-155                [1, 3]                    [1, 384, 5, 5]            442,368\n",
       "│    │    └─BatchNorm2d: 3-156           --                        [1, 384, 5, 5]            768\n",
       "│    └─BasicConv2d: 2-89                 --                        [1, 384, 5, 5]            --\n",
       "│    │    └─Conv2d: 3-157                [3, 1]                    [1, 384, 5, 5]            442,368\n",
       "│    │    └─BatchNorm2d: 3-158           --                        [1, 384, 5, 5]            768\n",
       "│    └─BasicConv2d: 2-90                 --                        [1, 192, 5, 5]            --\n",
       "│    │    └─Conv2d: 3-159                [1, 1]                    [1, 192, 5, 5]            245,760\n",
       "│    │    └─BatchNorm2d: 3-160           --                        [1, 192, 5, 5]            384\n",
       "├─InceptionE: 1-18                       --                        [1, 2048, 5, 5]           --\n",
       "│    └─BasicConv2d: 2-91                 --                        [1, 320, 5, 5]            --\n",
       "│    │    └─Conv2d: 3-161                [1, 1]                    [1, 320, 5, 5]            655,360\n",
       "│    │    └─BatchNorm2d: 3-162           --                        [1, 320, 5, 5]            640\n",
       "│    └─BasicConv2d: 2-92                 --                        [1, 384, 5, 5]            --\n",
       "│    │    └─Conv2d: 3-163                [1, 1]                    [1, 384, 5, 5]            786,432\n",
       "│    │    └─BatchNorm2d: 3-164           --                        [1, 384, 5, 5]            768\n",
       "│    └─BasicConv2d: 2-93                 --                        [1, 384, 5, 5]            --\n",
       "│    │    └─Conv2d: 3-165                [1, 3]                    [1, 384, 5, 5]            442,368\n",
       "│    │    └─BatchNorm2d: 3-166           --                        [1, 384, 5, 5]            768\n",
       "│    └─BasicConv2d: 2-94                 --                        [1, 384, 5, 5]            --\n",
       "│    │    └─Conv2d: 3-167                [3, 1]                    [1, 384, 5, 5]            442,368\n",
       "│    │    └─BatchNorm2d: 3-168           --                        [1, 384, 5, 5]            768\n",
       "│    └─BasicConv2d: 2-95                 --                        [1, 448, 5, 5]            --\n",
       "│    │    └─Conv2d: 3-169                [1, 1]                    [1, 448, 5, 5]            917,504\n",
       "│    │    └─BatchNorm2d: 3-170           --                        [1, 448, 5, 5]            896\n",
       "│    └─BasicConv2d: 2-96                 --                        [1, 384, 5, 5]            --\n",
       "│    │    └─Conv2d: 3-171                [3, 3]                    [1, 384, 5, 5]            1,548,288\n",
       "│    │    └─BatchNorm2d: 3-172           --                        [1, 384, 5, 5]            768\n",
       "│    └─BasicConv2d: 2-97                 --                        [1, 384, 5, 5]            --\n",
       "│    │    └─Conv2d: 3-173                [1, 3]                    [1, 384, 5, 5]            442,368\n",
       "│    │    └─BatchNorm2d: 3-174           --                        [1, 384, 5, 5]            768\n",
       "│    └─BasicConv2d: 2-98                 --                        [1, 384, 5, 5]            --\n",
       "│    │    └─Conv2d: 3-175                [3, 1]                    [1, 384, 5, 5]            442,368\n",
       "│    │    └─BatchNorm2d: 3-176           --                        [1, 384, 5, 5]            768\n",
       "│    └─BasicConv2d: 2-99                 --                        [1, 192, 5, 5]            --\n",
       "│    │    └─Conv2d: 3-177                [1, 1]                    [1, 192, 5, 5]            393,216\n",
       "│    │    └─BatchNorm2d: 3-178           --                        [1, 192, 5, 5]            384\n",
       "├─AdaptiveAvgPool2d: 1-19                --                        [1, 2048, 1, 1]           --\n",
       "├─Dropout: 1-20                          --                        [1, 2048, 1, 1]           --\n",
       "├─Linear: 1-21                           --                        [1, 1000]                 2,049,000\n",
       "===================================================================================================================\n",
       "Total params: 27,161,264\n",
       "Trainable params: 27,161,264\n",
       "Non-trainable params: 0\n",
       "Total mult-adds (Units.GIGABYTES): 2.84\n",
       "===================================================================================================================\n",
       "Input size (MB): 0.60\n",
       "Forward/backward pass size (MB): 74.38\n",
       "Params size (MB): 95.34\n",
       "Estimated Total Size (MB): 170.32\n",
       "==================================================================================================================="
      ]
     },
     "execution_count": 6,
     "metadata": {},
     "output_type": "execute_result"
    }
   ],
   "source": [
    "torchinfo.summary(model, input_size=(1, 3, 224, 224), depth=3, col_names=[\"kernel_size\", \"output_size\", \"num_params\"])"
   ]
  },
  {
   "cell_type": "code",
   "execution_count": 7,
   "id": "26a064ec",
   "metadata": {},
   "outputs": [],
   "source": [
    "def build_inceptionv3_transfer(num_classes: int = 4) -> nn.Module:\n",
    "    model = inception_v3(weights=Inception_V3_Weights.DEFAULT)\n",
    "\n",
    "    # Reemplazar la capa fully connected final\n",
    "    in_features = model.fc.in_features\n",
    "    aux_in_features = model.AuxLogits.fc.in_features\n",
    "    model.fc = nn.Linear(in_features, num_classes)\n",
    "    model.AuxLogits.fc = nn.Linear(aux_in_features, num_classes)\n",
    "\n",
    "    # Congelar todos los parámetros\n",
    "    for param in model.parameters():\n",
    "        param.requires_grad = False\n",
    "\n",
    "    # Descongelar solo la nueva fc\n",
    "    for param in model.fc.parameters():\n",
    "        param.requires_grad = True\n",
    "    for param in model.AuxLogits.fc.parameters():\n",
    "        param.requires_grad = True\n",
    "\n",
    "    return model\n",
    "\n",
    "def build_inceptionv3_finetune(num_classes: int = 4) -> nn.Module:\n",
    "    model = inception_v3(weights=Inception_V3_Weights.DEFAULT)\n",
    "\n",
    "    # Reemplazar la capa fully connected final\n",
    "    in_features = model.fc.in_features\n",
    "    aux_in_features = model.AuxLogits.fc.in_features\n",
    "    model.fc = nn.Linear(in_features, num_classes)\n",
    "    model.AuxLogits.fc = nn.Linear(aux_in_features, num_classes)\n",
    "\n",
    "    # Congelar todo menos layer4 y fc\n",
    "    for name, param in model.named_parameters():\n",
    "        if any(layer in name for layer in [\"Mixed_7\", \"fc\", \"AuxLogits\"]):\n",
    "            param.requires_grad = True\n",
    "        else:\n",
    "            param.requires_grad = False\n",
    "\n",
    "    return model"
   ]
  },
  {
   "cell_type": "code",
   "execution_count": 8,
   "id": "cc6022d7",
   "metadata": {},
   "outputs": [
    {
     "name": "stdout",
     "output_type": "stream",
     "text": [
      "Entrenando: AuxLogits.fc.weight\n",
      "Entrenando: AuxLogits.fc.bias\n",
      "Entrenando: fc.weight\n",
      "Entrenando: fc.bias\n"
     ]
    }
   ],
   "source": [
    "model = build_inceptionv3_transfer(num_classes=4)\n",
    "\n",
    "# Verificación\n",
    "for name, param in model.named_parameters():\n",
    "    if param.requires_grad:\n",
    "        print(f\"Entrenando: {name}\")"
   ]
  },
  {
   "cell_type": "code",
   "execution_count": 9,
   "id": "3e791253",
   "metadata": {},
   "outputs": [
    {
     "name": "stderr",
     "output_type": "stream",
     "text": [
      "loss 1.67058 acc 0.42725: 100%|██████████| 16/16 [00:23<00:00,  1.45s/it]\n",
      "val_loss 1.24161 val_acc 0.33333: 100%|██████████| 1/1 [00:00<00:00,  3.28it/s]\n"
     ]
    },
    {
     "name": "stdout",
     "output_type": "stream",
     "text": [
      "Epoch 1/100 loss 1.67058 val_loss 1.24161 acc 0.42725 val_acc 0.33333 train_f1 0.42030 val_f1 0.33044\n",
      "Mejor modelo guardado en la época 1 con val_loss 1.24161\n",
      "Mejor modelo guardado.\n"
     ]
    },
    {
     "name": "stderr",
     "output_type": "stream",
     "text": [
      "loss 1.24391 acc 0.64902: 100%|██████████| 16/16 [00:23<00:00,  1.44s/it]\n",
      "val_loss 1.18294 val_acc 0.37500: 100%|██████████| 1/1 [00:00<00:00,  3.24it/s]\n"
     ]
    },
    {
     "name": "stdout",
     "output_type": "stream",
     "text": [
      "Epoch 2/100 loss 1.24391 val_loss 1.18294 acc 0.64902 val_acc 0.37500 train_f1 0.63931 val_f1 0.34401\n",
      "Mejor modelo guardado en la época 2 con val_loss 1.18294\n",
      "Mejor modelo guardado.\n"
     ]
    },
    {
     "name": "stderr",
     "output_type": "stream",
     "text": [
      "loss 1.06532 acc 0.71475: 100%|██████████| 16/16 [00:23<00:00,  1.44s/it]\n",
      "val_loss 1.07716 val_acc 0.48611: 100%|██████████| 1/1 [00:00<00:00,  3.04it/s]\n"
     ]
    },
    {
     "name": "stdout",
     "output_type": "stream",
     "text": [
      "Epoch 3/100 loss 1.06532 val_loss 1.07716 acc 0.71475 val_acc 0.48611 train_f1 0.70915 val_f1 0.44107\n",
      "Mejor modelo guardado en la época 3 con val_loss 1.07716\n",
      "Mejor modelo guardado.\n"
     ]
    },
    {
     "name": "stderr",
     "output_type": "stream",
     "text": [
      "loss 0.97880 acc 0.71343: 100%|██████████| 16/16 [00:23<00:00,  1.46s/it]\n",
      "val_loss 0.94215 val_acc 0.55556: 100%|██████████| 1/1 [00:00<00:00,  3.25it/s]\n"
     ]
    },
    {
     "name": "stdout",
     "output_type": "stream",
     "text": [
      "Epoch 4/100 loss 0.97880 val_loss 0.94215 acc 0.71343 val_acc 0.55556 train_f1 0.70591 val_f1 0.54153\n",
      "Mejor modelo guardado en la época 4 con val_loss 0.94215\n",
      "Mejor modelo guardado.\n"
     ]
    },
    {
     "name": "stderr",
     "output_type": "stream",
     "text": [
      "loss 0.91317 acc 0.74282: 100%|██████████| 16/16 [00:22<00:00,  1.40s/it]\n",
      "val_loss 0.91530 val_acc 0.56944: 100%|██████████| 1/1 [00:00<00:00,  3.09it/s]\n"
     ]
    },
    {
     "name": "stdout",
     "output_type": "stream",
     "text": [
      "Epoch 5/100 loss 0.91317 val_loss 0.91530 acc 0.74282 val_acc 0.56944 train_f1 0.73834 val_f1 0.55737\n",
      "Mejor modelo guardado en la época 5 con val_loss 0.91530\n",
      "Mejor modelo guardado.\n"
     ]
    },
    {
     "name": "stderr",
     "output_type": "stream",
     "text": [
      "loss 0.84633 acc 0.76411: 100%|██████████| 16/16 [00:22<00:00,  1.43s/it]\n",
      "val_loss 0.91263 val_acc 0.54167: 100%|██████████| 1/1 [00:00<00:00,  3.18it/s]\n"
     ]
    },
    {
     "name": "stdout",
     "output_type": "stream",
     "text": [
      "Epoch 6/100 loss 0.84633 val_loss 0.91263 acc 0.76411 val_acc 0.54167 train_f1 0.76064 val_f1 0.52638\n",
      "Mejor modelo guardado en la época 6 con val_loss 0.91263\n",
      "Mejor modelo guardado.\n"
     ]
    },
    {
     "name": "stderr",
     "output_type": "stream",
     "text": [
      "loss 0.81040 acc 0.76670: 100%|██████████| 16/16 [00:22<00:00,  1.40s/it]\n",
      "val_loss 0.91066 val_acc 0.52778: 100%|██████████| 1/1 [00:00<00:00,  3.12it/s]\n"
     ]
    },
    {
     "name": "stdout",
     "output_type": "stream",
     "text": [
      "Epoch 7/100 loss 0.81040 val_loss 0.91066 acc 0.76670 val_acc 0.52778 train_f1 0.76468 val_f1 0.52002\n",
      "Mejor modelo guardado en la época 7 con val_loss 0.91066\n",
      "Mejor modelo guardado.\n"
     ]
    },
    {
     "name": "stderr",
     "output_type": "stream",
     "text": [
      "loss 0.77523 acc 0.77144: 100%|██████████| 16/16 [00:22<00:00,  1.39s/it]\n",
      "val_loss 0.89422 val_acc 0.56944: 100%|██████████| 1/1 [00:00<00:00,  3.38it/s]\n"
     ]
    },
    {
     "name": "stdout",
     "output_type": "stream",
     "text": [
      "Epoch 8/100 loss 0.77523 val_loss 0.89422 acc 0.77144 val_acc 0.56944 train_f1 0.76894 val_f1 0.56342\n",
      "Mejor modelo guardado en la época 8 con val_loss 0.89422\n",
      "Mejor modelo guardado.\n"
     ]
    },
    {
     "name": "stderr",
     "output_type": "stream",
     "text": [
      "loss 0.76119 acc 0.77305: 100%|██████████| 16/16 [00:21<00:00,  1.37s/it]\n",
      "val_loss 0.90240 val_acc 0.56944: 100%|██████████| 1/1 [00:00<00:00,  3.35it/s]\n"
     ]
    },
    {
     "name": "stdout",
     "output_type": "stream",
     "text": [
      "Epoch 9/100 loss 0.76119 val_loss 0.90240 acc 0.77305 val_acc 0.56944 train_f1 0.77209 val_f1 0.55762\n"
     ]
    },
    {
     "name": "stderr",
     "output_type": "stream",
     "text": [
      "loss 0.72861 acc 0.78047: 100%|██████████| 16/16 [00:21<00:00,  1.36s/it]\n",
      "val_loss 0.91182 val_acc 0.56944: 100%|██████████| 1/1 [00:00<00:00,  3.12it/s]\n"
     ]
    },
    {
     "name": "stdout",
     "output_type": "stream",
     "text": [
      "Epoch 10/100 loss 0.72861 val_loss 0.91182 acc 0.78047 val_acc 0.56944 train_f1 0.77861 val_f1 0.55312\n"
     ]
    },
    {
     "name": "stderr",
     "output_type": "stream",
     "text": [
      "loss 0.71251 acc 0.78911: 100%|██████████| 16/16 [00:21<00:00,  1.37s/it]\n",
      "val_loss 0.86720 val_acc 0.56944: 100%|██████████| 1/1 [00:00<00:00,  3.07it/s]\n"
     ]
    },
    {
     "name": "stdout",
     "output_type": "stream",
     "text": [
      "Epoch 11/100 loss 0.71251 val_loss 0.86720 acc 0.78911 val_acc 0.56944 train_f1 0.78618 val_f1 0.56898\n",
      "Mejor modelo guardado en la época 11 con val_loss 0.86720\n",
      "Mejor modelo guardado.\n"
     ]
    },
    {
     "name": "stderr",
     "output_type": "stream",
     "text": [
      "loss 0.70292 acc 0.79341: 100%|██████████| 16/16 [00:22<00:00,  1.38s/it]\n",
      "val_loss 0.85476 val_acc 0.62500: 100%|██████████| 1/1 [00:00<00:00,  3.17it/s]\n"
     ]
    },
    {
     "name": "stdout",
     "output_type": "stream",
     "text": [
      "Epoch 12/100 loss 0.70292 val_loss 0.85476 acc 0.79341 val_acc 0.62500 train_f1 0.78996 val_f1 0.62138\n",
      "Mejor modelo guardado en la época 12 con val_loss 0.85476\n",
      "Mejor modelo guardado.\n"
     ]
    },
    {
     "name": "stderr",
     "output_type": "stream",
     "text": [
      "loss 0.67064 acc 0.80557: 100%|██████████| 16/16 [00:22<00:00,  1.40s/it]\n",
      "val_loss 0.85337 val_acc 0.62500: 100%|██████████| 1/1 [00:00<00:00,  3.17it/s]\n"
     ]
    },
    {
     "name": "stdout",
     "output_type": "stream",
     "text": [
      "Epoch 13/100 loss 0.67064 val_loss 0.85337 acc 0.80557 val_acc 0.62500 train_f1 0.80409 val_f1 0.62284\n",
      "Mejor modelo guardado en la época 13 con val_loss 0.85337\n",
      "Mejor modelo guardado.\n"
     ]
    },
    {
     "name": "stderr",
     "output_type": "stream",
     "text": [
      "loss 0.66610 acc 0.80322: 100%|██████████| 16/16 [00:22<00:00,  1.40s/it]\n",
      "val_loss 0.86306 val_acc 0.59722: 100%|██████████| 1/1 [00:00<00:00,  3.35it/s]\n"
     ]
    },
    {
     "name": "stdout",
     "output_type": "stream",
     "text": [
      "Epoch 14/100 loss 0.66610 val_loss 0.86306 acc 0.80322 val_acc 0.59722 train_f1 0.80321 val_f1 0.59312\n"
     ]
    },
    {
     "name": "stderr",
     "output_type": "stream",
     "text": [
      "loss 0.64585 acc 0.80957: 100%|██████████| 16/16 [00:21<00:00,  1.37s/it]\n",
      "val_loss 0.86865 val_acc 0.59722: 100%|██████████| 1/1 [00:00<00:00,  3.29it/s]\n"
     ]
    },
    {
     "name": "stdout",
     "output_type": "stream",
     "text": [
      "Epoch 15/100 loss 0.64585 val_loss 0.86865 acc 0.80957 val_acc 0.59722 train_f1 0.80744 val_f1 0.59811\n"
     ]
    },
    {
     "name": "stderr",
     "output_type": "stream",
     "text": [
      "loss 0.61925 acc 0.81108: 100%|██████████| 16/16 [00:22<00:00,  1.38s/it]\n",
      "val_loss 0.85749 val_acc 0.59722: 100%|██████████| 1/1 [00:00<00:00,  2.96it/s]\n"
     ]
    },
    {
     "name": "stdout",
     "output_type": "stream",
     "text": [
      "Epoch 16/100 loss 0.61925 val_loss 0.85749 acc 0.81108 val_acc 0.59722 train_f1 0.80921 val_f1 0.59272\n"
     ]
    },
    {
     "name": "stderr",
     "output_type": "stream",
     "text": [
      "loss 0.62016 acc 0.81616: 100%|██████████| 16/16 [00:22<00:00,  1.40s/it]\n",
      "val_loss 0.84401 val_acc 0.59722: 100%|██████████| 1/1 [00:00<00:00,  3.15it/s]\n"
     ]
    },
    {
     "name": "stdout",
     "output_type": "stream",
     "text": [
      "Epoch 17/100 loss 0.62016 val_loss 0.84401 acc 0.81616 val_acc 0.59722 train_f1 0.81571 val_f1 0.59581\n",
      "Mejor modelo guardado en la época 17 con val_loss 0.84401\n",
      "Mejor modelo guardado.\n"
     ]
    },
    {
     "name": "stderr",
     "output_type": "stream",
     "text": [
      "loss 0.59088 acc 0.82695: 100%|██████████| 16/16 [00:22<00:00,  1.40s/it]\n",
      "val_loss 0.84504 val_acc 0.63889: 100%|██████████| 1/1 [00:00<00:00,  3.23it/s]\n"
     ]
    },
    {
     "name": "stdout",
     "output_type": "stream",
     "text": [
      "Epoch 18/100 loss 0.59088 val_loss 0.84504 acc 0.82695 val_acc 0.63889 train_f1 0.82499 val_f1 0.63966\n"
     ]
    },
    {
     "name": "stderr",
     "output_type": "stream",
     "text": [
      "loss 0.61636 acc 0.81084: 100%|██████████| 16/16 [00:21<00:00,  1.36s/it]\n",
      "val_loss 0.85300 val_acc 0.58333: 100%|██████████| 1/1 [00:00<00:00,  3.10it/s]\n"
     ]
    },
    {
     "name": "stdout",
     "output_type": "stream",
     "text": [
      "Epoch 19/100 loss 0.61636 val_loss 0.85300 acc 0.81084 val_acc 0.58333 train_f1 0.80973 val_f1 0.58457\n"
     ]
    },
    {
     "name": "stderr",
     "output_type": "stream",
     "text": [
      "loss 0.58021 acc 0.82305: 100%|██████████| 16/16 [00:22<00:00,  1.39s/it]\n",
      "val_loss 0.85357 val_acc 0.58333: 100%|██████████| 1/1 [00:00<00:00,  3.41it/s]\n"
     ]
    },
    {
     "name": "stdout",
     "output_type": "stream",
     "text": [
      "Epoch 20/100 loss 0.58021 val_loss 0.85357 acc 0.82305 val_acc 0.58333 train_f1 0.82281 val_f1 0.57965\n"
     ]
    },
    {
     "name": "stderr",
     "output_type": "stream",
     "text": [
      "loss 0.57422 acc 0.82056: 100%|██████████| 16/16 [00:21<00:00,  1.37s/it]\n",
      "val_loss 0.84488 val_acc 0.59722: 100%|██████████| 1/1 [00:00<00:00,  3.27it/s]\n"
     ]
    },
    {
     "name": "stdout",
     "output_type": "stream",
     "text": [
      "Epoch 21/100 loss 0.57422 val_loss 0.84488 acc 0.82056 val_acc 0.59722 train_f1 0.81934 val_f1 0.59661\n"
     ]
    },
    {
     "name": "stderr",
     "output_type": "stream",
     "text": [
      "loss 0.57494 acc 0.81963: 100%|██████████| 16/16 [00:21<00:00,  1.36s/it]\n",
      "val_loss 0.83837 val_acc 0.59722: 100%|██████████| 1/1 [00:00<00:00,  2.85it/s]\n"
     ]
    },
    {
     "name": "stdout",
     "output_type": "stream",
     "text": [
      "Epoch 22/100 loss 0.57494 val_loss 0.83837 acc 0.81963 val_acc 0.59722 train_f1 0.81916 val_f1 0.59491\n",
      "Mejor modelo guardado en la época 22 con val_loss 0.83837\n",
      "Mejor modelo guardado.\n"
     ]
    },
    {
     "name": "stderr",
     "output_type": "stream",
     "text": [
      "loss 0.56013 acc 0.82832: 100%|██████████| 16/16 [00:21<00:00,  1.36s/it]\n",
      "val_loss 0.83229 val_acc 0.62500: 100%|██████████| 1/1 [00:00<00:00,  3.15it/s]\n"
     ]
    },
    {
     "name": "stdout",
     "output_type": "stream",
     "text": [
      "Epoch 23/100 loss 0.56013 val_loss 0.83229 acc 0.82832 val_acc 0.62500 train_f1 0.82800 val_f1 0.62280\n",
      "Mejor modelo guardado en la época 23 con val_loss 0.83229\n",
      "Mejor modelo guardado.\n"
     ]
    },
    {
     "name": "stderr",
     "output_type": "stream",
     "text": [
      "loss 0.56086 acc 0.82998: 100%|██████████| 16/16 [00:21<00:00,  1.37s/it]\n",
      "val_loss 0.84918 val_acc 0.62500: 100%|██████████| 1/1 [00:00<00:00,  3.17it/s]\n"
     ]
    },
    {
     "name": "stdout",
     "output_type": "stream",
     "text": [
      "Epoch 24/100 loss 0.56086 val_loss 0.84918 acc 0.82998 val_acc 0.62500 train_f1 0.82772 val_f1 0.61975\n"
     ]
    },
    {
     "name": "stderr",
     "output_type": "stream",
     "text": [
      "loss 0.57932 acc 0.80688: 100%|██████████| 16/16 [00:21<00:00,  1.37s/it]\n",
      "val_loss 0.83538 val_acc 0.59722: 100%|██████████| 1/1 [00:00<00:00,  3.31it/s]\n"
     ]
    },
    {
     "name": "stdout",
     "output_type": "stream",
     "text": [
      "Epoch 25/100 loss 0.57932 val_loss 0.83538 acc 0.80688 val_acc 0.59722 train_f1 0.80565 val_f1 0.59272\n"
     ]
    },
    {
     "name": "stderr",
     "output_type": "stream",
     "text": [
      "loss 0.55845 acc 0.82271: 100%|██████████| 16/16 [00:22<00:00,  1.38s/it]\n",
      "val_loss 0.88833 val_acc 0.61111: 100%|██████████| 1/1 [00:00<00:00,  3.39it/s]\n"
     ]
    },
    {
     "name": "stdout",
     "output_type": "stream",
     "text": [
      "Epoch 26/100 loss 0.55845 val_loss 0.88833 acc 0.82271 val_acc 0.61111 train_f1 0.82086 val_f1 0.59482\n"
     ]
    },
    {
     "name": "stderr",
     "output_type": "stream",
     "text": [
      "loss 0.57479 acc 0.81348: 100%|██████████| 16/16 [00:21<00:00,  1.37s/it]\n",
      "val_loss 0.84918 val_acc 0.58333: 100%|██████████| 1/1 [00:00<00:00,  3.25it/s]\n"
     ]
    },
    {
     "name": "stdout",
     "output_type": "stream",
     "text": [
      "Epoch 27/100 loss 0.57479 val_loss 0.84918 acc 0.81348 val_acc 0.58333 train_f1 0.80980 val_f1 0.58244\n"
     ]
    },
    {
     "name": "stderr",
     "output_type": "stream",
     "text": [
      "loss 0.54938 acc 0.82114: 100%|██████████| 16/16 [00:21<00:00,  1.37s/it]\n",
      "val_loss 0.83309 val_acc 0.62500: 100%|██████████| 1/1 [00:00<00:00,  3.14it/s]\n"
     ]
    },
    {
     "name": "stdout",
     "output_type": "stream",
     "text": [
      "Epoch 28/100 loss 0.54938 val_loss 0.83309 acc 0.82114 val_acc 0.62500 train_f1 0.81927 val_f1 0.61956\n"
     ]
    },
    {
     "name": "stderr",
     "output_type": "stream",
     "text": [
      "loss 0.53125 acc 0.83169: 100%|██████████| 16/16 [00:22<00:00,  1.39s/it]\n",
      "val_loss 0.82804 val_acc 0.62500: 100%|██████████| 1/1 [00:00<00:00,  2.99it/s]\n"
     ]
    },
    {
     "name": "stdout",
     "output_type": "stream",
     "text": [
      "Epoch 29/100 loss 0.53125 val_loss 0.82804 acc 0.83169 val_acc 0.62500 train_f1 0.83082 val_f1 0.62247\n",
      "Mejor modelo guardado en la época 29 con val_loss 0.82804\n",
      "Mejor modelo guardado.\n"
     ]
    },
    {
     "name": "stderr",
     "output_type": "stream",
     "text": [
      "loss 0.51871 acc 0.84097: 100%|██████████| 16/16 [00:22<00:00,  1.41s/it]\n",
      "val_loss 0.81655 val_acc 0.62500: 100%|██████████| 1/1 [00:00<00:00,  3.30it/s]\n"
     ]
    },
    {
     "name": "stdout",
     "output_type": "stream",
     "text": [
      "Epoch 30/100 loss 0.51871 val_loss 0.81655 acc 0.84097 val_acc 0.62500 train_f1 0.84001 val_f1 0.62274\n",
      "Mejor modelo guardado en la época 30 con val_loss 0.81655\n",
      "Mejor modelo guardado.\n"
     ]
    },
    {
     "name": "stderr",
     "output_type": "stream",
     "text": [
      "loss 0.53989 acc 0.83389: 100%|██████████| 16/16 [00:22<00:00,  1.38s/it]\n",
      "val_loss 0.81734 val_acc 0.62500: 100%|██████████| 1/1 [00:00<00:00,  3.39it/s]\n"
     ]
    },
    {
     "name": "stdout",
     "output_type": "stream",
     "text": [
      "Epoch 31/100 loss 0.53989 val_loss 0.81734 acc 0.83389 val_acc 0.62500 train_f1 0.83364 val_f1 0.62188\n"
     ]
    },
    {
     "name": "stderr",
     "output_type": "stream",
     "text": [
      "loss 0.50611 acc 0.84141: 100%|██████████| 16/16 [00:22<00:00,  1.40s/it]\n",
      "val_loss 0.82156 val_acc 0.63889: 100%|██████████| 1/1 [00:00<00:00,  3.13it/s]\n"
     ]
    },
    {
     "name": "stdout",
     "output_type": "stream",
     "text": [
      "Epoch 32/100 loss 0.50611 val_loss 0.82156 acc 0.84141 val_acc 0.63889 train_f1 0.84203 val_f1 0.63602\n"
     ]
    },
    {
     "name": "stderr",
     "output_type": "stream",
     "text": [
      "loss 0.52071 acc 0.83687: 100%|██████████| 16/16 [00:22<00:00,  1.39s/it]\n",
      "val_loss 0.82712 val_acc 0.61111: 100%|██████████| 1/1 [00:00<00:00,  3.40it/s]\n"
     ]
    },
    {
     "name": "stdout",
     "output_type": "stream",
     "text": [
      "Epoch 33/100 loss 0.52071 val_loss 0.82712 acc 0.83687 val_acc 0.61111 train_f1 0.83663 val_f1 0.60946\n"
     ]
    },
    {
     "name": "stderr",
     "output_type": "stream",
     "text": [
      "loss 0.53336 acc 0.82446: 100%|██████████| 16/16 [00:22<00:00,  1.39s/it]\n",
      "val_loss 0.82921 val_acc 0.62500: 100%|██████████| 1/1 [00:00<00:00,  3.07it/s]\n"
     ]
    },
    {
     "name": "stdout",
     "output_type": "stream",
     "text": [
      "Epoch 34/100 loss 0.53336 val_loss 0.82921 acc 0.82446 val_acc 0.62500 train_f1 0.82290 val_f1 0.62242\n"
     ]
    },
    {
     "name": "stderr",
     "output_type": "stream",
     "text": [
      "loss 0.51145 acc 0.83306: 100%|██████████| 16/16 [00:22<00:00,  1.42s/it]\n",
      "val_loss 0.80421 val_acc 0.63889: 100%|██████████| 1/1 [00:00<00:00,  3.01it/s]\n"
     ]
    },
    {
     "name": "stdout",
     "output_type": "stream",
     "text": [
      "Epoch 35/100 loss 0.51145 val_loss 0.80421 acc 0.83306 val_acc 0.63889 train_f1 0.83232 val_f1 0.63872\n",
      "Mejor modelo guardado en la época 35 con val_loss 0.80421\n",
      "Mejor modelo guardado.\n"
     ]
    },
    {
     "name": "stderr",
     "output_type": "stream",
     "text": [
      "loss 0.51307 acc 0.83599: 100%|██████████| 16/16 [00:21<00:00,  1.36s/it]\n",
      "val_loss 0.85198 val_acc 0.62500: 100%|██████████| 1/1 [00:00<00:00,  3.33it/s]\n"
     ]
    },
    {
     "name": "stdout",
     "output_type": "stream",
     "text": [
      "Epoch 36/100 loss 0.51307 val_loss 0.85198 acc 0.83599 val_acc 0.62500 train_f1 0.83488 val_f1 0.62280\n"
     ]
    },
    {
     "name": "stderr",
     "output_type": "stream",
     "text": [
      "loss 0.51192 acc 0.82876: 100%|██████████| 16/16 [00:25<00:00,  1.60s/it]\n",
      "val_loss 0.83163 val_acc 0.61111: 100%|██████████| 1/1 [00:00<00:00,  3.05it/s]\n"
     ]
    },
    {
     "name": "stdout",
     "output_type": "stream",
     "text": [
      "Epoch 37/100 loss 0.51192 val_loss 0.83163 acc 0.82876 val_acc 0.61111 train_f1 0.82711 val_f1 0.60509\n"
     ]
    },
    {
     "name": "stderr",
     "output_type": "stream",
     "text": [
      "loss 0.52279 acc 0.82402: 100%|██████████| 16/16 [00:25<00:00,  1.60s/it]\n",
      "val_loss 0.86842 val_acc 0.62500: 100%|██████████| 1/1 [00:00<00:00,  3.38it/s]\n"
     ]
    },
    {
     "name": "stdout",
     "output_type": "stream",
     "text": [
      "Epoch 38/100 loss 0.52279 val_loss 0.86842 acc 0.82402 val_acc 0.62500 train_f1 0.82444 val_f1 0.62096\n"
     ]
    },
    {
     "name": "stderr",
     "output_type": "stream",
     "text": [
      "loss 0.50940 acc 0.83774: 100%|██████████| 16/16 [00:20<00:00,  1.31s/it]\n",
      "val_loss 0.82443 val_acc 0.63889: 100%|██████████| 1/1 [00:00<00:00,  3.32it/s]\n"
     ]
    },
    {
     "name": "stdout",
     "output_type": "stream",
     "text": [
      "Epoch 39/100 loss 0.50940 val_loss 0.82443 acc 0.83774 val_acc 0.63889 train_f1 0.83552 val_f1 0.63987\n"
     ]
    },
    {
     "name": "stderr",
     "output_type": "stream",
     "text": [
      "loss 0.52295 acc 0.82378: 100%|██████████| 16/16 [00:22<00:00,  1.39s/it]\n",
      "val_loss 0.83270 val_acc 0.61111: 100%|██████████| 1/1 [00:00<00:00,  3.29it/s]\n"
     ]
    },
    {
     "name": "stdout",
     "output_type": "stream",
     "text": [
      "Epoch 40/100 loss 0.52295 val_loss 0.83270 acc 0.82378 val_acc 0.61111 train_f1 0.82305 val_f1 0.60546\n"
     ]
    },
    {
     "name": "stderr",
     "output_type": "stream",
     "text": [
      "loss 0.51143 acc 0.84038: 100%|██████████| 16/16 [00:22<00:00,  1.39s/it]\n",
      "val_loss 0.80055 val_acc 0.63889: 100%|██████████| 1/1 [00:00<00:00,  3.19it/s]\n"
     ]
    },
    {
     "name": "stdout",
     "output_type": "stream",
     "text": [
      "Epoch 41/100 loss 0.51143 val_loss 0.80055 acc 0.84038 val_acc 0.63889 train_f1 0.84008 val_f1 0.64090\n",
      "Mejor modelo guardado en la época 41 con val_loss 0.80055\n",
      "Mejor modelo guardado.\n"
     ]
    },
    {
     "name": "stderr",
     "output_type": "stream",
     "text": [
      "loss 0.50818 acc 0.83599: 100%|██████████| 16/16 [00:22<00:00,  1.39s/it]\n",
      "val_loss 0.82101 val_acc 0.63889: 100%|██████████| 1/1 [00:00<00:00,  3.37it/s]\n"
     ]
    },
    {
     "name": "stdout",
     "output_type": "stream",
     "text": [
      "Epoch 42/100 loss 0.50818 val_loss 0.82101 acc 0.83599 val_acc 0.63889 train_f1 0.83468 val_f1 0.63927\n"
     ]
    },
    {
     "name": "stderr",
     "output_type": "stream",
     "text": [
      "loss 0.50052 acc 0.82822: 100%|██████████| 16/16 [00:22<00:00,  1.44s/it]\n",
      "val_loss 0.78942 val_acc 0.65278: 100%|██████████| 1/1 [00:00<00:00,  3.28it/s]\n"
     ]
    },
    {
     "name": "stdout",
     "output_type": "stream",
     "text": [
      "Epoch 43/100 loss 0.50052 val_loss 0.78942 acc 0.82822 val_acc 0.65278 train_f1 0.82787 val_f1 0.65121\n",
      "Mejor modelo guardado en la época 43 con val_loss 0.78942\n",
      "Mejor modelo guardado.\n"
     ]
    },
    {
     "name": "stderr",
     "output_type": "stream",
     "text": [
      "loss 0.51522 acc 0.82910: 100%|██████████| 16/16 [00:21<00:00,  1.36s/it]\n",
      "val_loss 0.79336 val_acc 0.62500: 100%|██████████| 1/1 [00:00<00:00,  3.03it/s]\n"
     ]
    },
    {
     "name": "stdout",
     "output_type": "stream",
     "text": [
      "Epoch 44/100 loss 0.51522 val_loss 0.79336 acc 0.82910 val_acc 0.62500 train_f1 0.82816 val_f1 0.62539\n"
     ]
    },
    {
     "name": "stderr",
     "output_type": "stream",
     "text": [
      "loss 0.47799 acc 0.84438: 100%|██████████| 16/16 [00:22<00:00,  1.38s/it]\n",
      "val_loss 0.81536 val_acc 0.61111: 100%|██████████| 1/1 [00:00<00:00,  3.09it/s]\n"
     ]
    },
    {
     "name": "stdout",
     "output_type": "stream",
     "text": [
      "Epoch 45/100 loss 0.47799 val_loss 0.81536 acc 0.84438 val_acc 0.61111 train_f1 0.84361 val_f1 0.60639\n"
     ]
    },
    {
     "name": "stderr",
     "output_type": "stream",
     "text": [
      "loss 0.49562 acc 0.83188: 100%|██████████| 16/16 [00:22<00:00,  1.39s/it]\n",
      "val_loss 0.80383 val_acc 0.61111: 100%|██████████| 1/1 [00:00<00:00,  3.37it/s]\n"
     ]
    },
    {
     "name": "stdout",
     "output_type": "stream",
     "text": [
      "Epoch 46/100 loss 0.49562 val_loss 0.80383 acc 0.83188 val_acc 0.61111 train_f1 0.83149 val_f1 0.60953\n"
     ]
    },
    {
     "name": "stderr",
     "output_type": "stream",
     "text": [
      "loss 0.46573 acc 0.84502: 100%|██████████| 16/16 [00:22<00:00,  1.42s/it]\n",
      "val_loss 0.82073 val_acc 0.62500: 100%|██████████| 1/1 [00:00<00:00,  3.29it/s]\n"
     ]
    },
    {
     "name": "stdout",
     "output_type": "stream",
     "text": [
      "Epoch 47/100 loss 0.46573 val_loss 0.82073 acc 0.84502 val_acc 0.62500 train_f1 0.84497 val_f1 0.62503\n"
     ]
    },
    {
     "name": "stderr",
     "output_type": "stream",
     "text": [
      "loss 0.49756 acc 0.83218: 100%|██████████| 16/16 [00:21<00:00,  1.36s/it]\n",
      "val_loss 0.79800 val_acc 0.62500: 100%|██████████| 1/1 [00:00<00:00,  3.32it/s]\n"
     ]
    },
    {
     "name": "stdout",
     "output_type": "stream",
     "text": [
      "Epoch 48/100 loss 0.49756 val_loss 0.79800 acc 0.83218 val_acc 0.62500 train_f1 0.83069 val_f1 0.62575\n"
     ]
    },
    {
     "name": "stderr",
     "output_type": "stream",
     "text": [
      "loss 0.48824 acc 0.83843: 100%|██████████| 16/16 [00:22<00:00,  1.38s/it]\n",
      "val_loss 0.79944 val_acc 0.63889: 100%|██████████| 1/1 [00:00<00:00,  3.30it/s]\n"
     ]
    },
    {
     "name": "stdout",
     "output_type": "stream",
     "text": [
      "Epoch 49/100 loss 0.48824 val_loss 0.79944 acc 0.83843 val_acc 0.63889 train_f1 0.83894 val_f1 0.63643\n"
     ]
    },
    {
     "name": "stderr",
     "output_type": "stream",
     "text": [
      "loss 0.46319 acc 0.84502: 100%|██████████| 16/16 [00:22<00:00,  1.40s/it]\n",
      "val_loss 0.81039 val_acc 0.63889: 100%|██████████| 1/1 [00:00<00:00,  3.15it/s]\n"
     ]
    },
    {
     "name": "stdout",
     "output_type": "stream",
     "text": [
      "Epoch 50/100 loss 0.46319 val_loss 0.81039 acc 0.84502 val_acc 0.63889 train_f1 0.84518 val_f1 0.63872\n"
     ]
    },
    {
     "name": "stderr",
     "output_type": "stream",
     "text": [
      "loss 0.47936 acc 0.84033: 100%|██████████| 16/16 [00:21<00:00,  1.37s/it]\n",
      "val_loss 0.82474 val_acc 0.63889: 100%|██████████| 1/1 [00:00<00:00,  3.08it/s]\n"
     ]
    },
    {
     "name": "stdout",
     "output_type": "stream",
     "text": [
      "Epoch 51/100 loss 0.47936 val_loss 0.82474 acc 0.84033 val_acc 0.63889 train_f1 0.84033 val_f1 0.64259\n"
     ]
    },
    {
     "name": "stderr",
     "output_type": "stream",
     "text": [
      "loss 0.48201 acc 0.83750: 100%|██████████| 16/16 [00:21<00:00,  1.37s/it]\n",
      "val_loss 0.85043 val_acc 0.63889: 100%|██████████| 1/1 [00:00<00:00,  3.32it/s]\n"
     ]
    },
    {
     "name": "stdout",
     "output_type": "stream",
     "text": [
      "Epoch 52/100 loss 0.48201 val_loss 0.85043 acc 0.83750 val_acc 0.63889 train_f1 0.83606 val_f1 0.63835\n"
     ]
    },
    {
     "name": "stderr",
     "output_type": "stream",
     "text": [
      "loss 0.49142 acc 0.83169: 100%|██████████| 16/16 [00:22<00:00,  1.38s/it]\n",
      "val_loss 0.87355 val_acc 0.63889: 100%|██████████| 1/1 [00:00<00:00,  3.25it/s]\n"
     ]
    },
    {
     "name": "stdout",
     "output_type": "stream",
     "text": [
      "Epoch 53/100 loss 0.49142 val_loss 0.87355 acc 0.83169 val_acc 0.63889 train_f1 0.83208 val_f1 0.63471\n"
     ]
    },
    {
     "name": "stderr",
     "output_type": "stream",
     "text": [
      "loss 0.49271 acc 0.83765: 100%|██████████| 16/16 [00:22<00:00,  1.38s/it]\n",
      "val_loss 0.81884 val_acc 0.63889: 100%|██████████| 1/1 [00:00<00:00,  3.27it/s]\n"
     ]
    },
    {
     "name": "stdout",
     "output_type": "stream",
     "text": [
      "Epoch 54/100 loss 0.49271 val_loss 0.81884 acc 0.83765 val_acc 0.63889 train_f1 0.83737 val_f1 0.64090\n"
     ]
    },
    {
     "name": "stderr",
     "output_type": "stream",
     "text": [
      "loss 0.47290 acc 0.84185: 100%|██████████| 16/16 [00:21<00:00,  1.37s/it]\n",
      "val_loss 0.84252 val_acc 0.62500: 100%|██████████| 1/1 [00:00<00:00,  3.06it/s]"
     ]
    },
    {
     "name": "stdout",
     "output_type": "stream",
     "text": [
      "Epoch 55/100 loss 0.47290 val_loss 0.84252 acc 0.84185 val_acc 0.62500 train_f1 0.84193 val_f1 0.61778\n",
      "Patience counter alcanzado. Deteniendo entrenamiento por Early Stopping.\n",
      "Datos de entrenamiento guardados en train_data.json\n"
     ]
    },
    {
     "name": "stderr",
     "output_type": "stream",
     "text": [
      "\n"
     ]
    },
    {
     "data": {
      "text/plain": [
       "([1.670576386153698,\n",
       "  1.2439084872603416,\n",
       "  1.0653160475194454,\n",
       "  0.978804811835289,\n",
       "  0.9131663478910923,\n",
       "  0.8463309854269028,\n",
       "  0.8103997148573399,\n",
       "  0.7752310112118721,\n",
       "  0.7611939795315266,\n",
       "  0.7286140471696854,\n",
       "  0.7125085555016994,\n",
       "  0.7029230892658234,\n",
       "  0.6706366091966629,\n",
       "  0.66610112413764,\n",
       "  0.6458526067435741,\n",
       "  0.6192511692643166,\n",
       "  0.6201576739549637,\n",
       "  0.5908787250518799,\n",
       "  0.6163617596030235,\n",
       "  0.5802101083099842,\n",
       "  0.5742184557020664,\n",
       "  0.5749361105263233,\n",
       "  0.5601318925619125,\n",
       "  0.5608578603714705,\n",
       "  0.5793212726712227,\n",
       "  0.5584543161094189,\n",
       "  0.5747927110642195,\n",
       "  0.5493842288851738,\n",
       "  0.5312538258731365,\n",
       "  0.5187093615531921,\n",
       "  0.5398915521800518,\n",
       "  0.5061090476810932,\n",
       "  0.520713210105896,\n",
       "  0.5333641432225704,\n",
       "  0.5114536639302969,\n",
       "  0.5130722355097532,\n",
       "  0.5119244866073132,\n",
       "  0.5227871965616941,\n",
       "  0.5093980897217989,\n",
       "  0.5229518730193377,\n",
       "  0.5114305093884468,\n",
       "  0.5081839263439178,\n",
       "  0.5005153752863407,\n",
       "  0.5152244307100773,\n",
       "  0.4779887776821852,\n",
       "  0.4956179801374674,\n",
       "  0.4657301902770996,\n",
       "  0.49755638279020786,\n",
       "  0.48823661357164383,\n",
       "  0.4631944466382265,\n",
       "  0.4793605376034975,\n",
       "  0.4820084385573864,\n",
       "  0.4914170168340206,\n",
       "  0.4927053991705179,\n",
       "  0.4728979393839836],\n",
       " [1.2416118383407593,\n",
       "  1.1829382181167603,\n",
       "  1.0771634578704834,\n",
       "  0.9421546459197998,\n",
       "  0.9153023958206177,\n",
       "  0.9126296639442444,\n",
       "  0.9106645584106445,\n",
       "  0.8942183256149292,\n",
       "  0.9023998975753784,\n",
       "  0.9118187427520752,\n",
       "  0.8671992421150208,\n",
       "  0.8547589182853699,\n",
       "  0.8533675074577332,\n",
       "  0.8630578517913818,\n",
       "  0.8686511516571045,\n",
       "  0.8574855923652649,\n",
       "  0.8440116047859192,\n",
       "  0.8450404405593872,\n",
       "  0.8529970645904541,\n",
       "  0.8535661101341248,\n",
       "  0.8448754549026489,\n",
       "  0.8383651971817017,\n",
       "  0.8322935104370117,\n",
       "  0.8491849303245544,\n",
       "  0.835382342338562,\n",
       "  0.888326108455658,\n",
       "  0.849176824092865,\n",
       "  0.8330907225608826,\n",
       "  0.8280361890792847,\n",
       "  0.8165529370307922,\n",
       "  0.8173382878303528,\n",
       "  0.8215645551681519,\n",
       "  0.827117919921875,\n",
       "  0.829210638999939,\n",
       "  0.8042073249816895,\n",
       "  0.8519788384437561,\n",
       "  0.8316287994384766,\n",
       "  0.8684216737747192,\n",
       "  0.8244250416755676,\n",
       "  0.8327035903930664,\n",
       "  0.800552487373352,\n",
       "  0.8210092186927795,\n",
       "  0.7894223928451538,\n",
       "  0.7933551669120789,\n",
       "  0.8153569102287292,\n",
       "  0.8038336634635925,\n",
       "  0.8207315802574158,\n",
       "  0.7979958057403564,\n",
       "  0.7994407415390015,\n",
       "  0.8103920817375183,\n",
       "  0.8247363567352295,\n",
       "  0.8504312038421631,\n",
       "  0.873553454875946,\n",
       "  0.8188371062278748,\n",
       "  0.8425213098526001],\n",
       " [0.42724609375,\n",
       "  0.6490234375,\n",
       "  0.71474609375,\n",
       "  0.713427734375,\n",
       "  0.742822265625,\n",
       "  0.764111328125,\n",
       "  0.76669921875,\n",
       "  0.771435546875,\n",
       "  0.773046875,\n",
       "  0.78046875,\n",
       "  0.789111328125,\n",
       "  0.793408203125,\n",
       "  0.80556640625,\n",
       "  0.80322265625,\n",
       "  0.8095703125,\n",
       "  0.811083984375,\n",
       "  0.816162109375,\n",
       "  0.826953125,\n",
       "  0.81083984375,\n",
       "  0.823046875,\n",
       "  0.820556640625,\n",
       "  0.81962890625,\n",
       "  0.8283203125,\n",
       "  0.82998046875,\n",
       "  0.806884765625,\n",
       "  0.822705078125,\n",
       "  0.8134765625,\n",
       "  0.821142578125,\n",
       "  0.831689453125,\n",
       "  0.840966796875,\n",
       "  0.83388671875,\n",
       "  0.84140625,\n",
       "  0.836865234375,\n",
       "  0.824462890625,\n",
       "  0.833056640625,\n",
       "  0.835986328125,\n",
       "  0.828759765625,\n",
       "  0.8240234375,\n",
       "  0.837744140625,\n",
       "  0.823779296875,\n",
       "  0.840380859375,\n",
       "  0.835986328125,\n",
       "  0.82822265625,\n",
       "  0.8291015625,\n",
       "  0.844384765625,\n",
       "  0.831884765625,\n",
       "  0.84501953125,\n",
       "  0.832177734375,\n",
       "  0.838427734375,\n",
       "  0.84501953125,\n",
       "  0.84033203125,\n",
       "  0.8375,\n",
       "  0.831689453125,\n",
       "  0.837646484375,\n",
       "  0.841845703125],\n",
       " [0.3333333333333333,\n",
       "  0.375,\n",
       "  0.4861111111111111,\n",
       "  0.5555555555555556,\n",
       "  0.5694444444444444,\n",
       "  0.5416666666666666,\n",
       "  0.5277777777777778,\n",
       "  0.5694444444444444,\n",
       "  0.5694444444444444,\n",
       "  0.5694444444444444,\n",
       "  0.5694444444444444,\n",
       "  0.625,\n",
       "  0.625,\n",
       "  0.5972222222222222,\n",
       "  0.5972222222222222,\n",
       "  0.5972222222222222,\n",
       "  0.5972222222222222,\n",
       "  0.6388888888888888,\n",
       "  0.5833333333333334,\n",
       "  0.5833333333333334,\n",
       "  0.5972222222222222,\n",
       "  0.5972222222222222,\n",
       "  0.625,\n",
       "  0.625,\n",
       "  0.5972222222222222,\n",
       "  0.6111111111111112,\n",
       "  0.5833333333333334,\n",
       "  0.625,\n",
       "  0.625,\n",
       "  0.625,\n",
       "  0.625,\n",
       "  0.6388888888888888,\n",
       "  0.6111111111111112,\n",
       "  0.625,\n",
       "  0.6388888888888888,\n",
       "  0.625,\n",
       "  0.6111111111111112,\n",
       "  0.625,\n",
       "  0.6388888888888888,\n",
       "  0.6111111111111112,\n",
       "  0.6388888888888888,\n",
       "  0.6388888888888888,\n",
       "  0.6527777777777778,\n",
       "  0.625,\n",
       "  0.6111111111111112,\n",
       "  0.6111111111111112,\n",
       "  0.625,\n",
       "  0.625,\n",
       "  0.6388888888888888,\n",
       "  0.6388888888888888,\n",
       "  0.6388888888888888,\n",
       "  0.6388888888888888,\n",
       "  0.6388888888888888,\n",
       "  0.6388888888888888,\n",
       "  0.625],\n",
       " [0.42030491447853385,\n",
       "  0.63930632512376,\n",
       "  0.7091461449603935,\n",
       "  0.7059113460837373,\n",
       "  0.7383426003936124,\n",
       "  0.7606401572057381,\n",
       "  0.764676917794543,\n",
       "  0.7689376548317791,\n",
       "  0.7720915299306736,\n",
       "  0.7786140223642383,\n",
       "  0.7861833134315923,\n",
       "  0.7899638839698572,\n",
       "  0.8040881986724904,\n",
       "  0.8032130949512039,\n",
       "  0.8074376466359598,\n",
       "  0.8092105347344056,\n",
       "  0.8157101525696471,\n",
       "  0.8249874127929051,\n",
       "  0.8097293043840134,\n",
       "  0.8228076426270188,\n",
       "  0.8193444028949844,\n",
       "  0.8191593318098445,\n",
       "  0.8280016906978854,\n",
       "  0.8277228794724958,\n",
       "  0.8056532450119029,\n",
       "  0.8208554817786453,\n",
       "  0.8097959911188216,\n",
       "  0.8192664325237772,\n",
       "  0.8308221239208075,\n",
       "  0.8400117917201417,\n",
       "  0.8336396213461477,\n",
       "  0.8420316232914858,\n",
       "  0.8366262897603299,\n",
       "  0.8228969048905563,\n",
       "  0.8323232679145885,\n",
       "  0.8348767623419914,\n",
       "  0.8271087510618047,\n",
       "  0.8244398006332028,\n",
       "  0.8355163235468269,\n",
       "  0.8230452647514482,\n",
       "  0.8400808463385435,\n",
       "  0.8346758518667736,\n",
       "  0.8278715264057407,\n",
       "  0.8281639802241791,\n",
       "  0.8436127701639422,\n",
       "  0.8314935544328418,\n",
       "  0.8449702778580227,\n",
       "  0.8306918182697378,\n",
       "  0.838944631870394,\n",
       "  0.8451835658447375,\n",
       "  0.8403348374242263,\n",
       "  0.836057337849508,\n",
       "  0.8320829554526783,\n",
       "  0.8373693154091435,\n",
       "  0.8419259670034521],\n",
       " [0.33044284718391864,\n",
       "  0.34401357962213225,\n",
       "  0.4410719007327944,\n",
       "  0.541525999137987,\n",
       "  0.5573722592183836,\n",
       "  0.5263795300100602,\n",
       "  0.5200221589110477,\n",
       "  0.5634185773074661,\n",
       "  0.5576240237018527,\n",
       "  0.55312314124629,\n",
       "  0.5689799331103678,\n",
       "  0.6213772340299175,\n",
       "  0.62284242181903,\n",
       "  0.5931163311134804,\n",
       "  0.5981106106106107,\n",
       "  0.5927209889628191,\n",
       "  0.5958060333060333,\n",
       "  0.6396631823461092,\n",
       "  0.5845683504802233,\n",
       "  0.5796490935379824,\n",
       "  0.5966130966130966,\n",
       "  0.5949074074074074,\n",
       "  0.6227985406257236,\n",
       "  0.619749322493225,\n",
       "  0.5927209889628191,\n",
       "  0.5948199351425159,\n",
       "  0.5824406723796968,\n",
       "  0.6195582769149078,\n",
       "  0.6224652777777778,\n",
       "  0.6227378944409305,\n",
       "  0.6218782184738743,\n",
       "  0.6360182675900833,\n",
       "  0.60945551308505,\n",
       "  0.6224200539918697,\n",
       "  0.6387152777777777,\n",
       "  0.6227981029810298,\n",
       "  0.6050911592707258,\n",
       "  0.6209625322997416,\n",
       "  0.6398682336182335,\n",
       "  0.6054616685017739,\n",
       "  0.6408991228070176,\n",
       "  0.6392746913580247,\n",
       "  0.6512110649921952,\n",
       "  0.6253885003885004,\n",
       "  0.6063902798773831,\n",
       "  0.6095263004940424,\n",
       "  0.6250261250261251,\n",
       "  0.6257499581028994,\n",
       "  0.6364306346945235,\n",
       "  0.6387168657636493,\n",
       "  0.6425925925925926,\n",
       "  0.638345786291871,\n",
       "  0.6347087102463447,\n",
       "  0.6408991228070176,\n",
       "  0.617778569167458])"
      ]
     },
     "execution_count": 9,
     "metadata": {},
     "output_type": "execute_result"
    }
   ],
   "source": [
    "fit(model, train_loader=train_loader, eval_loader=val_loader, epochs=100, model_name='data/inceptionv3_fc_weights.pth', results_file='data/inceptionv3_fc_train_results.json') "
   ]
  },
  {
   "cell_type": "code",
   "execution_count": 10,
   "id": "e2ee8255",
   "metadata": {},
   "outputs": [
    {
     "data": {
      "image/png": "[encoded data removed]",
      "text/plain": [
       "<Figure size 1800x500 with 3 Axes>"
      ]
     },
     "metadata": {},
     "output_type": "display_data"
    }
   ],
   "source": [
    "plot_train_results_from_json(json_file='data/inceptionv3_fc_train_results.json')"
   ]
  },
  {
   "cell_type": "code",
   "execution_count": 11,
   "id": "33716d99",
   "metadata": {},
   "outputs": [
    {
     "name": "stdout",
     "output_type": "stream",
     "text": [
      "Resultados guardados en data/inceptionv3_fc_evaluation_results.json\n"
     ]
    },
    {
     "data": {
      "image/png": "[encoded data removed]",
      "text/plain": [
       "<Figure size 1500x600 with 4 Axes>"
      ]
     },
     "metadata": {},
     "output_type": "display_data"
    }
   ],
   "source": [
    "evaluate_model(model, test_loader, test_dataset.classes, device, output_file='data/inceptionv3_fc_evaluation_results.json')"
   ]
  },
  {
   "cell_type": "code",
   "execution_count": 12,
   "id": "0dfafa11",
   "metadata": {},
   "outputs": [
    {
     "name": "stdout",
     "output_type": "stream",
     "text": [
      "Entrenando: AuxLogits.conv0.conv.weight\n",
      "Entrenando: AuxLogits.conv0.bn.weight\n",
      "Entrenando: AuxLogits.conv0.bn.bias\n",
      "Entrenando: AuxLogits.conv1.conv.weight\n",
      "Entrenando: AuxLogits.conv1.bn.weight\n",
      "Entrenando: AuxLogits.conv1.bn.bias\n",
      "Entrenando: AuxLogits.fc.weight\n",
      "Entrenando: AuxLogits.fc.bias\n",
      "Entrenando: Mixed_7a.branch3x3_1.conv.weight\n",
      "Entrenando: Mixed_7a.branch3x3_1.bn.weight\n",
      "Entrenando: Mixed_7a.branch3x3_1.bn.bias\n",
      "Entrenando: Mixed_7a.branch3x3_2.conv.weight\n",
      "Entrenando: Mixed_7a.branch3x3_2.bn.weight\n",
      "Entrenando: Mixed_7a.branch3x3_2.bn.bias\n",
      "Entrenando: Mixed_7a.branch7x7x3_1.conv.weight\n",
      "Entrenando: Mixed_7a.branch7x7x3_1.bn.weight\n",
      "Entrenando: Mixed_7a.branch7x7x3_1.bn.bias\n",
      "Entrenando: Mixed_7a.branch7x7x3_2.conv.weight\n",
      "Entrenando: Mixed_7a.branch7x7x3_2.bn.weight\n",
      "Entrenando: Mixed_7a.branch7x7x3_2.bn.bias\n",
      "Entrenando: Mixed_7a.branch7x7x3_3.conv.weight\n",
      "Entrenando: Mixed_7a.branch7x7x3_3.bn.weight\n",
      "Entrenando: Mixed_7a.branch7x7x3_3.bn.bias\n",
      "Entrenando: Mixed_7a.branch7x7x3_4.conv.weight\n",
      "Entrenando: Mixed_7a.branch7x7x3_4.bn.weight\n",
      "Entrenando: Mixed_7a.branch7x7x3_4.bn.bias\n",
      "Entrenando: Mixed_7b.branch1x1.conv.weight\n",
      "Entrenando: Mixed_7b.branch1x1.bn.weight\n",
      "Entrenando: Mixed_7b.branch1x1.bn.bias\n",
      "Entrenando: Mixed_7b.branch3x3_1.conv.weight\n",
      "Entrenando: Mixed_7b.branch3x3_1.bn.weight\n",
      "Entrenando: Mixed_7b.branch3x3_1.bn.bias\n",
      "Entrenando: Mixed_7b.branch3x3_2a.conv.weight\n",
      "Entrenando: Mixed_7b.branch3x3_2a.bn.weight\n",
      "Entrenando: Mixed_7b.branch3x3_2a.bn.bias\n",
      "Entrenando: Mixed_7b.branch3x3_2b.conv.weight\n",
      "Entrenando: Mixed_7b.branch3x3_2b.bn.weight\n",
      "Entrenando: Mixed_7b.branch3x3_2b.bn.bias\n",
      "Entrenando: Mixed_7b.branch3x3dbl_1.conv.weight\n",
      "Entrenando: Mixed_7b.branch3x3dbl_1.bn.weight\n",
      "Entrenando: Mixed_7b.branch3x3dbl_1.bn.bias\n",
      "Entrenando: Mixed_7b.branch3x3dbl_2.conv.weight\n",
      "Entrenando: Mixed_7b.branch3x3dbl_2.bn.weight\n",
      "Entrenando: Mixed_7b.branch3x3dbl_2.bn.bias\n",
      "Entrenando: Mixed_7b.branch3x3dbl_3a.conv.weight\n",
      "Entrenando: Mixed_7b.branch3x3dbl_3a.bn.weight\n",
      "Entrenando: Mixed_7b.branch3x3dbl_3a.bn.bias\n",
      "Entrenando: Mixed_7b.branch3x3dbl_3b.conv.weight\n",
      "Entrenando: Mixed_7b.branch3x3dbl_3b.bn.weight\n",
      "Entrenando: Mixed_7b.branch3x3dbl_3b.bn.bias\n",
      "Entrenando: Mixed_7b.branch_pool.conv.weight\n",
      "Entrenando: Mixed_7b.branch_pool.bn.weight\n",
      "Entrenando: Mixed_7b.branch_pool.bn.bias\n",
      "Entrenando: Mixed_7c.branch1x1.conv.weight\n",
      "Entrenando: Mixed_7c.branch1x1.bn.weight\n",
      "Entrenando: Mixed_7c.branch1x1.bn.bias\n",
      "Entrenando: Mixed_7c.branch3x3_1.conv.weight\n",
      "Entrenando: Mixed_7c.branch3x3_1.bn.weight\n",
      "Entrenando: Mixed_7c.branch3x3_1.bn.bias\n",
      "Entrenando: Mixed_7c.branch3x3_2a.conv.weight\n",
      "Entrenando: Mixed_7c.branch3x3_2a.bn.weight\n",
      "Entrenando: Mixed_7c.branch3x3_2a.bn.bias\n",
      "Entrenando: Mixed_7c.branch3x3_2b.conv.weight\n",
      "Entrenando: Mixed_7c.branch3x3_2b.bn.weight\n",
      "Entrenando: Mixed_7c.branch3x3_2b.bn.bias\n",
      "Entrenando: Mixed_7c.branch3x3dbl_1.conv.weight\n",
      "Entrenando: Mixed_7c.branch3x3dbl_1.bn.weight\n",
      "Entrenando: Mixed_7c.branch3x3dbl_1.bn.bias\n",
      "Entrenando: Mixed_7c.branch3x3dbl_2.conv.weight\n",
      "Entrenando: Mixed_7c.branch3x3dbl_2.bn.weight\n",
      "Entrenando: Mixed_7c.branch3x3dbl_2.bn.bias\n",
      "Entrenando: Mixed_7c.branch3x3dbl_3a.conv.weight\n",
      "Entrenando: Mixed_7c.branch3x3dbl_3a.bn.weight\n",
      "Entrenando: Mixed_7c.branch3x3dbl_3a.bn.bias\n",
      "Entrenando: Mixed_7c.branch3x3dbl_3b.conv.weight\n",
      "Entrenando: Mixed_7c.branch3x3dbl_3b.bn.weight\n",
      "Entrenando: Mixed_7c.branch3x3dbl_3b.bn.bias\n",
      "Entrenando: Mixed_7c.branch_pool.conv.weight\n",
      "Entrenando: Mixed_7c.branch_pool.bn.weight\n",
      "Entrenando: Mixed_7c.branch_pool.bn.bias\n",
      "Entrenando: fc.weight\n",
      "Entrenando: fc.bias\n"
     ]
    }
   ],
   "source": [
    "model = build_inceptionv3_finetune(num_classes=4)\n",
    "model = model.to(device)\n",
    "\n",
    "# Verificación\n",
    "for name, param in model.named_parameters():\n",
    "    if param.requires_grad:\n",
    "        print(f\"Entrenando: {name}\")"
   ]
  },
  {
   "cell_type": "code",
   "execution_count": 13,
   "id": "950ca414",
   "metadata": {},
   "outputs": [
    {
     "name": "stderr",
     "output_type": "stream",
     "text": [
      "loss 0.48223 acc 0.86914: 100%|██████████| 16/16 [00:23<00:00,  1.45s/it]\n",
      "val_loss 0.92950 val_acc 0.75000: 100%|██████████| 1/1 [00:00<00:00,  3.33it/s]\n"
     ]
    },
    {
     "name": "stdout",
     "output_type": "stream",
     "text": [
      "Epoch 1/100 loss 0.48223 val_loss 0.92950 acc 0.86914 val_acc 0.75000 train_f1 0.86697 val_f1 0.74891\n",
      "Mejor modelo guardado en la época 1 con val_loss 0.92950\n",
      "Mejor modelo guardado.\n"
     ]
    },
    {
     "name": "stderr",
     "output_type": "stream",
     "text": [
      "loss 0.04891 acc 0.99194: 100%|██████████| 16/16 [00:23<00:00,  1.46s/it]\n",
      "val_loss 0.72435 val_acc 0.84722: 100%|██████████| 1/1 [00:00<00:00,  3.36it/s]\n"
     ]
    },
    {
     "name": "stdout",
     "output_type": "stream",
     "text": [
      "Epoch 2/100 loss 0.04891 val_loss 0.72435 acc 0.99194 val_acc 0.84722 train_f1 0.99175 val_f1 0.85163\n",
      "Mejor modelo guardado en la época 2 con val_loss 0.72435\n",
      "Mejor modelo guardado.\n"
     ]
    },
    {
     "name": "stderr",
     "output_type": "stream",
     "text": [
      "loss 0.03088 acc 0.99253: 100%|██████████| 16/16 [00:23<00:00,  1.45s/it]\n",
      "val_loss 0.66746 val_acc 0.76389: 100%|██████████| 1/1 [00:00<00:00,  3.33it/s]\n"
     ]
    },
    {
     "name": "stdout",
     "output_type": "stream",
     "text": [
      "Epoch 3/100 loss 0.03088 val_loss 0.66746 acc 0.99253 val_acc 0.76389 train_f1 0.99250 val_f1 0.76393\n",
      "Mejor modelo guardado en la época 3 con val_loss 0.66746\n",
      "Mejor modelo guardado.\n"
     ]
    },
    {
     "name": "stderr",
     "output_type": "stream",
     "text": [
      "loss 0.01568 acc 0.99556: 100%|██████████| 16/16 [00:23<00:00,  1.45s/it]\n",
      "val_loss 0.56339 val_acc 0.86111: 100%|██████████| 1/1 [00:00<00:00,  2.98it/s]\n"
     ]
    },
    {
     "name": "stdout",
     "output_type": "stream",
     "text": [
      "Epoch 4/100 loss 0.01568 val_loss 0.56339 acc 0.99556 val_acc 0.86111 train_f1 0.99575 val_f1 0.86058\n",
      "Mejor modelo guardado en la época 4 con val_loss 0.56339\n",
      "Mejor modelo guardado.\n"
     ]
    },
    {
     "name": "stderr",
     "output_type": "stream",
     "text": [
      "loss 0.00995 acc 0.99790: 100%|██████████| 16/16 [00:23<00:00,  1.47s/it]\n",
      "val_loss 0.31555 val_acc 0.93056: 100%|██████████| 1/1 [00:00<00:00,  3.36it/s]\n"
     ]
    },
    {
     "name": "stdout",
     "output_type": "stream",
     "text": [
      "Epoch 5/100 loss 0.00995 val_loss 0.31555 acc 0.99790 val_acc 0.93056 train_f1 0.99800 val_f1 0.92966\n",
      "Mejor modelo guardado en la época 5 con val_loss 0.31555\n",
      "Mejor modelo guardado.\n"
     ]
    },
    {
     "name": "stderr",
     "output_type": "stream",
     "text": [
      "loss 0.00740 acc 0.99756: 100%|██████████| 16/16 [00:23<00:00,  1.46s/it]\n",
      "val_loss 0.43273 val_acc 0.88889: 100%|██████████| 1/1 [00:00<00:00,  3.35it/s]\n"
     ]
    },
    {
     "name": "stdout",
     "output_type": "stream",
     "text": [
      "Epoch 6/100 loss 0.00740 val_loss 0.43273 acc 0.99756 val_acc 0.88889 train_f1 0.99750 val_f1 0.88695\n"
     ]
    },
    {
     "name": "stderr",
     "output_type": "stream",
     "text": [
      "loss 0.00805 acc 0.99805: 100%|██████████| 16/16 [00:23<00:00,  1.44s/it]\n",
      "val_loss 0.40878 val_acc 0.90278: 100%|██████████| 1/1 [00:00<00:00,  3.26it/s]\n"
     ]
    },
    {
     "name": "stdout",
     "output_type": "stream",
     "text": [
      "Epoch 7/100 loss 0.00805 val_loss 0.40878 acc 0.99805 val_acc 0.90278 train_f1 0.99800 val_f1 0.90362\n"
     ]
    },
    {
     "name": "stderr",
     "output_type": "stream",
     "text": [
      "loss 0.00512 acc 0.99878: 100%|██████████| 16/16 [00:23<00:00,  1.48s/it]\n",
      "val_loss 0.35977 val_acc 0.94444: 100%|██████████| 1/1 [00:00<00:00,  3.38it/s]\n"
     ]
    },
    {
     "name": "stdout",
     "output_type": "stream",
     "text": [
      "Epoch 8/100 loss 0.00512 val_loss 0.35977 acc 0.99878 val_acc 0.94444 train_f1 0.99875 val_f1 0.94639\n"
     ]
    },
    {
     "name": "stderr",
     "output_type": "stream",
     "text": [
      "loss 0.00443 acc 0.99927: 100%|██████████| 16/16 [00:23<00:00,  1.44s/it]\n",
      "val_loss 0.42066 val_acc 0.90278: 100%|██████████| 1/1 [00:00<00:00,  3.21it/s]\n"
     ]
    },
    {
     "name": "stdout",
     "output_type": "stream",
     "text": [
      "Epoch 9/100 loss 0.00443 val_loss 0.42066 acc 0.99927 val_acc 0.90278 train_f1 0.99925 val_f1 0.90531\n"
     ]
    },
    {
     "name": "stderr",
     "output_type": "stream",
     "text": [
      "loss 0.00704 acc 0.99854: 100%|██████████| 16/16 [00:23<00:00,  1.46s/it]\n",
      "val_loss 0.53576 val_acc 0.91667: 100%|██████████| 1/1 [00:00<00:00,  3.36it/s]\n"
     ]
    },
    {
     "name": "stdout",
     "output_type": "stream",
     "text": [
      "Epoch 10/100 loss 0.00704 val_loss 0.53576 acc 0.99854 val_acc 0.91667 train_f1 0.99850 val_f1 0.92056\n"
     ]
    },
    {
     "name": "stderr",
     "output_type": "stream",
     "text": [
      "loss 0.00615 acc 0.99814: 100%|██████████| 16/16 [00:23<00:00,  1.45s/it]\n",
      "val_loss 0.58751 val_acc 0.90278: 100%|██████████| 1/1 [00:00<00:00,  3.35it/s]\n"
     ]
    },
    {
     "name": "stdout",
     "output_type": "stream",
     "text": [
      "Epoch 11/100 loss 0.00615 val_loss 0.58751 acc 0.99814 val_acc 0.90278 train_f1 0.99825 val_f1 0.90554\n"
     ]
    },
    {
     "name": "stderr",
     "output_type": "stream",
     "text": [
      "loss 0.00608 acc 0.99839: 100%|██████████| 16/16 [00:23<00:00,  1.45s/it]\n",
      "val_loss 0.62274 val_acc 0.88889: 100%|██████████| 1/1 [00:00<00:00,  3.05it/s]\n"
     ]
    },
    {
     "name": "stdout",
     "output_type": "stream",
     "text": [
      "Epoch 12/100 loss 0.00608 val_loss 0.62274 acc 0.99839 val_acc 0.88889 train_f1 0.99850 val_f1 0.89274\n"
     ]
    },
    {
     "name": "stderr",
     "output_type": "stream",
     "text": [
      "loss 0.00624 acc 0.99756: 100%|██████████| 16/16 [00:23<00:00,  1.46s/it]\n",
      "val_loss 0.54389 val_acc 0.91667: 100%|██████████| 1/1 [00:00<00:00,  3.33it/s]\n"
     ]
    },
    {
     "name": "stdout",
     "output_type": "stream",
     "text": [
      "Epoch 13/100 loss 0.00624 val_loss 0.54389 acc 0.99756 val_acc 0.91667 train_f1 0.99750 val_f1 0.91876\n"
     ]
    },
    {
     "name": "stderr",
     "output_type": "stream",
     "text": [
      "loss 0.00535 acc 0.99766: 100%|██████████| 16/16 [00:23<00:00,  1.45s/it]\n",
      "val_loss 0.56528 val_acc 0.93056: 100%|██████████| 1/1 [00:00<00:00,  3.24it/s]\n"
     ]
    },
    {
     "name": "stdout",
     "output_type": "stream",
     "text": [
      "Epoch 14/100 loss 0.00535 val_loss 0.56528 acc 0.99766 val_acc 0.93056 train_f1 0.99775 val_f1 0.93176\n"
     ]
    },
    {
     "name": "stderr",
     "output_type": "stream",
     "text": [
      "loss 0.00391 acc 0.99878: 100%|██████████| 16/16 [00:23<00:00,  1.45s/it]\n",
      "val_loss 0.56854 val_acc 0.91667: 100%|██████████| 1/1 [00:00<00:00,  2.84it/s]\n"
     ]
    },
    {
     "name": "stdout",
     "output_type": "stream",
     "text": [
      "Epoch 15/100 loss 0.00391 val_loss 0.56854 acc 0.99878 val_acc 0.91667 train_f1 0.99875 val_f1 0.92056\n"
     ]
    },
    {
     "name": "stderr",
     "output_type": "stream",
     "text": [
      "loss 0.00303 acc 0.99839: 100%|██████████| 16/16 [00:23<00:00,  1.45s/it]\n",
      "val_loss 0.56477 val_acc 0.91667: 100%|██████████| 1/1 [00:00<00:00,  3.34it/s]\n"
     ]
    },
    {
     "name": "stdout",
     "output_type": "stream",
     "text": [
      "Epoch 16/100 loss 0.00303 val_loss 0.56477 acc 0.99839 val_acc 0.91667 train_f1 0.99850 val_f1 0.91824\n"
     ]
    },
    {
     "name": "stderr",
     "output_type": "stream",
     "text": [
      "loss 0.00322 acc 0.99902: 100%|██████████| 16/16 [00:23<00:00,  1.46s/it]\n",
      "val_loss 0.62790 val_acc 0.90278: 100%|██████████| 1/1 [00:00<00:00,  3.05it/s]"
     ]
    },
    {
     "name": "stdout",
     "output_type": "stream",
     "text": [
      "Epoch 17/100 loss 0.00322 val_loss 0.62790 acc 0.99902 val_acc 0.90278 train_f1 0.99900 val_f1 0.90554\n",
      "Patience counter alcanzado. Deteniendo entrenamiento por Early Stopping.\n",
      "Datos de entrenamiento guardados en train_data.json\n"
     ]
    },
    {
     "name": "stderr",
     "output_type": "stream",
     "text": [
      "\n"
     ]
    },
    {
     "data": {
      "text/plain": [
       "([0.4822328621521592,\n",
       "  0.04891164047876373,\n",
       "  0.030884812586009502,\n",
       "  0.015681905671954155,\n",
       "  0.00995333687751554,\n",
       "  0.007402178285701666,\n",
       "  0.008053842568187974,\n",
       "  0.005117575790791307,\n",
       "  0.004429641714523314,\n",
       "  0.0070385901835834375,\n",
       "  0.006153060234282748,\n",
       "  0.006076024825233617,\n",
       "  0.0062368698927457444,\n",
       "  0.005352868842237513,\n",
       "  0.003910640361937112,\n",
       "  0.003029496967428713,\n",
       "  0.003217040648451075],\n",
       " [0.9295042753219604,\n",
       "  0.7243459224700928,\n",
       "  0.6674597859382629,\n",
       "  0.5633869767189026,\n",
       "  0.3155466318130493,\n",
       "  0.4327344000339508,\n",
       "  0.40877825021743774,\n",
       "  0.3597714602947235,\n",
       "  0.42066490650177,\n",
       "  0.5357568264007568,\n",
       "  0.5875074863433838,\n",
       "  0.6227407455444336,\n",
       "  0.5438858866691589,\n",
       "  0.5652825832366943,\n",
       "  0.5685351490974426,\n",
       "  0.5647656917572021,\n",
       "  0.6279000043869019],\n",
       " [0.869140625,\n",
       "  0.991943359375,\n",
       "  0.992529296875,\n",
       "  0.995556640625,\n",
       "  0.997900390625,\n",
       "  0.99755859375,\n",
       "  0.998046875,\n",
       "  0.998779296875,\n",
       "  0.999267578125,\n",
       "  0.99853515625,\n",
       "  0.99814453125,\n",
       "  0.998388671875,\n",
       "  0.99755859375,\n",
       "  0.99765625,\n",
       "  0.998779296875,\n",
       "  0.998388671875,\n",
       "  0.9990234375],\n",
       " [0.75,\n",
       "  0.8472222222222222,\n",
       "  0.7638888888888888,\n",
       "  0.8611111111111112,\n",
       "  0.9305555555555556,\n",
       "  0.8888888888888888,\n",
       "  0.9027777777777778,\n",
       "  0.9444444444444444,\n",
       "  0.9027777777777778,\n",
       "  0.9166666666666666,\n",
       "  0.9027777777777778,\n",
       "  0.8888888888888888,\n",
       "  0.9166666666666666,\n",
       "  0.9305555555555556,\n",
       "  0.9166666666666666,\n",
       "  0.9166666666666666,\n",
       "  0.9027777777777778],\n",
       " [0.8669689436670799,\n",
       "  0.9917509852576266,\n",
       "  0.992500607735805,\n",
       "  0.995751186484969,\n",
       "  0.9979990490153395,\n",
       "  0.997498608039014,\n",
       "  0.9980003712644769,\n",
       "  0.9987500119731004,\n",
       "  0.9992499930100762,\n",
       "  0.998499981584568,\n",
       "  0.9982499030333706,\n",
       "  0.9985000067299313,\n",
       "  0.9974998837335484,\n",
       "  0.9977500834730527,\n",
       "  0.9987498122732291,\n",
       "  0.9984999654600718,\n",
       "  0.9990000324516941],\n",
       " [0.7489074638041138,\n",
       "  0.8516346595359641,\n",
       "  0.7639329805996473,\n",
       "  0.860576923076923,\n",
       "  0.9296570419103314,\n",
       "  0.8869485294117647,\n",
       "  0.9036153752436648,\n",
       "  0.9463866607248961,\n",
       "  0.9053055695212558,\n",
       "  0.9205550586364539,\n",
       "  0.9055356193514089,\n",
       "  0.8927391283572434,\n",
       "  0.9187617937617938,\n",
       "  0.9317580023462377,\n",
       "  0.9205550586364539,\n",
       "  0.9182400445558341,\n",
       "  0.9055356193514089])"
      ]
     },
     "execution_count": 13,
     "metadata": {},
     "output_type": "execute_result"
    }
   ],
   "source": [
    "fit(model, train_loader=train_loader, eval_loader=val_loader, epochs=100, model_name='data/inceptionv3_Mixed_7_fc_weights.pth', results_file='data/inceptionv3_Mixed_7_fc_train_results.json') "
   ]
  },
  {
   "cell_type": "code",
   "execution_count": 14,
   "id": "0effa485",
   "metadata": {},
   "outputs": [
    {
     "data": {
      "image/png": "[encoded data removed]",
      "text/plain": [
       "<Figure size 1800x500 with 3 Axes>"
      ]
     },
     "metadata": {},
     "output_type": "display_data"
    }
   ],
   "source": [
    "plot_train_results_from_json(json_file='data/inceptionv3_Mixed_7_fc_train_results.json')"
   ]
  },
  {
   "cell_type": "code",
   "execution_count": 15,
   "id": "bcf75ad4",
   "metadata": {},
   "outputs": [
    {
     "name": "stdout",
     "output_type": "stream",
     "text": [
      "Resultados guardados en data/inceptionv3_Mixed_7_fc_evaluation_results.json\n"
     ]
    },
    {
     "data": {
      "image/png": "[encoded data removed]",
      "text/plain": [
       "<Figure size 1500x600 with 4 Axes>"
      ]
     },
     "metadata": {},
     "output_type": "display_data"
    }
   ],
   "source": [
    "evaluate_model(model, test_loader, test_dataset.classes, device, output_file='data/inceptionv3_Mixed_7_fc_evaluation_results.json')"
   ]
  }
 ],
 "metadata": {
  "kernelspec": {
   "display_name": "Python 3",
   "language": "python",
   "name": "python3"
  },
  "language_info": {
   "codemirror_mode": {
    "name": "ipython",
    "version": 3
   },
   "file_extension": ".py",
   "mimetype": "text/x-python",
   "name": "python",
   "nbconvert_exporter": "python",
   "pygments_lexer": "ipython3",
   "version": "3.12.10"
  }
 },
 "nbformat": 4,
 "nbformat_minor": 5
}
