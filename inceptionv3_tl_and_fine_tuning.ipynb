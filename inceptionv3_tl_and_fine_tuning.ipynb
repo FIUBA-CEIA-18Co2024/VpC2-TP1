{
 "cells": [
  {
   "cell_type": "code",
   "execution_count": 3,
   "id": "12c1f03b",
   "metadata": {},
   "outputs": [
    {
     "name": "stdout",
     "output_type": "stream",
     "text": [
      "Dispositivo a utilizar: cuda\n"
     ]
    }
   ],
   "source": [
    "import os\n",
    "import random\n",
    "import numpy as np\n",
    "import torch\n",
    "import torch.nn as nn\n",
    "from PIL import Image\n",
    "from PIL import ImageOps\n",
    "from src.training import fit\n",
    "import torchinfo as torchinfo\n",
    "from src.evaluation import evaluate_model\n",
    "from collections import Counter\n",
    "from torchvision import datasets, transforms\n",
    "from src.training import plot_train_results_from_json\n",
    "from torchvision.models import inception_v3, Inception_V3_Weights\n",
    "from torch.utils.data import DataLoader, WeightedRandomSampler\n",
    "\n",
    "# USAR GPU SI ES POSIBLE\n",
    "device = \"cuda\" if torch.cuda.is_available() else \"cpu\"\n",
    "\n",
    "# Path de descarga de datasets usando KaggleHub\n",
    "os.environ[\"KAGGLEHUB_CACHE\"] = \"./\"\n",
    "\n",
    "# PARAMETROS GLOBALES\n",
    "BATCH_SIZE = 256\n",
    "WORKERS = 0\n",
    "DATASET_AUGMENTED_SIZE = 4000\n",
    "\n",
    "print(f'Dispositivo a utilizar: {device}')"
   ]
  },
  {
   "cell_type": "code",
   "execution_count": 4,
   "id": "4eb85f33",
   "metadata": {},
   "outputs": [],
   "source": [
    "def set_seed(seed: int = 42):\n",
    "    random.seed(seed)\n",
    "    np.random.seed(seed)\n",
    "    torch.manual_seed(seed)\n",
    "    torch.cuda.manual_seed(seed)\n",
    "    torch.cuda.manual_seed_all(seed)  # Para multi-GPU (si aplica)\n",
    "\n",
    "    # Determinismo en cuDNN (puede impactar en performance)\n",
    "    torch.backends.cudnn.deterministic = True\n",
    "    torch.backends.cudnn.benchmark = False\n",
    "\n",
    "    os.environ['PYTHONHASHSEED'] = str(seed)\n",
    "\n",
    "set_seed()"
   ]
  },
  {
   "cell_type": "code",
   "execution_count": null,
   "id": "c4f9ade7",
   "metadata": {},
   "outputs": [
    {
     "name": "stdout",
     "output_type": "stream",
     "text": [
      "Cantidad de imágenes por tipo de canal (modo):\n",
      "  RGBA: 923 imágenes\n",
      "  RGB: 74 imágenes\n",
      "  L: 3 imágenes\n"
     ]
    }
   ],
   "source": [
    "# Directorio raíz del dataset\n",
    "root_dir = \"./data/dataset\"\n",
    "\n",
    "# Inicializamos contador\n",
    "channel_counter = Counter()\n",
    "errors = []\n",
    "\n",
    "# Recorremos todas las imágenes\n",
    "for split in [\"train\", \"valid\", \"test\"]:\n",
    "    split_path = os.path.join(root_dir, split)\n",
    "    for class_name in os.listdir(split_path):\n",
    "        class_dir = os.path.join(split_path, class_name)\n",
    "        if not os.path.isdir(class_dir):\n",
    "            continue\n",
    "        for img_name in os.listdir(class_dir):\n",
    "            img_path = os.path.join(class_dir, img_name)\n",
    "            try:\n",
    "                with Image.open(img_path) as img:\n",
    "                    channel_counter[img.mode] += 1\n",
    "            except Exception as e:\n",
    "                errors.append((img_path, str(e)))\n",
    "\n",
    "# Resultados\n",
    "print(\"Cantidad de imágenes por tipo de canal (modo):\")\n",
    "for mode, count in channel_counter.items():\n",
    "    print(f\"  {mode}: {count} imágenes\")\n",
    "\n",
    "if errors:\n",
    "    print(\"\\nErrores al abrir algunas imágenes:\")\n",
    "    for path, err in errors:\n",
    "        print(f\"  {path} -> {err}\")"
   ]
  },
  {
   "cell_type": "code",
   "execution_count": 6,
   "id": "b83f3cb9",
   "metadata": {},
   "outputs": [],
   "source": [
    "class ResizeWithAspectRatioPadding:\n",
    "    \"\"\"\n",
    "    Clase para redimensionar imágenes manteniendo el aspecto y rellenando con ceros (padding).\n",
    "    \"\"\"\n",
    "    def __init__(self, target_size):\n",
    "        self.target_size = target_size\n",
    "\n",
    "    def __call__(self, img):\n",
    "        # Convertimos a tamaño cuadrado manteniendo aspecto\n",
    "        old_width, old_height = img.size\n",
    "        ratio = min(self.target_size[0] / old_width, self.target_size[1] / old_height)\n",
    "        new_size = (int(old_width * ratio), int(old_height * ratio))\n",
    "        img = img.resize(new_size, resample=Image.BILINEAR)\n",
    "\n",
    "        delta_w = self.target_size[0] - new_size[0]\n",
    "        delta_h = self.target_size[1] - new_size[1]\n",
    "        padding = (delta_w // 2, delta_h // 2, delta_w - delta_w // 2, delta_h - delta_h // 2)\n",
    "        img = ImageOps.expand(img, padding, fill=0)\n",
    "\n",
    "        return img"
   ]
  },
  {
   "cell_type": "code",
   "execution_count": 7,
   "id": "e71b2d6e",
   "metadata": {},
   "outputs": [
    {
     "name": "stdout",
     "output_type": "stream",
     "text": [
      "Pesos por clase: {0: 3.1435897435897435, 1: 5.3304347826086955, 2: 4.141891891891892, 3: 3.9548387096774196}\n",
      "Tamaño de train dataset original: 613\n",
      "Tamaño de train dataset con augmentation: 4000\n",
      "Tamaño de validation dataset: 72\n",
      "Tamaño de test dataset: 315\n"
     ]
    }
   ],
   "source": [
    "# Paso previo obligatorio: transformar todo a RGB\n",
    "to_rgb = transforms.Lambda(lambda img: img.convert(\"RGB\"))\n",
    "\n",
    "# Tamaño objetivo (input para ResNet)\n",
    "image_size = (299, 299)\n",
    "\n",
    "# 1- Se aplican distintas transformaciones para el dataset de train y test\n",
    "# Transform para train (con augmentations)\n",
    "train_transform = transforms.Compose([\n",
    "    to_rgb,\n",
    "    ResizeWithAspectRatioPadding(image_size),\n",
    "    transforms.RandomHorizontalFlip(p=0.5),\n",
    "    transforms.RandomRotation(degrees=10),\n",
    "    transforms.ColorJitter(brightness=0.1, contrast=0.1),  # Augmentations suaves\n",
    "    transforms.ToTensor(),\n",
    "    transforms.Normalize(mean=[0.485, 0.456, 0.406], std=[0.229, 0.224, 0.225])\n",
    "])\n",
    "\n",
    "# Transform para valid (sin augmentations, con resize)\n",
    "valid_transform = transforms.Compose([\n",
    "    to_rgb,\n",
    "    ResizeWithAspectRatioPadding(image_size),\n",
    "    transforms.ToTensor(),\n",
    "    transforms.Normalize(mean=[0.485, 0.456, 0.406], std=[0.229, 0.224, 0.225])\n",
    "])\n",
    "\n",
    "# Transform para test (idéntico a valid)\n",
    "test_transform = transforms.Compose([\n",
    "    to_rgb,\n",
    "    ResizeWithAspectRatioPadding(image_size),\n",
    "    transforms.ToTensor(),\n",
    "    transforms.Normalize(mean=[0.485, 0.456, 0.406], std=[0.229, 0.224, 0.225])\n",
    "])\n",
    "\n",
    "# 2- Se cargan los datasets de train y test con las transformaciones\n",
    "train_dataset = datasets.ImageFolder(root='data/dataset' + '/train', transform=train_transform)\n",
    "test_dataset = datasets.ImageFolder(root='data/dataset' + '/test', transform=test_transform)\n",
    "valid_dataset = datasets.ImageFolder(root='data/dataset' + '/valid', transform=valid_transform)\n",
    "\n",
    "# 3- Se splitea el dataset de train en train y validation para entrenamiento, test se deja para tarea final de evaluación\n",
    "# Obtener las etiquetas de las imágenes en el dataset de entrenamiento\n",
    "targets = [label for _, label in train_dataset]\n",
    "class_counts = Counter(targets)\n",
    "class_weights = {cls: len(targets) / count for cls, count in class_counts.items()}\n",
    "sample_weights = torch.DoubleTensor([class_weights[label] for label in targets])\n",
    "\n",
    "# 4 - Sampler balanceado\n",
    "sampler = WeightedRandomSampler(\n",
    "    weights=sample_weights,num_samples=DATASET_AUGMENTED_SIZE,replacement=True\n",
    ")\n",
    "\n",
    "# 5 - DataLoaders\n",
    "train_loader = DataLoader(train_dataset, batch_size=BATCH_SIZE, sampler=sampler, num_workers=WORKERS, pin_memory=True)\n",
    "val_loader = DataLoader(valid_dataset, batch_size=BATCH_SIZE, shuffle=False, num_workers=WORKERS, pin_memory=True)\n",
    "test_loader = DataLoader(test_dataset, batch_size=BATCH_SIZE, shuffle=False, num_workers=WORKERS, pin_memory=True)\n",
    "\n",
    "# 6 - Info\n",
    "print(f\"Pesos por clase: {class_weights}\")\n",
    "print(f\"Tamaño de train dataset original: {len(train_dataset)}\")\n",
    "print(f\"Tamaño de train dataset con augmentation: {DATASET_AUGMENTED_SIZE}\")\n",
    "print(f\"Tamaño de validation dataset: {len(valid_dataset)}\")\n",
    "print(f\"Tamaño de test dataset: {len(test_dataset)}\")"
   ]
  },
  {
   "cell_type": "code",
   "execution_count": 8,
   "id": "7d538ccb",
   "metadata": {},
   "outputs": [
    {
     "name": "stdout",
     "output_type": "stream",
     "text": [
      "La arquitectura por default de ResNet-50 es la siguiente:\n",
      "\n",
      "Inception3(\n",
      "  (Conv2d_1a_3x3): BasicConv2d(\n",
      "    (conv): Conv2d(3, 32, kernel_size=(3, 3), stride=(2, 2), bias=False)\n",
      "    (bn): BatchNorm2d(32, eps=0.001, momentum=0.1, affine=True, track_running_stats=True)\n",
      "  )\n",
      "  (Conv2d_2a_3x3): BasicConv2d(\n",
      "    (conv): Conv2d(32, 32, kernel_size=(3, 3), stride=(1, 1), bias=False)\n",
      "    (bn): BatchNorm2d(32, eps=0.001, momentum=0.1, affine=True, track_running_stats=True)\n",
      "  )\n",
      "  (Conv2d_2b_3x3): BasicConv2d(\n",
      "    (conv): Conv2d(32, 64, kernel_size=(3, 3), stride=(1, 1), padding=(1, 1), bias=False)\n",
      "    (bn): BatchNorm2d(64, eps=0.001, momentum=0.1, affine=True, track_running_stats=True)\n",
      "  )\n",
      "  (maxpool1): MaxPool2d(kernel_size=3, stride=2, padding=0, dilation=1, ceil_mode=False)\n",
      "  (Conv2d_3b_1x1): BasicConv2d(\n",
      "    (conv): Conv2d(64, 80, kernel_size=(1, 1), stride=(1, 1), bias=False)\n",
      "    (bn): BatchNorm2d(80, eps=0.001, momentum=0.1, affine=True, track_running_stats=True)\n",
      "  )\n",
      "  (Conv2d_4a_3x3): BasicConv2d(\n",
      "    (conv): Conv2d(80, 192, kernel_size=(3, 3), stride=(1, 1), bias=False)\n",
      "    (bn): BatchNorm2d(192, eps=0.001, momentum=0.1, affine=True, track_running_stats=True)\n",
      "  )\n",
      "  (maxpool2): MaxPool2d(kernel_size=3, stride=2, padding=0, dilation=1, ceil_mode=False)\n",
      "  (Mixed_5b): InceptionA(\n",
      "    (branch1x1): BasicConv2d(\n",
      "      (conv): Conv2d(192, 64, kernel_size=(1, 1), stride=(1, 1), bias=False)\n",
      "      (bn): BatchNorm2d(64, eps=0.001, momentum=0.1, affine=True, track_running_stats=True)\n",
      "    )\n",
      "    (branch5x5_1): BasicConv2d(\n",
      "      (conv): Conv2d(192, 48, kernel_size=(1, 1), stride=(1, 1), bias=False)\n",
      "      (bn): BatchNorm2d(48, eps=0.001, momentum=0.1, affine=True, track_running_stats=True)\n",
      "    )\n",
      "    (branch5x5_2): BasicConv2d(\n",
      "      (conv): Conv2d(48, 64, kernel_size=(5, 5), stride=(1, 1), padding=(2, 2), bias=False)\n",
      "      (bn): BatchNorm2d(64, eps=0.001, momentum=0.1, affine=True, track_running_stats=True)\n",
      "    )\n",
      "    (branch3x3dbl_1): BasicConv2d(\n",
      "      (conv): Conv2d(192, 64, kernel_size=(1, 1), stride=(1, 1), bias=False)\n",
      "      (bn): BatchNorm2d(64, eps=0.001, momentum=0.1, affine=True, track_running_stats=True)\n",
      "    )\n",
      "    (branch3x3dbl_2): BasicConv2d(\n",
      "      (conv): Conv2d(64, 96, kernel_size=(3, 3), stride=(1, 1), padding=(1, 1), bias=False)\n",
      "      (bn): BatchNorm2d(96, eps=0.001, momentum=0.1, affine=True, track_running_stats=True)\n",
      "    )\n",
      "    (branch3x3dbl_3): BasicConv2d(\n",
      "      (conv): Conv2d(96, 96, kernel_size=(3, 3), stride=(1, 1), padding=(1, 1), bias=False)\n",
      "      (bn): BatchNorm2d(96, eps=0.001, momentum=0.1, affine=True, track_running_stats=True)\n",
      "    )\n",
      "    (branch_pool): BasicConv2d(\n",
      "      (conv): Conv2d(192, 32, kernel_size=(1, 1), stride=(1, 1), bias=False)\n",
      "      (bn): BatchNorm2d(32, eps=0.001, momentum=0.1, affine=True, track_running_stats=True)\n",
      "    )\n",
      "  )\n",
      "  (Mixed_5c): InceptionA(\n",
      "    (branch1x1): BasicConv2d(\n",
      "      (conv): Conv2d(256, 64, kernel_size=(1, 1), stride=(1, 1), bias=False)\n",
      "      (bn): BatchNorm2d(64, eps=0.001, momentum=0.1, affine=True, track_running_stats=True)\n",
      "    )\n",
      "    (branch5x5_1): BasicConv2d(\n",
      "      (conv): Conv2d(256, 48, kernel_size=(1, 1), stride=(1, 1), bias=False)\n",
      "      (bn): BatchNorm2d(48, eps=0.001, momentum=0.1, affine=True, track_running_stats=True)\n",
      "    )\n",
      "    (branch5x5_2): BasicConv2d(\n",
      "      (conv): Conv2d(48, 64, kernel_size=(5, 5), stride=(1, 1), padding=(2, 2), bias=False)\n",
      "      (bn): BatchNorm2d(64, eps=0.001, momentum=0.1, affine=True, track_running_stats=True)\n",
      "    )\n",
      "    (branch3x3dbl_1): BasicConv2d(\n",
      "      (conv): Conv2d(256, 64, kernel_size=(1, 1), stride=(1, 1), bias=False)\n",
      "      (bn): BatchNorm2d(64, eps=0.001, momentum=0.1, affine=True, track_running_stats=True)\n",
      "    )\n",
      "    (branch3x3dbl_2): BasicConv2d(\n",
      "      (conv): Conv2d(64, 96, kernel_size=(3, 3), stride=(1, 1), padding=(1, 1), bias=False)\n",
      "      (bn): BatchNorm2d(96, eps=0.001, momentum=0.1, affine=True, track_running_stats=True)\n",
      "    )\n",
      "    (branch3x3dbl_3): BasicConv2d(\n",
      "      (conv): Conv2d(96, 96, kernel_size=(3, 3), stride=(1, 1), padding=(1, 1), bias=False)\n",
      "      (bn): BatchNorm2d(96, eps=0.001, momentum=0.1, affine=True, track_running_stats=True)\n",
      "    )\n",
      "    (branch_pool): BasicConv2d(\n",
      "      (conv): Conv2d(256, 64, kernel_size=(1, 1), stride=(1, 1), bias=False)\n",
      "      (bn): BatchNorm2d(64, eps=0.001, momentum=0.1, affine=True, track_running_stats=True)\n",
      "    )\n",
      "  )\n",
      "  (Mixed_5d): InceptionA(\n",
      "    (branch1x1): BasicConv2d(\n",
      "      (conv): Conv2d(288, 64, kernel_size=(1, 1), stride=(1, 1), bias=False)\n",
      "      (bn): BatchNorm2d(64, eps=0.001, momentum=0.1, affine=True, track_running_stats=True)\n",
      "    )\n",
      "    (branch5x5_1): BasicConv2d(\n",
      "      (conv): Conv2d(288, 48, kernel_size=(1, 1), stride=(1, 1), bias=False)\n",
      "      (bn): BatchNorm2d(48, eps=0.001, momentum=0.1, affine=True, track_running_stats=True)\n",
      "    )\n",
      "    (branch5x5_2): BasicConv2d(\n",
      "      (conv): Conv2d(48, 64, kernel_size=(5, 5), stride=(1, 1), padding=(2, 2), bias=False)\n",
      "      (bn): BatchNorm2d(64, eps=0.001, momentum=0.1, affine=True, track_running_stats=True)\n",
      "    )\n",
      "    (branch3x3dbl_1): BasicConv2d(\n",
      "      (conv): Conv2d(288, 64, kernel_size=(1, 1), stride=(1, 1), bias=False)\n",
      "      (bn): BatchNorm2d(64, eps=0.001, momentum=0.1, affine=True, track_running_stats=True)\n",
      "    )\n",
      "    (branch3x3dbl_2): BasicConv2d(\n",
      "      (conv): Conv2d(64, 96, kernel_size=(3, 3), stride=(1, 1), padding=(1, 1), bias=False)\n",
      "      (bn): BatchNorm2d(96, eps=0.001, momentum=0.1, affine=True, track_running_stats=True)\n",
      "    )\n",
      "    (branch3x3dbl_3): BasicConv2d(\n",
      "      (conv): Conv2d(96, 96, kernel_size=(3, 3), stride=(1, 1), padding=(1, 1), bias=False)\n",
      "      (bn): BatchNorm2d(96, eps=0.001, momentum=0.1, affine=True, track_running_stats=True)\n",
      "    )\n",
      "    (branch_pool): BasicConv2d(\n",
      "      (conv): Conv2d(288, 64, kernel_size=(1, 1), stride=(1, 1), bias=False)\n",
      "      (bn): BatchNorm2d(64, eps=0.001, momentum=0.1, affine=True, track_running_stats=True)\n",
      "    )\n",
      "  )\n",
      "  (Mixed_6a): InceptionB(\n",
      "    (branch3x3): BasicConv2d(\n",
      "      (conv): Conv2d(288, 384, kernel_size=(3, 3), stride=(2, 2), bias=False)\n",
      "      (bn): BatchNorm2d(384, eps=0.001, momentum=0.1, affine=True, track_running_stats=True)\n",
      "    )\n",
      "    (branch3x3dbl_1): BasicConv2d(\n",
      "      (conv): Conv2d(288, 64, kernel_size=(1, 1), stride=(1, 1), bias=False)\n",
      "      (bn): BatchNorm2d(64, eps=0.001, momentum=0.1, affine=True, track_running_stats=True)\n",
      "    )\n",
      "    (branch3x3dbl_2): BasicConv2d(\n",
      "      (conv): Conv2d(64, 96, kernel_size=(3, 3), stride=(1, 1), padding=(1, 1), bias=False)\n",
      "      (bn): BatchNorm2d(96, eps=0.001, momentum=0.1, affine=True, track_running_stats=True)\n",
      "    )\n",
      "    (branch3x3dbl_3): BasicConv2d(\n",
      "      (conv): Conv2d(96, 96, kernel_size=(3, 3), stride=(2, 2), bias=False)\n",
      "      (bn): BatchNorm2d(96, eps=0.001, momentum=0.1, affine=True, track_running_stats=True)\n",
      "    )\n",
      "  )\n",
      "  (Mixed_6b): InceptionC(\n",
      "    (branch1x1): BasicConv2d(\n",
      "      (conv): Conv2d(768, 192, kernel_size=(1, 1), stride=(1, 1), bias=False)\n",
      "      (bn): BatchNorm2d(192, eps=0.001, momentum=0.1, affine=True, track_running_stats=True)\n",
      "    )\n",
      "    (branch7x7_1): BasicConv2d(\n",
      "      (conv): Conv2d(768, 128, kernel_size=(1, 1), stride=(1, 1), bias=False)\n",
      "      (bn): BatchNorm2d(128, eps=0.001, momentum=0.1, affine=True, track_running_stats=True)\n",
      "    )\n",
      "    (branch7x7_2): BasicConv2d(\n",
      "      (conv): Conv2d(128, 128, kernel_size=(1, 7), stride=(1, 1), padding=(0, 3), bias=False)\n",
      "      (bn): BatchNorm2d(128, eps=0.001, momentum=0.1, affine=True, track_running_stats=True)\n",
      "    )\n",
      "    (branch7x7_3): BasicConv2d(\n",
      "      (conv): Conv2d(128, 192, kernel_size=(7, 1), stride=(1, 1), padding=(3, 0), bias=False)\n",
      "      (bn): BatchNorm2d(192, eps=0.001, momentum=0.1, affine=True, track_running_stats=True)\n",
      "    )\n",
      "    (branch7x7dbl_1): BasicConv2d(\n",
      "      (conv): Conv2d(768, 128, kernel_size=(1, 1), stride=(1, 1), bias=False)\n",
      "      (bn): BatchNorm2d(128, eps=0.001, momentum=0.1, affine=True, track_running_stats=True)\n",
      "    )\n",
      "    (branch7x7dbl_2): BasicConv2d(\n",
      "      (conv): Conv2d(128, 128, kernel_size=(7, 1), stride=(1, 1), padding=(3, 0), bias=False)\n",
      "      (bn): BatchNorm2d(128, eps=0.001, momentum=0.1, affine=True, track_running_stats=True)\n",
      "    )\n",
      "    (branch7x7dbl_3): BasicConv2d(\n",
      "      (conv): Conv2d(128, 128, kernel_size=(1, 7), stride=(1, 1), padding=(0, 3), bias=False)\n",
      "      (bn): BatchNorm2d(128, eps=0.001, momentum=0.1, affine=True, track_running_stats=True)\n",
      "    )\n",
      "    (branch7x7dbl_4): BasicConv2d(\n",
      "      (conv): Conv2d(128, 128, kernel_size=(7, 1), stride=(1, 1), padding=(3, 0), bias=False)\n",
      "      (bn): BatchNorm2d(128, eps=0.001, momentum=0.1, affine=True, track_running_stats=True)\n",
      "    )\n",
      "    (branch7x7dbl_5): BasicConv2d(\n",
      "      (conv): Conv2d(128, 192, kernel_size=(1, 7), stride=(1, 1), padding=(0, 3), bias=False)\n",
      "      (bn): BatchNorm2d(192, eps=0.001, momentum=0.1, affine=True, track_running_stats=True)\n",
      "    )\n",
      "    (branch_pool): BasicConv2d(\n",
      "      (conv): Conv2d(768, 192, kernel_size=(1, 1), stride=(1, 1), bias=False)\n",
      "      (bn): BatchNorm2d(192, eps=0.001, momentum=0.1, affine=True, track_running_stats=True)\n",
      "    )\n",
      "  )\n",
      "  (Mixed_6c): InceptionC(\n",
      "    (branch1x1): BasicConv2d(\n",
      "      (conv): Conv2d(768, 192, kernel_size=(1, 1), stride=(1, 1), bias=False)\n",
      "      (bn): BatchNorm2d(192, eps=0.001, momentum=0.1, affine=True, track_running_stats=True)\n",
      "    )\n",
      "    (branch7x7_1): BasicConv2d(\n",
      "      (conv): Conv2d(768, 160, kernel_size=(1, 1), stride=(1, 1), bias=False)\n",
      "      (bn): BatchNorm2d(160, eps=0.001, momentum=0.1, affine=True, track_running_stats=True)\n",
      "    )\n",
      "    (branch7x7_2): BasicConv2d(\n",
      "      (conv): Conv2d(160, 160, kernel_size=(1, 7), stride=(1, 1), padding=(0, 3), bias=False)\n",
      "      (bn): BatchNorm2d(160, eps=0.001, momentum=0.1, affine=True, track_running_stats=True)\n",
      "    )\n",
      "    (branch7x7_3): BasicConv2d(\n",
      "      (conv): Conv2d(160, 192, kernel_size=(7, 1), stride=(1, 1), padding=(3, 0), bias=False)\n",
      "      (bn): BatchNorm2d(192, eps=0.001, momentum=0.1, affine=True, track_running_stats=True)\n",
      "    )\n",
      "    (branch7x7dbl_1): BasicConv2d(\n",
      "      (conv): Conv2d(768, 160, kernel_size=(1, 1), stride=(1, 1), bias=False)\n",
      "      (bn): BatchNorm2d(160, eps=0.001, momentum=0.1, affine=True, track_running_stats=True)\n",
      "    )\n",
      "    (branch7x7dbl_2): BasicConv2d(\n",
      "      (conv): Conv2d(160, 160, kernel_size=(7, 1), stride=(1, 1), padding=(3, 0), bias=False)\n",
      "      (bn): BatchNorm2d(160, eps=0.001, momentum=0.1, affine=True, track_running_stats=True)\n",
      "    )\n",
      "    (branch7x7dbl_3): BasicConv2d(\n",
      "      (conv): Conv2d(160, 160, kernel_size=(1, 7), stride=(1, 1), padding=(0, 3), bias=False)\n",
      "      (bn): BatchNorm2d(160, eps=0.001, momentum=0.1, affine=True, track_running_stats=True)\n",
      "    )\n",
      "    (branch7x7dbl_4): BasicConv2d(\n",
      "      (conv): Conv2d(160, 160, kernel_size=(7, 1), stride=(1, 1), padding=(3, 0), bias=False)\n",
      "      (bn): BatchNorm2d(160, eps=0.001, momentum=0.1, affine=True, track_running_stats=True)\n",
      "    )\n",
      "    (branch7x7dbl_5): BasicConv2d(\n",
      "      (conv): Conv2d(160, 192, kernel_size=(1, 7), stride=(1, 1), padding=(0, 3), bias=False)\n",
      "      (bn): BatchNorm2d(192, eps=0.001, momentum=0.1, affine=True, track_running_stats=True)\n",
      "    )\n",
      "    (branch_pool): BasicConv2d(\n",
      "      (conv): Conv2d(768, 192, kernel_size=(1, 1), stride=(1, 1), bias=False)\n",
      "      (bn): BatchNorm2d(192, eps=0.001, momentum=0.1, affine=True, track_running_stats=True)\n",
      "    )\n",
      "  )\n",
      "  (Mixed_6d): InceptionC(\n",
      "    (branch1x1): BasicConv2d(\n",
      "      (conv): Conv2d(768, 192, kernel_size=(1, 1), stride=(1, 1), bias=False)\n",
      "      (bn): BatchNorm2d(192, eps=0.001, momentum=0.1, affine=True, track_running_stats=True)\n",
      "    )\n",
      "    (branch7x7_1): BasicConv2d(\n",
      "      (conv): Conv2d(768, 160, kernel_size=(1, 1), stride=(1, 1), bias=False)\n",
      "      (bn): BatchNorm2d(160, eps=0.001, momentum=0.1, affine=True, track_running_stats=True)\n",
      "    )\n",
      "    (branch7x7_2): BasicConv2d(\n",
      "      (conv): Conv2d(160, 160, kernel_size=(1, 7), stride=(1, 1), padding=(0, 3), bias=False)\n",
      "      (bn): BatchNorm2d(160, eps=0.001, momentum=0.1, affine=True, track_running_stats=True)\n",
      "    )\n",
      "    (branch7x7_3): BasicConv2d(\n",
      "      (conv): Conv2d(160, 192, kernel_size=(7, 1), stride=(1, 1), padding=(3, 0), bias=False)\n",
      "      (bn): BatchNorm2d(192, eps=0.001, momentum=0.1, affine=True, track_running_stats=True)\n",
      "    )\n",
      "    (branch7x7dbl_1): BasicConv2d(\n",
      "      (conv): Conv2d(768, 160, kernel_size=(1, 1), stride=(1, 1), bias=False)\n",
      "      (bn): BatchNorm2d(160, eps=0.001, momentum=0.1, affine=True, track_running_stats=True)\n",
      "    )\n",
      "    (branch7x7dbl_2): BasicConv2d(\n",
      "      (conv): Conv2d(160, 160, kernel_size=(7, 1), stride=(1, 1), padding=(3, 0), bias=False)\n",
      "      (bn): BatchNorm2d(160, eps=0.001, momentum=0.1, affine=True, track_running_stats=True)\n",
      "    )\n",
      "    (branch7x7dbl_3): BasicConv2d(\n",
      "      (conv): Conv2d(160, 160, kernel_size=(1, 7), stride=(1, 1), padding=(0, 3), bias=False)\n",
      "      (bn): BatchNorm2d(160, eps=0.001, momentum=0.1, affine=True, track_running_stats=True)\n",
      "    )\n",
      "    (branch7x7dbl_4): BasicConv2d(\n",
      "      (conv): Conv2d(160, 160, kernel_size=(7, 1), stride=(1, 1), padding=(3, 0), bias=False)\n",
      "      (bn): BatchNorm2d(160, eps=0.001, momentum=0.1, affine=True, track_running_stats=True)\n",
      "    )\n",
      "    (branch7x7dbl_5): BasicConv2d(\n",
      "      (conv): Conv2d(160, 192, kernel_size=(1, 7), stride=(1, 1), padding=(0, 3), bias=False)\n",
      "      (bn): BatchNorm2d(192, eps=0.001, momentum=0.1, affine=True, track_running_stats=True)\n",
      "    )\n",
      "    (branch_pool): BasicConv2d(\n",
      "      (conv): Conv2d(768, 192, kernel_size=(1, 1), stride=(1, 1), bias=False)\n",
      "      (bn): BatchNorm2d(192, eps=0.001, momentum=0.1, affine=True, track_running_stats=True)\n",
      "    )\n",
      "  )\n",
      "  (Mixed_6e): InceptionC(\n",
      "    (branch1x1): BasicConv2d(\n",
      "      (conv): Conv2d(768, 192, kernel_size=(1, 1), stride=(1, 1), bias=False)\n",
      "      (bn): BatchNorm2d(192, eps=0.001, momentum=0.1, affine=True, track_running_stats=True)\n",
      "    )\n",
      "    (branch7x7_1): BasicConv2d(\n",
      "      (conv): Conv2d(768, 192, kernel_size=(1, 1), stride=(1, 1), bias=False)\n",
      "      (bn): BatchNorm2d(192, eps=0.001, momentum=0.1, affine=True, track_running_stats=True)\n",
      "    )\n",
      "    (branch7x7_2): BasicConv2d(\n",
      "      (conv): Conv2d(192, 192, kernel_size=(1, 7), stride=(1, 1), padding=(0, 3), bias=False)\n",
      "      (bn): BatchNorm2d(192, eps=0.001, momentum=0.1, affine=True, track_running_stats=True)\n",
      "    )\n",
      "    (branch7x7_3): BasicConv2d(\n",
      "      (conv): Conv2d(192, 192, kernel_size=(7, 1), stride=(1, 1), padding=(3, 0), bias=False)\n",
      "      (bn): BatchNorm2d(192, eps=0.001, momentum=0.1, affine=True, track_running_stats=True)\n",
      "    )\n",
      "    (branch7x7dbl_1): BasicConv2d(\n",
      "      (conv): Conv2d(768, 192, kernel_size=(1, 1), stride=(1, 1), bias=False)\n",
      "      (bn): BatchNorm2d(192, eps=0.001, momentum=0.1, affine=True, track_running_stats=True)\n",
      "    )\n",
      "    (branch7x7dbl_2): BasicConv2d(\n",
      "      (conv): Conv2d(192, 192, kernel_size=(7, 1), stride=(1, 1), padding=(3, 0), bias=False)\n",
      "      (bn): BatchNorm2d(192, eps=0.001, momentum=0.1, affine=True, track_running_stats=True)\n",
      "    )\n",
      "    (branch7x7dbl_3): BasicConv2d(\n",
      "      (conv): Conv2d(192, 192, kernel_size=(1, 7), stride=(1, 1), padding=(0, 3), bias=False)\n",
      "      (bn): BatchNorm2d(192, eps=0.001, momentum=0.1, affine=True, track_running_stats=True)\n",
      "    )\n",
      "    (branch7x7dbl_4): BasicConv2d(\n",
      "      (conv): Conv2d(192, 192, kernel_size=(7, 1), stride=(1, 1), padding=(3, 0), bias=False)\n",
      "      (bn): BatchNorm2d(192, eps=0.001, momentum=0.1, affine=True, track_running_stats=True)\n",
      "    )\n",
      "    (branch7x7dbl_5): BasicConv2d(\n",
      "      (conv): Conv2d(192, 192, kernel_size=(1, 7), stride=(1, 1), padding=(0, 3), bias=False)\n",
      "      (bn): BatchNorm2d(192, eps=0.001, momentum=0.1, affine=True, track_running_stats=True)\n",
      "    )\n",
      "    (branch_pool): BasicConv2d(\n",
      "      (conv): Conv2d(768, 192, kernel_size=(1, 1), stride=(1, 1), bias=False)\n",
      "      (bn): BatchNorm2d(192, eps=0.001, momentum=0.1, affine=True, track_running_stats=True)\n",
      "    )\n",
      "  )\n",
      "  (AuxLogits): InceptionAux(\n",
      "    (conv0): BasicConv2d(\n",
      "      (conv): Conv2d(768, 128, kernel_size=(1, 1), stride=(1, 1), bias=False)\n",
      "      (bn): BatchNorm2d(128, eps=0.001, momentum=0.1, affine=True, track_running_stats=True)\n",
      "    )\n",
      "    (conv1): BasicConv2d(\n",
      "      (conv): Conv2d(128, 768, kernel_size=(5, 5), stride=(1, 1), bias=False)\n",
      "      (bn): BatchNorm2d(768, eps=0.001, momentum=0.1, affine=True, track_running_stats=True)\n",
      "    )\n",
      "    (fc): Linear(in_features=768, out_features=1000, bias=True)\n",
      "  )\n",
      "  (Mixed_7a): InceptionD(\n",
      "    (branch3x3_1): BasicConv2d(\n",
      "      (conv): Conv2d(768, 192, kernel_size=(1, 1), stride=(1, 1), bias=False)\n",
      "      (bn): BatchNorm2d(192, eps=0.001, momentum=0.1, affine=True, track_running_stats=True)\n",
      "    )\n",
      "    (branch3x3_2): BasicConv2d(\n",
      "      (conv): Conv2d(192, 320, kernel_size=(3, 3), stride=(2, 2), bias=False)\n",
      "      (bn): BatchNorm2d(320, eps=0.001, momentum=0.1, affine=True, track_running_stats=True)\n",
      "    )\n",
      "    (branch7x7x3_1): BasicConv2d(\n",
      "      (conv): Conv2d(768, 192, kernel_size=(1, 1), stride=(1, 1), bias=False)\n",
      "      (bn): BatchNorm2d(192, eps=0.001, momentum=0.1, affine=True, track_running_stats=True)\n",
      "    )\n",
      "    (branch7x7x3_2): BasicConv2d(\n",
      "      (conv): Conv2d(192, 192, kernel_size=(1, 7), stride=(1, 1), padding=(0, 3), bias=False)\n",
      "      (bn): BatchNorm2d(192, eps=0.001, momentum=0.1, affine=True, track_running_stats=True)\n",
      "    )\n",
      "    (branch7x7x3_3): BasicConv2d(\n",
      "      (conv): Conv2d(192, 192, kernel_size=(7, 1), stride=(1, 1), padding=(3, 0), bias=False)\n",
      "      (bn): BatchNorm2d(192, eps=0.001, momentum=0.1, affine=True, track_running_stats=True)\n",
      "    )\n",
      "    (branch7x7x3_4): BasicConv2d(\n",
      "      (conv): Conv2d(192, 192, kernel_size=(3, 3), stride=(2, 2), bias=False)\n",
      "      (bn): BatchNorm2d(192, eps=0.001, momentum=0.1, affine=True, track_running_stats=True)\n",
      "    )\n",
      "  )\n",
      "  (Mixed_7b): InceptionE(\n",
      "    (branch1x1): BasicConv2d(\n",
      "      (conv): Conv2d(1280, 320, kernel_size=(1, 1), stride=(1, 1), bias=False)\n",
      "      (bn): BatchNorm2d(320, eps=0.001, momentum=0.1, affine=True, track_running_stats=True)\n",
      "    )\n",
      "    (branch3x3_1): BasicConv2d(\n",
      "      (conv): Conv2d(1280, 384, kernel_size=(1, 1), stride=(1, 1), bias=False)\n",
      "      (bn): BatchNorm2d(384, eps=0.001, momentum=0.1, affine=True, track_running_stats=True)\n",
      "    )\n",
      "    (branch3x3_2a): BasicConv2d(\n",
      "      (conv): Conv2d(384, 384, kernel_size=(1, 3), stride=(1, 1), padding=(0, 1), bias=False)\n",
      "      (bn): BatchNorm2d(384, eps=0.001, momentum=0.1, affine=True, track_running_stats=True)\n",
      "    )\n",
      "    (branch3x3_2b): BasicConv2d(\n",
      "      (conv): Conv2d(384, 384, kernel_size=(3, 1), stride=(1, 1), padding=(1, 0), bias=False)\n",
      "      (bn): BatchNorm2d(384, eps=0.001, momentum=0.1, affine=True, track_running_stats=True)\n",
      "    )\n",
      "    (branch3x3dbl_1): BasicConv2d(\n",
      "      (conv): Conv2d(1280, 448, kernel_size=(1, 1), stride=(1, 1), bias=False)\n",
      "      (bn): BatchNorm2d(448, eps=0.001, momentum=0.1, affine=True, track_running_stats=True)\n",
      "    )\n",
      "    (branch3x3dbl_2): BasicConv2d(\n",
      "      (conv): Conv2d(448, 384, kernel_size=(3, 3), stride=(1, 1), padding=(1, 1), bias=False)\n",
      "      (bn): BatchNorm2d(384, eps=0.001, momentum=0.1, affine=True, track_running_stats=True)\n",
      "    )\n",
      "    (branch3x3dbl_3a): BasicConv2d(\n",
      "      (conv): Conv2d(384, 384, kernel_size=(1, 3), stride=(1, 1), padding=(0, 1), bias=False)\n",
      "      (bn): BatchNorm2d(384, eps=0.001, momentum=0.1, affine=True, track_running_stats=True)\n",
      "    )\n",
      "    (branch3x3dbl_3b): BasicConv2d(\n",
      "      (conv): Conv2d(384, 384, kernel_size=(3, 1), stride=(1, 1), padding=(1, 0), bias=False)\n",
      "      (bn): BatchNorm2d(384, eps=0.001, momentum=0.1, affine=True, track_running_stats=True)\n",
      "    )\n",
      "    (branch_pool): BasicConv2d(\n",
      "      (conv): Conv2d(1280, 192, kernel_size=(1, 1), stride=(1, 1), bias=False)\n",
      "      (bn): BatchNorm2d(192, eps=0.001, momentum=0.1, affine=True, track_running_stats=True)\n",
      "    )\n",
      "  )\n",
      "  (Mixed_7c): InceptionE(\n",
      "    (branch1x1): BasicConv2d(\n",
      "      (conv): Conv2d(2048, 320, kernel_size=(1, 1), stride=(1, 1), bias=False)\n",
      "      (bn): BatchNorm2d(320, eps=0.001, momentum=0.1, affine=True, track_running_stats=True)\n",
      "    )\n",
      "    (branch3x3_1): BasicConv2d(\n",
      "      (conv): Conv2d(2048, 384, kernel_size=(1, 1), stride=(1, 1), bias=False)\n",
      "      (bn): BatchNorm2d(384, eps=0.001, momentum=0.1, affine=True, track_running_stats=True)\n",
      "    )\n",
      "    (branch3x3_2a): BasicConv2d(\n",
      "      (conv): Conv2d(384, 384, kernel_size=(1, 3), stride=(1, 1), padding=(0, 1), bias=False)\n",
      "      (bn): BatchNorm2d(384, eps=0.001, momentum=0.1, affine=True, track_running_stats=True)\n",
      "    )\n",
      "    (branch3x3_2b): BasicConv2d(\n",
      "      (conv): Conv2d(384, 384, kernel_size=(3, 1), stride=(1, 1), padding=(1, 0), bias=False)\n",
      "      (bn): BatchNorm2d(384, eps=0.001, momentum=0.1, affine=True, track_running_stats=True)\n",
      "    )\n",
      "    (branch3x3dbl_1): BasicConv2d(\n",
      "      (conv): Conv2d(2048, 448, kernel_size=(1, 1), stride=(1, 1), bias=False)\n",
      "      (bn): BatchNorm2d(448, eps=0.001, momentum=0.1, affine=True, track_running_stats=True)\n",
      "    )\n",
      "    (branch3x3dbl_2): BasicConv2d(\n",
      "      (conv): Conv2d(448, 384, kernel_size=(3, 3), stride=(1, 1), padding=(1, 1), bias=False)\n",
      "      (bn): BatchNorm2d(384, eps=0.001, momentum=0.1, affine=True, track_running_stats=True)\n",
      "    )\n",
      "    (branch3x3dbl_3a): BasicConv2d(\n",
      "      (conv): Conv2d(384, 384, kernel_size=(1, 3), stride=(1, 1), padding=(0, 1), bias=False)\n",
      "      (bn): BatchNorm2d(384, eps=0.001, momentum=0.1, affine=True, track_running_stats=True)\n",
      "    )\n",
      "    (branch3x3dbl_3b): BasicConv2d(\n",
      "      (conv): Conv2d(384, 384, kernel_size=(3, 1), stride=(1, 1), padding=(1, 0), bias=False)\n",
      "      (bn): BatchNorm2d(384, eps=0.001, momentum=0.1, affine=True, track_running_stats=True)\n",
      "    )\n",
      "    (branch_pool): BasicConv2d(\n",
      "      (conv): Conv2d(2048, 192, kernel_size=(1, 1), stride=(1, 1), bias=False)\n",
      "      (bn): BatchNorm2d(192, eps=0.001, momentum=0.1, affine=True, track_running_stats=True)\n",
      "    )\n",
      "  )\n",
      "  (avgpool): AdaptiveAvgPool2d(output_size=(1, 1))\n",
      "  (dropout): Dropout(p=0.5, inplace=False)\n",
      "  (fc): Linear(in_features=2048, out_features=1000, bias=True)\n",
      ")\n"
     ]
    }
   ],
   "source": [
    "weights = Inception_V3_Weights.DEFAULT\n",
    "model = inception_v3(weights=weights)\n",
    "print(f'La arquitectura por default de ResNet-50 es la siguiente:\\n\\n{model}') "
   ]
  },
  {
   "cell_type": "code",
   "execution_count": 9,
   "id": "981b0ccf",
   "metadata": {},
   "outputs": [
    {
     "data": {
      "text/plain": [
       "===================================================================================================================\n",
       "Layer (type:depth-idx)                   Kernel Shape              Output Shape              Param #\n",
       "===================================================================================================================\n",
       "Inception3                               --                        [1, 1000]                 3,326,696\n",
       "├─BasicConv2d: 1-1                       --                        [1, 32, 111, 111]         --\n",
       "│    └─Conv2d: 2-1                       [3, 3]                    [1, 32, 111, 111]         864\n",
       "│    └─BatchNorm2d: 2-2                  --                        [1, 32, 111, 111]         64\n",
       "├─BasicConv2d: 1-2                       --                        [1, 32, 109, 109]         --\n",
       "│    └─Conv2d: 2-3                       [3, 3]                    [1, 32, 109, 109]         9,216\n",
       "│    └─BatchNorm2d: 2-4                  --                        [1, 32, 109, 109]         64\n",
       "├─BasicConv2d: 1-3                       --                        [1, 64, 109, 109]         --\n",
       "│    └─Conv2d: 2-5                       [3, 3]                    [1, 64, 109, 109]         18,432\n",
       "│    └─BatchNorm2d: 2-6                  --                        [1, 64, 109, 109]         128\n",
       "├─MaxPool2d: 1-4                         3                         [1, 64, 54, 54]           --\n",
       "├─BasicConv2d: 1-5                       --                        [1, 80, 54, 54]           --\n",
       "│    └─Conv2d: 2-7                       [1, 1]                    [1, 80, 54, 54]           5,120\n",
       "│    └─BatchNorm2d: 2-8                  --                        [1, 80, 54, 54]           160\n",
       "├─BasicConv2d: 1-6                       --                        [1, 192, 52, 52]          --\n",
       "│    └─Conv2d: 2-9                       [3, 3]                    [1, 192, 52, 52]          138,240\n",
       "│    └─BatchNorm2d: 2-10                 --                        [1, 192, 52, 52]          384\n",
       "├─MaxPool2d: 1-7                         3                         [1, 192, 25, 25]          --\n",
       "├─InceptionA: 1-8                        --                        [1, 256, 25, 25]          --\n",
       "│    └─BasicConv2d: 2-11                 --                        [1, 64, 25, 25]           --\n",
       "│    │    └─Conv2d: 3-1                  [1, 1]                    [1, 64, 25, 25]           12,288\n",
       "│    │    └─BatchNorm2d: 3-2             --                        [1, 64, 25, 25]           128\n",
       "│    └─BasicConv2d: 2-12                 --                        [1, 48, 25, 25]           --\n",
       "│    │    └─Conv2d: 3-3                  [1, 1]                    [1, 48, 25, 25]           9,216\n",
       "│    │    └─BatchNorm2d: 3-4             --                        [1, 48, 25, 25]           96\n",
       "│    └─BasicConv2d: 2-13                 --                        [1, 64, 25, 25]           --\n",
       "│    │    └─Conv2d: 3-5                  [5, 5]                    [1, 64, 25, 25]           76,800\n",
       "│    │    └─BatchNorm2d: 3-6             --                        [1, 64, 25, 25]           128\n",
       "│    └─BasicConv2d: 2-14                 --                        [1, 64, 25, 25]           --\n",
       "│    │    └─Conv2d: 3-7                  [1, 1]                    [1, 64, 25, 25]           12,288\n",
       "│    │    └─BatchNorm2d: 3-8             --                        [1, 64, 25, 25]           128\n",
       "│    └─BasicConv2d: 2-15                 --                        [1, 96, 25, 25]           --\n",
       "│    │    └─Conv2d: 3-9                  [3, 3]                    [1, 96, 25, 25]           55,296\n",
       "│    │    └─BatchNorm2d: 3-10            --                        [1, 96, 25, 25]           192\n",
       "│    └─BasicConv2d: 2-16                 --                        [1, 96, 25, 25]           --\n",
       "│    │    └─Conv2d: 3-11                 [3, 3]                    [1, 96, 25, 25]           82,944\n",
       "│    │    └─BatchNorm2d: 3-12            --                        [1, 96, 25, 25]           192\n",
       "│    └─BasicConv2d: 2-17                 --                        [1, 32, 25, 25]           --\n",
       "│    │    └─Conv2d: 3-13                 [1, 1]                    [1, 32, 25, 25]           6,144\n",
       "│    │    └─BatchNorm2d: 3-14            --                        [1, 32, 25, 25]           64\n",
       "├─InceptionA: 1-9                        --                        [1, 288, 25, 25]          --\n",
       "│    └─BasicConv2d: 2-18                 --                        [1, 64, 25, 25]           --\n",
       "│    │    └─Conv2d: 3-15                 [1, 1]                    [1, 64, 25, 25]           16,384\n",
       "│    │    └─BatchNorm2d: 3-16            --                        [1, 64, 25, 25]           128\n",
       "│    └─BasicConv2d: 2-19                 --                        [1, 48, 25, 25]           --\n",
       "│    │    └─Conv2d: 3-17                 [1, 1]                    [1, 48, 25, 25]           12,288\n",
       "│    │    └─BatchNorm2d: 3-18            --                        [1, 48, 25, 25]           96\n",
       "│    └─BasicConv2d: 2-20                 --                        [1, 64, 25, 25]           --\n",
       "│    │    └─Conv2d: 3-19                 [5, 5]                    [1, 64, 25, 25]           76,800\n",
       "│    │    └─BatchNorm2d: 3-20            --                        [1, 64, 25, 25]           128\n",
       "│    └─BasicConv2d: 2-21                 --                        [1, 64, 25, 25]           --\n",
       "│    │    └─Conv2d: 3-21                 [1, 1]                    [1, 64, 25, 25]           16,384\n",
       "│    │    └─BatchNorm2d: 3-22            --                        [1, 64, 25, 25]           128\n",
       "│    └─BasicConv2d: 2-22                 --                        [1, 96, 25, 25]           --\n",
       "│    │    └─Conv2d: 3-23                 [3, 3]                    [1, 96, 25, 25]           55,296\n",
       "│    │    └─BatchNorm2d: 3-24            --                        [1, 96, 25, 25]           192\n",
       "│    └─BasicConv2d: 2-23                 --                        [1, 96, 25, 25]           --\n",
       "│    │    └─Conv2d: 3-25                 [3, 3]                    [1, 96, 25, 25]           82,944\n",
       "│    │    └─BatchNorm2d: 3-26            --                        [1, 96, 25, 25]           192\n",
       "│    └─BasicConv2d: 2-24                 --                        [1, 64, 25, 25]           --\n",
       "│    │    └─Conv2d: 3-27                 [1, 1]                    [1, 64, 25, 25]           16,384\n",
       "│    │    └─BatchNorm2d: 3-28            --                        [1, 64, 25, 25]           128\n",
       "├─InceptionA: 1-10                       --                        [1, 288, 25, 25]          --\n",
       "│    └─BasicConv2d: 2-25                 --                        [1, 64, 25, 25]           --\n",
       "│    │    └─Conv2d: 3-29                 [1, 1]                    [1, 64, 25, 25]           18,432\n",
       "│    │    └─BatchNorm2d: 3-30            --                        [1, 64, 25, 25]           128\n",
       "│    └─BasicConv2d: 2-26                 --                        [1, 48, 25, 25]           --\n",
       "│    │    └─Conv2d: 3-31                 [1, 1]                    [1, 48, 25, 25]           13,824\n",
       "│    │    └─BatchNorm2d: 3-32            --                        [1, 48, 25, 25]           96\n",
       "│    └─BasicConv2d: 2-27                 --                        [1, 64, 25, 25]           --\n",
       "│    │    └─Conv2d: 3-33                 [5, 5]                    [1, 64, 25, 25]           76,800\n",
       "│    │    └─BatchNorm2d: 3-34            --                        [1, 64, 25, 25]           128\n",
       "│    └─BasicConv2d: 2-28                 --                        [1, 64, 25, 25]           --\n",
       "│    │    └─Conv2d: 3-35                 [1, 1]                    [1, 64, 25, 25]           18,432\n",
       "│    │    └─BatchNorm2d: 3-36            --                        [1, 64, 25, 25]           128\n",
       "│    └─BasicConv2d: 2-29                 --                        [1, 96, 25, 25]           --\n",
       "│    │    └─Conv2d: 3-37                 [3, 3]                    [1, 96, 25, 25]           55,296\n",
       "│    │    └─BatchNorm2d: 3-38            --                        [1, 96, 25, 25]           192\n",
       "│    └─BasicConv2d: 2-30                 --                        [1, 96, 25, 25]           --\n",
       "│    │    └─Conv2d: 3-39                 [3, 3]                    [1, 96, 25, 25]           82,944\n",
       "│    │    └─BatchNorm2d: 3-40            --                        [1, 96, 25, 25]           192\n",
       "│    └─BasicConv2d: 2-31                 --                        [1, 64, 25, 25]           --\n",
       "│    │    └─Conv2d: 3-41                 [1, 1]                    [1, 64, 25, 25]           18,432\n",
       "│    │    └─BatchNorm2d: 3-42            --                        [1, 64, 25, 25]           128\n",
       "├─InceptionB: 1-11                       --                        [1, 768, 12, 12]          --\n",
       "│    └─BasicConv2d: 2-32                 --                        [1, 384, 12, 12]          --\n",
       "│    │    └─Conv2d: 3-43                 [3, 3]                    [1, 384, 12, 12]          995,328\n",
       "│    │    └─BatchNorm2d: 3-44            --                        [1, 384, 12, 12]          768\n",
       "│    └─BasicConv2d: 2-33                 --                        [1, 64, 25, 25]           --\n",
       "│    │    └─Conv2d: 3-45                 [1, 1]                    [1, 64, 25, 25]           18,432\n",
       "│    │    └─BatchNorm2d: 3-46            --                        [1, 64, 25, 25]           128\n",
       "│    └─BasicConv2d: 2-34                 --                        [1, 96, 25, 25]           --\n",
       "│    │    └─Conv2d: 3-47                 [3, 3]                    [1, 96, 25, 25]           55,296\n",
       "│    │    └─BatchNorm2d: 3-48            --                        [1, 96, 25, 25]           192\n",
       "│    └─BasicConv2d: 2-35                 --                        [1, 96, 12, 12]           --\n",
       "│    │    └─Conv2d: 3-49                 [3, 3]                    [1, 96, 12, 12]           82,944\n",
       "│    │    └─BatchNorm2d: 3-50            --                        [1, 96, 12, 12]           192\n",
       "├─InceptionC: 1-12                       --                        [1, 768, 12, 12]          --\n",
       "│    └─BasicConv2d: 2-36                 --                        [1, 192, 12, 12]          --\n",
       "│    │    └─Conv2d: 3-51                 [1, 1]                    [1, 192, 12, 12]          147,456\n",
       "│    │    └─BatchNorm2d: 3-52            --                        [1, 192, 12, 12]          384\n",
       "│    └─BasicConv2d: 2-37                 --                        [1, 128, 12, 12]          --\n",
       "│    │    └─Conv2d: 3-53                 [1, 1]                    [1, 128, 12, 12]          98,304\n",
       "│    │    └─BatchNorm2d: 3-54            --                        [1, 128, 12, 12]          256\n",
       "│    └─BasicConv2d: 2-38                 --                        [1, 128, 12, 12]          --\n",
       "│    │    └─Conv2d: 3-55                 [1, 7]                    [1, 128, 12, 12]          114,688\n",
       "│    │    └─BatchNorm2d: 3-56            --                        [1, 128, 12, 12]          256\n",
       "│    └─BasicConv2d: 2-39                 --                        [1, 192, 12, 12]          --\n",
       "│    │    └─Conv2d: 3-57                 [7, 1]                    [1, 192, 12, 12]          172,032\n",
       "│    │    └─BatchNorm2d: 3-58            --                        [1, 192, 12, 12]          384\n",
       "│    └─BasicConv2d: 2-40                 --                        [1, 128, 12, 12]          --\n",
       "│    │    └─Conv2d: 3-59                 [1, 1]                    [1, 128, 12, 12]          98,304\n",
       "│    │    └─BatchNorm2d: 3-60            --                        [1, 128, 12, 12]          256\n",
       "│    └─BasicConv2d: 2-41                 --                        [1, 128, 12, 12]          --\n",
       "│    │    └─Conv2d: 3-61                 [7, 1]                    [1, 128, 12, 12]          114,688\n",
       "│    │    └─BatchNorm2d: 3-62            --                        [1, 128, 12, 12]          256\n",
       "│    └─BasicConv2d: 2-42                 --                        [1, 128, 12, 12]          --\n",
       "│    │    └─Conv2d: 3-63                 [1, 7]                    [1, 128, 12, 12]          114,688\n",
       "│    │    └─BatchNorm2d: 3-64            --                        [1, 128, 12, 12]          256\n",
       "│    └─BasicConv2d: 2-43                 --                        [1, 128, 12, 12]          --\n",
       "│    │    └─Conv2d: 3-65                 [7, 1]                    [1, 128, 12, 12]          114,688\n",
       "│    │    └─BatchNorm2d: 3-66            --                        [1, 128, 12, 12]          256\n",
       "│    └─BasicConv2d: 2-44                 --                        [1, 192, 12, 12]          --\n",
       "│    │    └─Conv2d: 3-67                 [1, 7]                    [1, 192, 12, 12]          172,032\n",
       "│    │    └─BatchNorm2d: 3-68            --                        [1, 192, 12, 12]          384\n",
       "│    └─BasicConv2d: 2-45                 --                        [1, 192, 12, 12]          --\n",
       "│    │    └─Conv2d: 3-69                 [1, 1]                    [1, 192, 12, 12]          147,456\n",
       "│    │    └─BatchNorm2d: 3-70            --                        [1, 192, 12, 12]          384\n",
       "├─InceptionC: 1-13                       --                        [1, 768, 12, 12]          --\n",
       "│    └─BasicConv2d: 2-46                 --                        [1, 192, 12, 12]          --\n",
       "│    │    └─Conv2d: 3-71                 [1, 1]                    [1, 192, 12, 12]          147,456\n",
       "│    │    └─BatchNorm2d: 3-72            --                        [1, 192, 12, 12]          384\n",
       "│    └─BasicConv2d: 2-47                 --                        [1, 160, 12, 12]          --\n",
       "│    │    └─Conv2d: 3-73                 [1, 1]                    [1, 160, 12, 12]          122,880\n",
       "│    │    └─BatchNorm2d: 3-74            --                        [1, 160, 12, 12]          320\n",
       "│    └─BasicConv2d: 2-48                 --                        [1, 160, 12, 12]          --\n",
       "│    │    └─Conv2d: 3-75                 [1, 7]                    [1, 160, 12, 12]          179,200\n",
       "│    │    └─BatchNorm2d: 3-76            --                        [1, 160, 12, 12]          320\n",
       "│    └─BasicConv2d: 2-49                 --                        [1, 192, 12, 12]          --\n",
       "│    │    └─Conv2d: 3-77                 [7, 1]                    [1, 192, 12, 12]          215,040\n",
       "│    │    └─BatchNorm2d: 3-78            --                        [1, 192, 12, 12]          384\n",
       "│    └─BasicConv2d: 2-50                 --                        [1, 160, 12, 12]          --\n",
       "│    │    └─Conv2d: 3-79                 [1, 1]                    [1, 160, 12, 12]          122,880\n",
       "│    │    └─BatchNorm2d: 3-80            --                        [1, 160, 12, 12]          320\n",
       "│    └─BasicConv2d: 2-51                 --                        [1, 160, 12, 12]          --\n",
       "│    │    └─Conv2d: 3-81                 [7, 1]                    [1, 160, 12, 12]          179,200\n",
       "│    │    └─BatchNorm2d: 3-82            --                        [1, 160, 12, 12]          320\n",
       "│    └─BasicConv2d: 2-52                 --                        [1, 160, 12, 12]          --\n",
       "│    │    └─Conv2d: 3-83                 [1, 7]                    [1, 160, 12, 12]          179,200\n",
       "│    │    └─BatchNorm2d: 3-84            --                        [1, 160, 12, 12]          320\n",
       "│    └─BasicConv2d: 2-53                 --                        [1, 160, 12, 12]          --\n",
       "│    │    └─Conv2d: 3-85                 [7, 1]                    [1, 160, 12, 12]          179,200\n",
       "│    │    └─BatchNorm2d: 3-86            --                        [1, 160, 12, 12]          320\n",
       "│    └─BasicConv2d: 2-54                 --                        [1, 192, 12, 12]          --\n",
       "│    │    └─Conv2d: 3-87                 [1, 7]                    [1, 192, 12, 12]          215,040\n",
       "│    │    └─BatchNorm2d: 3-88            --                        [1, 192, 12, 12]          384\n",
       "│    └─BasicConv2d: 2-55                 --                        [1, 192, 12, 12]          --\n",
       "│    │    └─Conv2d: 3-89                 [1, 1]                    [1, 192, 12, 12]          147,456\n",
       "│    │    └─BatchNorm2d: 3-90            --                        [1, 192, 12, 12]          384\n",
       "├─InceptionC: 1-14                       --                        [1, 768, 12, 12]          --\n",
       "│    └─BasicConv2d: 2-56                 --                        [1, 192, 12, 12]          --\n",
       "│    │    └─Conv2d: 3-91                 [1, 1]                    [1, 192, 12, 12]          147,456\n",
       "│    │    └─BatchNorm2d: 3-92            --                        [1, 192, 12, 12]          384\n",
       "│    └─BasicConv2d: 2-57                 --                        [1, 160, 12, 12]          --\n",
       "│    │    └─Conv2d: 3-93                 [1, 1]                    [1, 160, 12, 12]          122,880\n",
       "│    │    └─BatchNorm2d: 3-94            --                        [1, 160, 12, 12]          320\n",
       "│    └─BasicConv2d: 2-58                 --                        [1, 160, 12, 12]          --\n",
       "│    │    └─Conv2d: 3-95                 [1, 7]                    [1, 160, 12, 12]          179,200\n",
       "│    │    └─BatchNorm2d: 3-96            --                        [1, 160, 12, 12]          320\n",
       "│    └─BasicConv2d: 2-59                 --                        [1, 192, 12, 12]          --\n",
       "│    │    └─Conv2d: 3-97                 [7, 1]                    [1, 192, 12, 12]          215,040\n",
       "│    │    └─BatchNorm2d: 3-98            --                        [1, 192, 12, 12]          384\n",
       "│    └─BasicConv2d: 2-60                 --                        [1, 160, 12, 12]          --\n",
       "│    │    └─Conv2d: 3-99                 [1, 1]                    [1, 160, 12, 12]          122,880\n",
       "│    │    └─BatchNorm2d: 3-100           --                        [1, 160, 12, 12]          320\n",
       "│    └─BasicConv2d: 2-61                 --                        [1, 160, 12, 12]          --\n",
       "│    │    └─Conv2d: 3-101                [7, 1]                    [1, 160, 12, 12]          179,200\n",
       "│    │    └─BatchNorm2d: 3-102           --                        [1, 160, 12, 12]          320\n",
       "│    └─BasicConv2d: 2-62                 --                        [1, 160, 12, 12]          --\n",
       "│    │    └─Conv2d: 3-103                [1, 7]                    [1, 160, 12, 12]          179,200\n",
       "│    │    └─BatchNorm2d: 3-104           --                        [1, 160, 12, 12]          320\n",
       "│    └─BasicConv2d: 2-63                 --                        [1, 160, 12, 12]          --\n",
       "│    │    └─Conv2d: 3-105                [7, 1]                    [1, 160, 12, 12]          179,200\n",
       "│    │    └─BatchNorm2d: 3-106           --                        [1, 160, 12, 12]          320\n",
       "│    └─BasicConv2d: 2-64                 --                        [1, 192, 12, 12]          --\n",
       "│    │    └─Conv2d: 3-107                [1, 7]                    [1, 192, 12, 12]          215,040\n",
       "│    │    └─BatchNorm2d: 3-108           --                        [1, 192, 12, 12]          384\n",
       "│    └─BasicConv2d: 2-65                 --                        [1, 192, 12, 12]          --\n",
       "│    │    └─Conv2d: 3-109                [1, 1]                    [1, 192, 12, 12]          147,456\n",
       "│    │    └─BatchNorm2d: 3-110           --                        [1, 192, 12, 12]          384\n",
       "├─InceptionC: 1-15                       --                        [1, 768, 12, 12]          --\n",
       "│    └─BasicConv2d: 2-66                 --                        [1, 192, 12, 12]          --\n",
       "│    │    └─Conv2d: 3-111                [1, 1]                    [1, 192, 12, 12]          147,456\n",
       "│    │    └─BatchNorm2d: 3-112           --                        [1, 192, 12, 12]          384\n",
       "│    └─BasicConv2d: 2-67                 --                        [1, 192, 12, 12]          --\n",
       "│    │    └─Conv2d: 3-113                [1, 1]                    [1, 192, 12, 12]          147,456\n",
       "│    │    └─BatchNorm2d: 3-114           --                        [1, 192, 12, 12]          384\n",
       "│    └─BasicConv2d: 2-68                 --                        [1, 192, 12, 12]          --\n",
       "│    │    └─Conv2d: 3-115                [1, 7]                    [1, 192, 12, 12]          258,048\n",
       "│    │    └─BatchNorm2d: 3-116           --                        [1, 192, 12, 12]          384\n",
       "│    └─BasicConv2d: 2-69                 --                        [1, 192, 12, 12]          --\n",
       "│    │    └─Conv2d: 3-117                [7, 1]                    [1, 192, 12, 12]          258,048\n",
       "│    │    └─BatchNorm2d: 3-118           --                        [1, 192, 12, 12]          384\n",
       "│    └─BasicConv2d: 2-70                 --                        [1, 192, 12, 12]          --\n",
       "│    │    └─Conv2d: 3-119                [1, 1]                    [1, 192, 12, 12]          147,456\n",
       "│    │    └─BatchNorm2d: 3-120           --                        [1, 192, 12, 12]          384\n",
       "│    └─BasicConv2d: 2-71                 --                        [1, 192, 12, 12]          --\n",
       "│    │    └─Conv2d: 3-121                [7, 1]                    [1, 192, 12, 12]          258,048\n",
       "│    │    └─BatchNorm2d: 3-122           --                        [1, 192, 12, 12]          384\n",
       "│    └─BasicConv2d: 2-72                 --                        [1, 192, 12, 12]          --\n",
       "│    │    └─Conv2d: 3-123                [1, 7]                    [1, 192, 12, 12]          258,048\n",
       "│    │    └─BatchNorm2d: 3-124           --                        [1, 192, 12, 12]          384\n",
       "│    └─BasicConv2d: 2-73                 --                        [1, 192, 12, 12]          --\n",
       "│    │    └─Conv2d: 3-125                [7, 1]                    [1, 192, 12, 12]          258,048\n",
       "│    │    └─BatchNorm2d: 3-126           --                        [1, 192, 12, 12]          384\n",
       "│    └─BasicConv2d: 2-74                 --                        [1, 192, 12, 12]          --\n",
       "│    │    └─Conv2d: 3-127                [1, 7]                    [1, 192, 12, 12]          258,048\n",
       "│    │    └─BatchNorm2d: 3-128           --                        [1, 192, 12, 12]          384\n",
       "│    └─BasicConv2d: 2-75                 --                        [1, 192, 12, 12]          --\n",
       "│    │    └─Conv2d: 3-129                [1, 1]                    [1, 192, 12, 12]          147,456\n",
       "│    │    └─BatchNorm2d: 3-130           --                        [1, 192, 12, 12]          384\n",
       "├─InceptionD: 1-16                       --                        [1, 1280, 5, 5]           --\n",
       "│    └─BasicConv2d: 2-76                 --                        [1, 192, 12, 12]          --\n",
       "│    │    └─Conv2d: 3-131                [1, 1]                    [1, 192, 12, 12]          147,456\n",
       "│    │    └─BatchNorm2d: 3-132           --                        [1, 192, 12, 12]          384\n",
       "│    └─BasicConv2d: 2-77                 --                        [1, 320, 5, 5]            --\n",
       "│    │    └─Conv2d: 3-133                [3, 3]                    [1, 320, 5, 5]            552,960\n",
       "│    │    └─BatchNorm2d: 3-134           --                        [1, 320, 5, 5]            640\n",
       "│    └─BasicConv2d: 2-78                 --                        [1, 192, 12, 12]          --\n",
       "│    │    └─Conv2d: 3-135                [1, 1]                    [1, 192, 12, 12]          147,456\n",
       "│    │    └─BatchNorm2d: 3-136           --                        [1, 192, 12, 12]          384\n",
       "│    └─BasicConv2d: 2-79                 --                        [1, 192, 12, 12]          --\n",
       "│    │    └─Conv2d: 3-137                [1, 7]                    [1, 192, 12, 12]          258,048\n",
       "│    │    └─BatchNorm2d: 3-138           --                        [1, 192, 12, 12]          384\n",
       "│    └─BasicConv2d: 2-80                 --                        [1, 192, 12, 12]          --\n",
       "│    │    └─Conv2d: 3-139                [7, 1]                    [1, 192, 12, 12]          258,048\n",
       "│    │    └─BatchNorm2d: 3-140           --                        [1, 192, 12, 12]          384\n",
       "│    └─BasicConv2d: 2-81                 --                        [1, 192, 5, 5]            --\n",
       "│    │    └─Conv2d: 3-141                [3, 3]                    [1, 192, 5, 5]            331,776\n",
       "│    │    └─BatchNorm2d: 3-142           --                        [1, 192, 5, 5]            384\n",
       "├─InceptionE: 1-17                       --                        [1, 2048, 5, 5]           --\n",
       "│    └─BasicConv2d: 2-82                 --                        [1, 320, 5, 5]            --\n",
       "│    │    └─Conv2d: 3-143                [1, 1]                    [1, 320, 5, 5]            409,600\n",
       "│    │    └─BatchNorm2d: 3-144           --                        [1, 320, 5, 5]            640\n",
       "│    └─BasicConv2d: 2-83                 --                        [1, 384, 5, 5]            --\n",
       "│    │    └─Conv2d: 3-145                [1, 1]                    [1, 384, 5, 5]            491,520\n",
       "│    │    └─BatchNorm2d: 3-146           --                        [1, 384, 5, 5]            768\n",
       "│    └─BasicConv2d: 2-84                 --                        [1, 384, 5, 5]            --\n",
       "│    │    └─Conv2d: 3-147                [1, 3]                    [1, 384, 5, 5]            442,368\n",
       "│    │    └─BatchNorm2d: 3-148           --                        [1, 384, 5, 5]            768\n",
       "│    └─BasicConv2d: 2-85                 --                        [1, 384, 5, 5]            --\n",
       "│    │    └─Conv2d: 3-149                [3, 1]                    [1, 384, 5, 5]            442,368\n",
       "│    │    └─BatchNorm2d: 3-150           --                        [1, 384, 5, 5]            768\n",
       "│    └─BasicConv2d: 2-86                 --                        [1, 448, 5, 5]            --\n",
       "│    │    └─Conv2d: 3-151                [1, 1]                    [1, 448, 5, 5]            573,440\n",
       "│    │    └─BatchNorm2d: 3-152           --                        [1, 448, 5, 5]            896\n",
       "│    └─BasicConv2d: 2-87                 --                        [1, 384, 5, 5]            --\n",
       "│    │    └─Conv2d: 3-153                [3, 3]                    [1, 384, 5, 5]            1,548,288\n",
       "│    │    └─BatchNorm2d: 3-154           --                        [1, 384, 5, 5]            768\n",
       "│    └─BasicConv2d: 2-88                 --                        [1, 384, 5, 5]            --\n",
       "│    │    └─Conv2d: 3-155                [1, 3]                    [1, 384, 5, 5]            442,368\n",
       "│    │    └─BatchNorm2d: 3-156           --                        [1, 384, 5, 5]            768\n",
       "│    └─BasicConv2d: 2-89                 --                        [1, 384, 5, 5]            --\n",
       "│    │    └─Conv2d: 3-157                [3, 1]                    [1, 384, 5, 5]            442,368\n",
       "│    │    └─BatchNorm2d: 3-158           --                        [1, 384, 5, 5]            768\n",
       "│    └─BasicConv2d: 2-90                 --                        [1, 192, 5, 5]            --\n",
       "│    │    └─Conv2d: 3-159                [1, 1]                    [1, 192, 5, 5]            245,760\n",
       "│    │    └─BatchNorm2d: 3-160           --                        [1, 192, 5, 5]            384\n",
       "├─InceptionE: 1-18                       --                        [1, 2048, 5, 5]           --\n",
       "│    └─BasicConv2d: 2-91                 --                        [1, 320, 5, 5]            --\n",
       "│    │    └─Conv2d: 3-161                [1, 1]                    [1, 320, 5, 5]            655,360\n",
       "│    │    └─BatchNorm2d: 3-162           --                        [1, 320, 5, 5]            640\n",
       "│    └─BasicConv2d: 2-92                 --                        [1, 384, 5, 5]            --\n",
       "│    │    └─Conv2d: 3-163                [1, 1]                    [1, 384, 5, 5]            786,432\n",
       "│    │    └─BatchNorm2d: 3-164           --                        [1, 384, 5, 5]            768\n",
       "│    └─BasicConv2d: 2-93                 --                        [1, 384, 5, 5]            --\n",
       "│    │    └─Conv2d: 3-165                [1, 3]                    [1, 384, 5, 5]            442,368\n",
       "│    │    └─BatchNorm2d: 3-166           --                        [1, 384, 5, 5]            768\n",
       "│    └─BasicConv2d: 2-94                 --                        [1, 384, 5, 5]            --\n",
       "│    │    └─Conv2d: 3-167                [3, 1]                    [1, 384, 5, 5]            442,368\n",
       "│    │    └─BatchNorm2d: 3-168           --                        [1, 384, 5, 5]            768\n",
       "│    └─BasicConv2d: 2-95                 --                        [1, 448, 5, 5]            --\n",
       "│    │    └─Conv2d: 3-169                [1, 1]                    [1, 448, 5, 5]            917,504\n",
       "│    │    └─BatchNorm2d: 3-170           --                        [1, 448, 5, 5]            896\n",
       "│    └─BasicConv2d: 2-96                 --                        [1, 384, 5, 5]            --\n",
       "│    │    └─Conv2d: 3-171                [3, 3]                    [1, 384, 5, 5]            1,548,288\n",
       "│    │    └─BatchNorm2d: 3-172           --                        [1, 384, 5, 5]            768\n",
       "│    └─BasicConv2d: 2-97                 --                        [1, 384, 5, 5]            --\n",
       "│    │    └─Conv2d: 3-173                [1, 3]                    [1, 384, 5, 5]            442,368\n",
       "│    │    └─BatchNorm2d: 3-174           --                        [1, 384, 5, 5]            768\n",
       "│    └─BasicConv2d: 2-98                 --                        [1, 384, 5, 5]            --\n",
       "│    │    └─Conv2d: 3-175                [3, 1]                    [1, 384, 5, 5]            442,368\n",
       "│    │    └─BatchNorm2d: 3-176           --                        [1, 384, 5, 5]            768\n",
       "│    └─BasicConv2d: 2-99                 --                        [1, 192, 5, 5]            --\n",
       "│    │    └─Conv2d: 3-177                [1, 1]                    [1, 192, 5, 5]            393,216\n",
       "│    │    └─BatchNorm2d: 3-178           --                        [1, 192, 5, 5]            384\n",
       "├─AdaptiveAvgPool2d: 1-19                --                        [1, 2048, 1, 1]           --\n",
       "├─Dropout: 1-20                          --                        [1, 2048, 1, 1]           --\n",
       "├─Linear: 1-21                           --                        [1, 1000]                 2,049,000\n",
       "===================================================================================================================\n",
       "Total params: 27,161,264\n",
       "Trainable params: 27,161,264\n",
       "Non-trainable params: 0\n",
       "Total mult-adds (Units.GIGABYTES): 2.84\n",
       "===================================================================================================================\n",
       "Input size (MB): 0.60\n",
       "Forward/backward pass size (MB): 74.38\n",
       "Params size (MB): 95.34\n",
       "Estimated Total Size (MB): 170.32\n",
       "==================================================================================================================="
      ]
     },
     "execution_count": 9,
     "metadata": {},
     "output_type": "execute_result"
    }
   ],
   "source": [
    "torchinfo.summary(model, input_size=(1, 3, 224, 224), depth=3, col_names=[\"kernel_size\", \"output_size\", \"num_params\"])"
   ]
  },
  {
   "cell_type": "code",
   "execution_count": 10,
   "id": "26a064ec",
   "metadata": {},
   "outputs": [],
   "source": [
    "def build_inceptionv3_transfer(num_classes: int = 4) -> nn.Module:\n",
    "    model = inception_v3(weights=Inception_V3_Weights.DEFAULT)\n",
    "\n",
    "    # Reemplazar la capa fully connected final\n",
    "    in_features = model.fc.in_features\n",
    "    aux_in_features = model.AuxLogits.fc.in_features\n",
    "    model.fc = nn.Linear(in_features, num_classes)\n",
    "    model.AuxLogits.fc = nn.Linear(aux_in_features, num_classes)\n",
    "\n",
    "    # Congelar todos los parámetros\n",
    "    for param in model.parameters():\n",
    "        param.requires_grad = False\n",
    "\n",
    "    # Descongelar solo la nueva fc\n",
    "    for param in model.fc.parameters():\n",
    "        param.requires_grad = True\n",
    "    for param in model.AuxLogits.fc.parameters():\n",
    "        param.requires_grad = True\n",
    "\n",
    "    return model\n",
    "\n",
    "def build_inceptionv3_finetune(num_classes: int = 4) -> nn.Module:\n",
    "    model = inception_v3(weights=Inception_V3_Weights.DEFAULT)\n",
    "\n",
    "    # Reemplazar la capa fully connected final\n",
    "    in_features = model.fc.in_features\n",
    "    aux_in_features = model.AuxLogits.fc.in_features\n",
    "    model.fc = nn.Linear(in_features, num_classes)\n",
    "    model.AuxLogits.fc = nn.Linear(aux_in_features, num_classes)\n",
    "\n",
    "    # Congelar todo menos layer4 y fc\n",
    "    for name, param in model.named_parameters():\n",
    "        if any(layer in name for layer in [\"Mixed_7\", \"fc\", \"AuxLogits\"]):\n",
    "            param.requires_grad = True\n",
    "        else:\n",
    "            param.requires_grad = False\n",
    "\n",
    "    return model"
   ]
  },
  {
   "cell_type": "code",
   "execution_count": 11,
   "id": "cc6022d7",
   "metadata": {},
   "outputs": [
    {
     "name": "stdout",
     "output_type": "stream",
     "text": [
      "Entrenando: AuxLogits.fc.weight\n",
      "Entrenando: AuxLogits.fc.bias\n",
      "Entrenando: fc.weight\n",
      "Entrenando: fc.bias\n"
     ]
    }
   ],
   "source": [
    "model = build_inceptionv3_transfer(num_classes=4)\n",
    "\n",
    "# Verificación\n",
    "for name, param in model.named_parameters():\n",
    "    if param.requires_grad:\n",
    "        print(f\"Entrenando: {name}\")"
   ]
  },
  {
   "cell_type": "code",
   "execution_count": 12,
   "id": "3e791253",
   "metadata": {},
   "outputs": [
    {
     "name": "stderr",
     "output_type": "stream",
     "text": [
      "loss 1.62029 acc 0.47407: 100%|██████████| 16/16 [00:21<00:00,  1.37s/it]\n",
      "val_loss 1.19076 val_acc 0.41667: 100%|██████████| 1/1 [00:00<00:00,  2.91it/s]\n"
     ]
    },
    {
     "name": "stdout",
     "output_type": "stream",
     "text": [
      "Epoch 1/100 loss 1.62029 val_loss 1.19076 acc 0.47407 val_acc 0.41667 train_f1 0.46770 val_f1 0.39105\n",
      "Mejor modelo guardado en la época 1 con val_loss 1.19076\n",
      "Mejor modelo guardado.\n"
     ]
    },
    {
     "name": "stderr",
     "output_type": "stream",
     "text": [
      "loss 1.21771 acc 0.65581: 100%|██████████| 16/16 [00:21<00:00,  1.34s/it]\n",
      "val_loss 1.13092 val_acc 0.47222: 100%|██████████| 1/1 [00:00<00:00,  3.23it/s]\n"
     ]
    },
    {
     "name": "stdout",
     "output_type": "stream",
     "text": [
      "Epoch 2/100 loss 1.21771 val_loss 1.13092 acc 0.65581 val_acc 0.47222 train_f1 0.64452 val_f1 0.43287\n",
      "Mejor modelo guardado en la época 2 con val_loss 1.13092\n",
      "Mejor modelo guardado.\n"
     ]
    },
    {
     "name": "stderr",
     "output_type": "stream",
     "text": [
      "loss 1.05806 acc 0.69551: 100%|██████████| 16/16 [00:26<00:00,  1.65s/it]\n",
      "val_loss 1.03543 val_acc 0.52778: 100%|██████████| 1/1 [00:00<00:00,  2.78it/s]\n"
     ]
    },
    {
     "name": "stdout",
     "output_type": "stream",
     "text": [
      "Epoch 3/100 loss 1.05806 val_loss 1.03543 acc 0.69551 val_acc 0.52778 train_f1 0.68957 val_f1 0.48610\n",
      "Mejor modelo guardado en la época 3 con val_loss 1.03543\n",
      "Mejor modelo guardado.\n"
     ]
    },
    {
     "name": "stderr",
     "output_type": "stream",
     "text": [
      "loss 0.94927 acc 0.72847: 100%|██████████| 16/16 [00:28<00:00,  1.75s/it]\n",
      "val_loss 0.92588 val_acc 0.55556: 100%|██████████| 1/1 [00:00<00:00,  2.52it/s]\n"
     ]
    },
    {
     "name": "stdout",
     "output_type": "stream",
     "text": [
      "Epoch 4/100 loss 0.94927 val_loss 0.92588 acc 0.72847 val_acc 0.55556 train_f1 0.72401 val_f1 0.54050\n",
      "Mejor modelo guardado en la época 4 con val_loss 0.92588\n",
      "Mejor modelo guardado.\n"
     ]
    },
    {
     "name": "stderr",
     "output_type": "stream",
     "text": [
      "loss 0.89234 acc 0.74888: 100%|██████████| 16/16 [00:27<00:00,  1.69s/it]\n",
      "val_loss 0.92699 val_acc 0.55556: 100%|██████████| 1/1 [00:00<00:00,  2.62it/s]\n"
     ]
    },
    {
     "name": "stdout",
     "output_type": "stream",
     "text": [
      "Epoch 5/100 loss 0.89234 val_loss 0.92699 acc 0.74888 val_acc 0.55556 train_f1 0.74450 val_f1 0.54654\n"
     ]
    },
    {
     "name": "stderr",
     "output_type": "stream",
     "text": [
      "loss 0.83104 acc 0.76450: 100%|██████████| 16/16 [00:27<00:00,  1.69s/it]\n",
      "val_loss 0.91224 val_acc 0.56944: 100%|██████████| 1/1 [00:00<00:00,  2.44it/s]\n"
     ]
    },
    {
     "name": "stdout",
     "output_type": "stream",
     "text": [
      "Epoch 6/100 loss 0.83104 val_loss 0.91224 acc 0.76450 val_acc 0.56944 train_f1 0.76059 val_f1 0.56002\n",
      "Mejor modelo guardado en la época 6 con val_loss 0.91224\n",
      "Mejor modelo guardado.\n"
     ]
    },
    {
     "name": "stderr",
     "output_type": "stream",
     "text": [
      "loss 0.79191 acc 0.77495: 100%|██████████| 16/16 [00:26<00:00,  1.67s/it]\n",
      "val_loss 0.89301 val_acc 0.56944: 100%|██████████| 1/1 [00:00<00:00,  2.67it/s]\n"
     ]
    },
    {
     "name": "stdout",
     "output_type": "stream",
     "text": [
      "Epoch 7/100 loss 0.79191 val_loss 0.89301 acc 0.77495 val_acc 0.56944 train_f1 0.77028 val_f1 0.56938\n",
      "Mejor modelo guardado en la época 7 con val_loss 0.89301\n",
      "Mejor modelo guardado.\n"
     ]
    },
    {
     "name": "stderr",
     "output_type": "stream",
     "text": [
      "loss 0.76057 acc 0.78721: 100%|██████████| 16/16 [00:25<00:00,  1.60s/it]\n",
      "val_loss 0.89153 val_acc 0.59722: 100%|██████████| 1/1 [00:00<00:00,  2.77it/s]\n"
     ]
    },
    {
     "name": "stdout",
     "output_type": "stream",
     "text": [
      "Epoch 8/100 loss 0.76057 val_loss 0.89153 acc 0.78721 val_acc 0.59722 train_f1 0.78341 val_f1 0.59306\n",
      "Mejor modelo guardado en la época 8 con val_loss 0.89153\n",
      "Mejor modelo guardado.\n"
     ]
    },
    {
     "name": "stderr",
     "output_type": "stream",
     "text": [
      "loss 0.73360 acc 0.79072: 100%|██████████| 16/16 [00:26<00:00,  1.67s/it]\n",
      "val_loss 0.88388 val_acc 0.61111: 100%|██████████| 1/1 [00:00<00:00,  3.13it/s]\n"
     ]
    },
    {
     "name": "stdout",
     "output_type": "stream",
     "text": [
      "Epoch 9/100 loss 0.73360 val_loss 0.88388 acc 0.79072 val_acc 0.61111 train_f1 0.78733 val_f1 0.60726\n",
      "Mejor modelo guardado en la época 9 con val_loss 0.88388\n",
      "Mejor modelo guardado.\n"
     ]
    },
    {
     "name": "stderr",
     "output_type": "stream",
     "text": [
      "loss 0.71578 acc 0.78672: 100%|██████████| 16/16 [00:26<00:00,  1.65s/it]\n",
      "val_loss 0.86650 val_acc 0.58333: 100%|██████████| 1/1 [00:00<00:00,  3.08it/s]\n"
     ]
    },
    {
     "name": "stdout",
     "output_type": "stream",
     "text": [
      "Epoch 10/100 loss 0.71578 val_loss 0.86650 acc 0.78672 val_acc 0.58333 train_f1 0.78415 val_f1 0.58300\n",
      "Mejor modelo guardado en la época 10 con val_loss 0.86650\n",
      "Mejor modelo guardado.\n"
     ]
    },
    {
     "name": "stderr",
     "output_type": "stream",
     "text": [
      "loss 0.69096 acc 0.79111: 100%|██████████| 16/16 [00:26<00:00,  1.67s/it]\n",
      "val_loss 0.85283 val_acc 0.58333: 100%|██████████| 1/1 [00:00<00:00,  3.13it/s]\n"
     ]
    },
    {
     "name": "stdout",
     "output_type": "stream",
     "text": [
      "Epoch 11/100 loss 0.69096 val_loss 0.85283 acc 0.79111 val_acc 0.58333 train_f1 0.78867 val_f1 0.57331\n",
      "Mejor modelo guardado en la época 11 con val_loss 0.85283\n",
      "Mejor modelo guardado.\n"
     ]
    },
    {
     "name": "stderr",
     "output_type": "stream",
     "text": [
      "loss 0.68390 acc 0.79946: 100%|██████████| 16/16 [00:26<00:00,  1.65s/it]\n",
      "val_loss 0.85704 val_acc 0.59722: 100%|██████████| 1/1 [00:00<00:00,  3.02it/s]\n"
     ]
    },
    {
     "name": "stdout",
     "output_type": "stream",
     "text": [
      "Epoch 12/100 loss 0.68390 val_loss 0.85704 acc 0.79946 val_acc 0.59722 train_f1 0.79830 val_f1 0.59332\n"
     ]
    },
    {
     "name": "stderr",
     "output_type": "stream",
     "text": [
      "loss 0.66759 acc 0.79761: 100%|██████████| 16/16 [00:24<00:00,  1.56s/it]\n",
      "val_loss 0.84286 val_acc 0.61111: 100%|██████████| 1/1 [00:00<00:00,  2.99it/s]\n"
     ]
    },
    {
     "name": "stdout",
     "output_type": "stream",
     "text": [
      "Epoch 13/100 loss 0.66759 val_loss 0.84286 acc 0.79761 val_acc 0.61111 train_f1 0.79422 val_f1 0.60816\n",
      "Mejor modelo guardado en la época 13 con val_loss 0.84286\n",
      "Mejor modelo guardado.\n"
     ]
    },
    {
     "name": "stderr",
     "output_type": "stream",
     "text": [
      "loss 0.66079 acc 0.79971: 100%|██████████| 16/16 [00:26<00:00,  1.65s/it]\n",
      "val_loss 0.85943 val_acc 0.58333: 100%|██████████| 1/1 [00:00<00:00,  3.05it/s]\n"
     ]
    },
    {
     "name": "stdout",
     "output_type": "stream",
     "text": [
      "Epoch 14/100 loss 0.66079 val_loss 0.85943 acc 0.79971 val_acc 0.58333 train_f1 0.79837 val_f1 0.58149\n"
     ]
    },
    {
     "name": "stderr",
     "output_type": "stream",
     "text": [
      "loss 0.62153 acc 0.81797: 100%|██████████| 16/16 [00:26<00:00,  1.65s/it]\n",
      "val_loss 0.84392 val_acc 0.61111: 100%|██████████| 1/1 [00:00<00:00,  2.87it/s]\n"
     ]
    },
    {
     "name": "stdout",
     "output_type": "stream",
     "text": [
      "Epoch 15/100 loss 0.62153 val_loss 0.84392 acc 0.81797 val_acc 0.61111 train_f1 0.81607 val_f1 0.60641\n"
     ]
    },
    {
     "name": "stderr",
     "output_type": "stream",
     "text": [
      "loss 0.62491 acc 0.81396: 100%|██████████| 16/16 [00:27<00:00,  1.70s/it]\n",
      "val_loss 0.82753 val_acc 0.63889: 100%|██████████| 1/1 [00:00<00:00,  2.49it/s]\n"
     ]
    },
    {
     "name": "stdout",
     "output_type": "stream",
     "text": [
      "Epoch 16/100 loss 0.62491 val_loss 0.82753 acc 0.81396 val_acc 0.63889 train_f1 0.81318 val_f1 0.63710\n",
      "Mejor modelo guardado en la época 16 con val_loss 0.82753\n",
      "Mejor modelo guardado.\n"
     ]
    },
    {
     "name": "stderr",
     "output_type": "stream",
     "text": [
      "loss 0.60242 acc 0.82241: 100%|██████████| 16/16 [00:26<00:00,  1.63s/it]\n",
      "val_loss 0.81912 val_acc 0.65278: 100%|██████████| 1/1 [00:00<00:00,  2.93it/s]\n"
     ]
    },
    {
     "name": "stdout",
     "output_type": "stream",
     "text": [
      "Epoch 17/100 loss 0.60242 val_loss 0.81912 acc 0.82241 val_acc 0.65278 train_f1 0.82153 val_f1 0.65058\n",
      "Mejor modelo guardado en la época 17 con val_loss 0.81912\n",
      "Mejor modelo guardado.\n"
     ]
    },
    {
     "name": "stderr",
     "output_type": "stream",
     "text": [
      "loss 0.61900 acc 0.81724: 100%|██████████| 16/16 [00:25<00:00,  1.57s/it]\n",
      "val_loss 0.81618 val_acc 0.59722: 100%|██████████| 1/1 [00:00<00:00,  2.99it/s]\n"
     ]
    },
    {
     "name": "stdout",
     "output_type": "stream",
     "text": [
      "Epoch 18/100 loss 0.61900 val_loss 0.81618 acc 0.81724 val_acc 0.59722 train_f1 0.81518 val_f1 0.59547\n",
      "Mejor modelo guardado en la época 18 con val_loss 0.81618\n",
      "Mejor modelo guardado.\n"
     ]
    },
    {
     "name": "stderr",
     "output_type": "stream",
     "text": [
      "loss 0.60194 acc 0.82090: 100%|██████████| 16/16 [00:26<00:00,  1.68s/it]\n",
      "val_loss 0.83931 val_acc 0.61111: 100%|██████████| 1/1 [00:00<00:00,  2.73it/s]\n"
     ]
    },
    {
     "name": "stdout",
     "output_type": "stream",
     "text": [
      "Epoch 19/100 loss 0.60194 val_loss 0.83931 acc 0.82090 val_acc 0.61111 train_f1 0.82064 val_f1 0.60967\n"
     ]
    },
    {
     "name": "stderr",
     "output_type": "stream",
     "text": [
      "loss 0.58441 acc 0.81895: 100%|██████████| 16/16 [00:26<00:00,  1.64s/it]\n",
      "val_loss 0.80546 val_acc 0.65278: 100%|██████████| 1/1 [00:00<00:00,  2.89it/s]\n"
     ]
    },
    {
     "name": "stdout",
     "output_type": "stream",
     "text": [
      "Epoch 20/100 loss 0.58441 val_loss 0.80546 acc 0.81895 val_acc 0.65278 train_f1 0.81772 val_f1 0.64937\n",
      "Mejor modelo guardado en la época 20 con val_loss 0.80546\n",
      "Mejor modelo guardado.\n"
     ]
    },
    {
     "name": "stderr",
     "output_type": "stream",
     "text": [
      "loss 0.56587 acc 0.83291: 100%|██████████| 16/16 [00:26<00:00,  1.68s/it]\n",
      "val_loss 0.81188 val_acc 0.61111: 100%|██████████| 1/1 [00:00<00:00,  2.97it/s]\n"
     ]
    },
    {
     "name": "stdout",
     "output_type": "stream",
     "text": [
      "Epoch 21/100 loss 0.56587 val_loss 0.81188 acc 0.83291 val_acc 0.61111 train_f1 0.83176 val_f1 0.60792\n"
     ]
    },
    {
     "name": "stderr",
     "output_type": "stream",
     "text": [
      "loss 0.55850 acc 0.82461: 100%|██████████| 16/16 [00:26<00:00,  1.65s/it]\n",
      "val_loss 0.80057 val_acc 0.61111: 100%|██████████| 1/1 [00:00<00:00,  2.64it/s]\n"
     ]
    },
    {
     "name": "stdout",
     "output_type": "stream",
     "text": [
      "Epoch 22/100 loss 0.55850 val_loss 0.80057 acc 0.82461 val_acc 0.61111 train_f1 0.82389 val_f1 0.61044\n",
      "Mejor modelo guardado en la época 22 con val_loss 0.80057\n",
      "Mejor modelo guardado.\n"
     ]
    },
    {
     "name": "stderr",
     "output_type": "stream",
     "text": [
      "loss 0.54610 acc 0.83418: 100%|██████████| 16/16 [00:26<00:00,  1.67s/it]\n",
      "val_loss 0.79336 val_acc 0.65278: 100%|██████████| 1/1 [00:00<00:00,  2.28it/s]\n"
     ]
    },
    {
     "name": "stdout",
     "output_type": "stream",
     "text": [
      "Epoch 23/100 loss 0.54610 val_loss 0.79336 acc 0.83418 val_acc 0.65278 train_f1 0.83362 val_f1 0.65524\n",
      "Mejor modelo guardado en la época 23 con val_loss 0.79336\n",
      "Mejor modelo guardado.\n"
     ]
    },
    {
     "name": "stderr",
     "output_type": "stream",
     "text": [
      "loss 0.55167 acc 0.82798: 100%|██████████| 16/16 [00:26<00:00,  1.66s/it]\n",
      "val_loss 0.80521 val_acc 0.63889: 100%|██████████| 1/1 [00:00<00:00,  2.69it/s]\n"
     ]
    },
    {
     "name": "stdout",
     "output_type": "stream",
     "text": [
      "Epoch 24/100 loss 0.55167 val_loss 0.80521 acc 0.82798 val_acc 0.63889 train_f1 0.82627 val_f1 0.63912\n"
     ]
    },
    {
     "name": "stderr",
     "output_type": "stream",
     "text": [
      "loss 0.54854 acc 0.83101: 100%|██████████| 16/16 [00:26<00:00,  1.68s/it]\n",
      "val_loss 0.82696 val_acc 0.61111: 100%|██████████| 1/1 [00:00<00:00,  2.71it/s]\n"
     ]
    },
    {
     "name": "stdout",
     "output_type": "stream",
     "text": [
      "Epoch 25/100 loss 0.54854 val_loss 0.82696 acc 0.83101 val_acc 0.61111 train_f1 0.82986 val_f1 0.60802\n"
     ]
    },
    {
     "name": "stderr",
     "output_type": "stream",
     "text": [
      "loss 0.55461 acc 0.82446: 100%|██████████| 16/16 [00:26<00:00,  1.67s/it]\n",
      "val_loss 0.82282 val_acc 0.61111: 100%|██████████| 1/1 [00:00<00:00,  2.38it/s]\n"
     ]
    },
    {
     "name": "stdout",
     "output_type": "stream",
     "text": [
      "Epoch 26/100 loss 0.55461 val_loss 0.82282 acc 0.82446 val_acc 0.61111 train_f1 0.82314 val_f1 0.60706\n"
     ]
    },
    {
     "name": "stderr",
     "output_type": "stream",
     "text": [
      "loss 0.52606 acc 0.83730: 100%|██████████| 16/16 [00:26<00:00,  1.64s/it]\n",
      "val_loss 0.79687 val_acc 0.62500: 100%|██████████| 1/1 [00:00<00:00,  2.73it/s]\n"
     ]
    },
    {
     "name": "stdout",
     "output_type": "stream",
     "text": [
      "Epoch 27/100 loss 0.52606 val_loss 0.79687 acc 0.83730 val_acc 0.62500 train_f1 0.83570 val_f1 0.62008\n"
     ]
    },
    {
     "name": "stderr",
     "output_type": "stream",
     "text": [
      "loss 0.53852 acc 0.82915: 100%|██████████| 16/16 [00:27<00:00,  1.74s/it]\n",
      "val_loss 0.80178 val_acc 0.68056: 100%|██████████| 1/1 [00:00<00:00,  2.87it/s]\n"
     ]
    },
    {
     "name": "stdout",
     "output_type": "stream",
     "text": [
      "Epoch 28/100 loss 0.53852 val_loss 0.80178 acc 0.82915 val_acc 0.68056 train_f1 0.82876 val_f1 0.67334\n"
     ]
    },
    {
     "name": "stderr",
     "output_type": "stream",
     "text": [
      "loss 0.54794 acc 0.83032: 100%|██████████| 16/16 [00:27<00:00,  1.73s/it]\n",
      "val_loss 0.81603 val_acc 0.61111: 100%|██████████| 1/1 [00:00<00:00,  2.34it/s]\n"
     ]
    },
    {
     "name": "stdout",
     "output_type": "stream",
     "text": [
      "Epoch 29/100 loss 0.54794 val_loss 0.81603 acc 0.83032 val_acc 0.61111 train_f1 0.82960 val_f1 0.60727\n"
     ]
    },
    {
     "name": "stderr",
     "output_type": "stream",
     "text": [
      "loss 0.51992 acc 0.83149: 100%|██████████| 16/16 [00:28<00:00,  1.78s/it]\n",
      "val_loss 0.80900 val_acc 0.63889: 100%|██████████| 1/1 [00:00<00:00,  2.88it/s]\n"
     ]
    },
    {
     "name": "stdout",
     "output_type": "stream",
     "text": [
      "Epoch 30/100 loss 0.51992 val_loss 0.80900 acc 0.83149 val_acc 0.63889 train_f1 0.83090 val_f1 0.63280\n"
     ]
    },
    {
     "name": "stderr",
     "output_type": "stream",
     "text": [
      "loss 0.52476 acc 0.83613: 100%|██████████| 16/16 [00:26<00:00,  1.66s/it]\n",
      "val_loss 0.79138 val_acc 0.63889: 100%|██████████| 1/1 [00:00<00:00,  2.63it/s]\n"
     ]
    },
    {
     "name": "stdout",
     "output_type": "stream",
     "text": [
      "Epoch 31/100 loss 0.52476 val_loss 0.79138 acc 0.83613 val_acc 0.63889 train_f1 0.83559 val_f1 0.63909\n",
      "Mejor modelo guardado en la época 31 con val_loss 0.79138\n",
      "Mejor modelo guardado.\n"
     ]
    },
    {
     "name": "stderr",
     "output_type": "stream",
     "text": [
      "loss 0.52258 acc 0.82705: 100%|██████████| 16/16 [00:27<00:00,  1.72s/it]\n",
      "val_loss 0.80073 val_acc 0.65278: 100%|██████████| 1/1 [00:00<00:00,  2.78it/s]\n"
     ]
    },
    {
     "name": "stdout",
     "output_type": "stream",
     "text": [
      "Epoch 32/100 loss 0.52258 val_loss 0.80073 acc 0.82705 val_acc 0.65278 train_f1 0.82630 val_f1 0.65220\n"
     ]
    },
    {
     "name": "stderr",
     "output_type": "stream",
     "text": [
      "loss 0.52292 acc 0.82666: 100%|██████████| 16/16 [00:27<00:00,  1.73s/it]\n",
      "val_loss 0.83160 val_acc 0.61111: 100%|██████████| 1/1 [00:00<00:00,  2.49it/s]\n"
     ]
    },
    {
     "name": "stdout",
     "output_type": "stream",
     "text": [
      "Epoch 33/100 loss 0.52292 val_loss 0.83160 acc 0.82666 val_acc 0.61111 train_f1 0.82603 val_f1 0.60136\n"
     ]
    },
    {
     "name": "stderr",
     "output_type": "stream",
     "text": [
      "loss 0.50947 acc 0.83545: 100%|██████████| 16/16 [00:26<00:00,  1.66s/it]\n",
      "val_loss 0.78505 val_acc 0.65278: 100%|██████████| 1/1 [00:00<00:00,  2.63it/s]\n"
     ]
    },
    {
     "name": "stdout",
     "output_type": "stream",
     "text": [
      "Epoch 34/100 loss 0.50947 val_loss 0.78505 acc 0.83545 val_acc 0.65278 train_f1 0.83458 val_f1 0.65122\n",
      "Mejor modelo guardado en la época 34 con val_loss 0.78505\n",
      "Mejor modelo guardado.\n"
     ]
    },
    {
     "name": "stderr",
     "output_type": "stream",
     "text": [
      "loss 0.50313 acc 0.83423: 100%|██████████| 16/16 [00:26<00:00,  1.63s/it]\n",
      "val_loss 0.78166 val_acc 0.66667: 100%|██████████| 1/1 [00:00<00:00,  2.52it/s]\n"
     ]
    },
    {
     "name": "stdout",
     "output_type": "stream",
     "text": [
      "Epoch 35/100 loss 0.50313 val_loss 0.78166 acc 0.83423 val_acc 0.66667 train_f1 0.83311 val_f1 0.66837\n",
      "Mejor modelo guardado en la época 35 con val_loss 0.78166\n",
      "Mejor modelo guardado.\n"
     ]
    },
    {
     "name": "stderr",
     "output_type": "stream",
     "text": [
      "loss 0.50595 acc 0.83110: 100%|██████████| 16/16 [00:26<00:00,  1.64s/it]\n",
      "val_loss 0.79911 val_acc 0.62500: 100%|██████████| 1/1 [00:00<00:00,  2.90it/s]\n"
     ]
    },
    {
     "name": "stdout",
     "output_type": "stream",
     "text": [
      "Epoch 36/100 loss 0.50595 val_loss 0.79911 acc 0.83110 val_acc 0.62500 train_f1 0.83026 val_f1 0.61971\n"
     ]
    },
    {
     "name": "stderr",
     "output_type": "stream",
     "text": [
      "loss 0.50824 acc 0.83872: 100%|██████████| 16/16 [00:26<00:00,  1.64s/it]\n",
      "val_loss 0.82468 val_acc 0.62500: 100%|██████████| 1/1 [00:00<00:00,  2.41it/s]\n"
     ]
    },
    {
     "name": "stdout",
     "output_type": "stream",
     "text": [
      "Epoch 37/100 loss 0.50824 val_loss 0.82468 acc 0.83872 val_acc 0.62500 train_f1 0.83745 val_f1 0.62614\n"
     ]
    },
    {
     "name": "stderr",
     "output_type": "stream",
     "text": [
      "loss 0.50575 acc 0.83701: 100%|██████████| 16/16 [00:27<00:00,  1.70s/it]\n",
      "val_loss 0.81707 val_acc 0.62500: 100%|██████████| 1/1 [00:00<00:00,  2.98it/s]\n"
     ]
    },
    {
     "name": "stdout",
     "output_type": "stream",
     "text": [
      "Epoch 38/100 loss 0.50575 val_loss 0.81707 acc 0.83701 val_acc 0.62500 train_f1 0.83682 val_f1 0.62762\n"
     ]
    },
    {
     "name": "stderr",
     "output_type": "stream",
     "text": [
      "loss 0.49369 acc 0.84209: 100%|██████████| 16/16 [00:26<00:00,  1.64s/it]\n",
      "val_loss 0.81088 val_acc 0.66667: 100%|██████████| 1/1 [00:00<00:00,  2.63it/s]\n"
     ]
    },
    {
     "name": "stdout",
     "output_type": "stream",
     "text": [
      "Epoch 39/100 loss 0.49369 val_loss 0.81088 acc 0.84209 val_acc 0.66667 train_f1 0.84041 val_f1 0.65848\n"
     ]
    },
    {
     "name": "stderr",
     "output_type": "stream",
     "text": [
      "loss 0.49949 acc 0.83442: 100%|██████████| 16/16 [00:26<00:00,  1.64s/it]\n",
      "val_loss 0.82288 val_acc 0.69444: 100%|██████████| 1/1 [00:00<00:00,  2.44it/s]\n"
     ]
    },
    {
     "name": "stdout",
     "output_type": "stream",
     "text": [
      "Epoch 40/100 loss 0.49949 val_loss 0.82288 acc 0.83442 val_acc 0.69444 train_f1 0.83426 val_f1 0.68824\n"
     ]
    },
    {
     "name": "stderr",
     "output_type": "stream",
     "text": [
      "loss 0.48812 acc 0.83662: 100%|██████████| 16/16 [00:26<00:00,  1.66s/it]\n",
      "val_loss 0.80471 val_acc 0.65278: 100%|██████████| 1/1 [00:00<00:00,  2.80it/s]\n"
     ]
    },
    {
     "name": "stdout",
     "output_type": "stream",
     "text": [
      "Epoch 41/100 loss 0.48812 val_loss 0.80471 acc 0.83662 val_acc 0.65278 train_f1 0.83617 val_f1 0.65160\n"
     ]
    },
    {
     "name": "stderr",
     "output_type": "stream",
     "text": [
      "loss 0.48870 acc 0.83188: 100%|██████████| 16/16 [00:27<00:00,  1.71s/it]\n",
      "val_loss 0.79144 val_acc 0.62500: 100%|██████████| 1/1 [00:00<00:00,  2.48it/s]\n"
     ]
    },
    {
     "name": "stdout",
     "output_type": "stream",
     "text": [
      "Epoch 42/100 loss 0.48870 val_loss 0.79144 acc 0.83188 val_acc 0.62500 train_f1 0.83090 val_f1 0.62539\n"
     ]
    },
    {
     "name": "stderr",
     "output_type": "stream",
     "text": [
      "loss 0.48914 acc 0.83843: 100%|██████████| 16/16 [00:26<00:00,  1.63s/it]\n",
      "val_loss 0.82505 val_acc 0.65278: 100%|██████████| 1/1 [00:00<00:00,  2.42it/s]\n"
     ]
    },
    {
     "name": "stdout",
     "output_type": "stream",
     "text": [
      "Epoch 43/100 loss 0.48914 val_loss 0.82505 acc 0.83843 val_acc 0.65278 train_f1 0.83756 val_f1 0.65257\n"
     ]
    },
    {
     "name": "stderr",
     "output_type": "stream",
     "text": [
      "loss 0.48268 acc 0.84326: 100%|██████████| 16/16 [00:26<00:00,  1.66s/it]\n",
      "val_loss 0.79997 val_acc 0.62500: 100%|██████████| 1/1 [00:00<00:00,  2.58it/s]\n"
     ]
    },
    {
     "name": "stdout",
     "output_type": "stream",
     "text": [
      "Epoch 44/100 loss 0.48268 val_loss 0.79997 acc 0.84326 val_acc 0.62500 train_f1 0.84244 val_f1 0.62453\n"
     ]
    },
    {
     "name": "stderr",
     "output_type": "stream",
     "text": [
      "loss 0.49414 acc 0.83574: 100%|██████████| 16/16 [00:27<00:00,  1.73s/it]\n",
      "val_loss 0.81165 val_acc 0.65278: 100%|██████████| 1/1 [00:00<00:00,  2.45it/s]\n"
     ]
    },
    {
     "name": "stdout",
     "output_type": "stream",
     "text": [
      "Epoch 45/100 loss 0.49414 val_loss 0.81165 acc 0.83574 val_acc 0.65278 train_f1 0.83484 val_f1 0.65375\n"
     ]
    },
    {
     "name": "stderr",
     "output_type": "stream",
     "text": [
      "loss 0.49717 acc 0.83140: 100%|██████████| 16/16 [00:26<00:00,  1.67s/it]\n",
      "val_loss 0.79940 val_acc 0.68056: 100%|██████████| 1/1 [00:00<00:00,  2.77it/s]\n"
     ]
    },
    {
     "name": "stdout",
     "output_type": "stream",
     "text": [
      "Epoch 46/100 loss 0.49717 val_loss 0.79940 acc 0.83140 val_acc 0.68056 train_f1 0.83149 val_f1 0.67775\n"
     ]
    },
    {
     "name": "stderr",
     "output_type": "stream",
     "text": [
      "loss 0.50274 acc 0.83242: 100%|██████████| 16/16 [00:27<00:00,  1.71s/it]\n",
      "val_loss 0.82847 val_acc 0.62500: 100%|██████████| 1/1 [00:00<00:00,  2.80it/s]"
     ]
    },
    {
     "name": "stdout",
     "output_type": "stream",
     "text": [
      "Epoch 47/100 loss 0.50274 val_loss 0.82847 acc 0.83242 val_acc 0.62500 train_f1 0.83361 val_f1 0.62153\n",
      "Patience counter alcanzado. Deteniendo entrenamiento por Early Stopping.\n",
      "Datos de entrenamiento guardados en train_data.json\n"
     ]
    },
    {
     "name": "stderr",
     "output_type": "stream",
     "text": [
      "\n"
     ]
    },
    {
     "data": {
      "text/plain": [
       "([1.6202892735600471,\n",
       "  1.217707373201847,\n",
       "  1.0580569095909595,\n",
       "  0.9492689147591591,\n",
       "  0.8923401609063148,\n",
       "  0.8310408182442188,\n",
       "  0.7919053621590137,\n",
       "  0.760567057877779,\n",
       "  0.7335965856909752,\n",
       "  0.715782918035984,\n",
       "  0.6909645386040211,\n",
       "  0.683895256370306,\n",
       "  0.6675850003957748,\n",
       "  0.6607889235019684,\n",
       "  0.6215294636785984,\n",
       "  0.6249105297029018,\n",
       "  0.6024247221648693,\n",
       "  0.6189954318106174,\n",
       "  0.6019379198551178,\n",
       "  0.5844075419008732,\n",
       "  0.5658662877976894,\n",
       "  0.5584968030452728,\n",
       "  0.5461027435958385,\n",
       "  0.5516732595860958,\n",
       "  0.5485395975410938,\n",
       "  0.5546105019748211,\n",
       "  0.5260586515069008,\n",
       "  0.5385176558047533,\n",
       "  0.5479371957480907,\n",
       "  0.5199244599789381,\n",
       "  0.5247636213898659,\n",
       "  0.5225751399993896,\n",
       "  0.5229215994477272,\n",
       "  0.5094682052731514,\n",
       "  0.5031314752995968,\n",
       "  0.5059462748467922,\n",
       "  0.5082394778728485,\n",
       "  0.5057485923171043,\n",
       "  0.49368823878467083,\n",
       "  0.4994851443916559,\n",
       "  0.4881197717040777,\n",
       "  0.48870373144745827,\n",
       "  0.4891379475593567,\n",
       "  0.48267876729369164,\n",
       "  0.49413920752704144,\n",
       "  0.49716589972376823,\n",
       "  0.5027360934764147],\n",
       " [1.190762996673584,\n",
       "  1.1309173107147217,\n",
       "  1.0354342460632324,\n",
       "  0.9258763194084167,\n",
       "  0.9269863963127136,\n",
       "  0.912242591381073,\n",
       "  0.8930063247680664,\n",
       "  0.8915293216705322,\n",
       "  0.8838822841644287,\n",
       "  0.8664957880973816,\n",
       "  0.8528304696083069,\n",
       "  0.8570441603660583,\n",
       "  0.8428624868392944,\n",
       "  0.8594252467155457,\n",
       "  0.8439239263534546,\n",
       "  0.827531635761261,\n",
       "  0.8191225528717041,\n",
       "  0.8161810636520386,\n",
       "  0.8393076658248901,\n",
       "  0.8054550886154175,\n",
       "  0.8118774890899658,\n",
       "  0.800565779209137,\n",
       "  0.7933558821678162,\n",
       "  0.8052107095718384,\n",
       "  0.826964259147644,\n",
       "  0.8228237628936768,\n",
       "  0.7968749403953552,\n",
       "  0.801781952381134,\n",
       "  0.8160251975059509,\n",
       "  0.8089965581893921,\n",
       "  0.7913784980773926,\n",
       "  0.8007308840751648,\n",
       "  0.8315961360931396,\n",
       "  0.7850472927093506,\n",
       "  0.7816606163978577,\n",
       "  0.7991111278533936,\n",
       "  0.8246810436248779,\n",
       "  0.8170675039291382,\n",
       "  0.8108758330345154,\n",
       "  0.8228819370269775,\n",
       "  0.8047102689743042,\n",
       "  0.7914350628852844,\n",
       "  0.8250517845153809,\n",
       "  0.79997318983078,\n",
       "  0.8116515278816223,\n",
       "  0.7994003891944885,\n",
       "  0.8284692168235779],\n",
       " [0.474072265625,\n",
       "  0.655810546875,\n",
       "  0.6955078125,\n",
       "  0.728466796875,\n",
       "  0.748876953125,\n",
       "  0.764501953125,\n",
       "  0.774951171875,\n",
       "  0.78720703125,\n",
       "  0.79072265625,\n",
       "  0.78671875,\n",
       "  0.79111328125,\n",
       "  0.799462890625,\n",
       "  0.797607421875,\n",
       "  0.79970703125,\n",
       "  0.81796875,\n",
       "  0.81396484375,\n",
       "  0.822412109375,\n",
       "  0.817236328125,\n",
       "  0.8208984375,\n",
       "  0.8189453125,\n",
       "  0.83291015625,\n",
       "  0.824609375,\n",
       "  0.8341796875,\n",
       "  0.827978515625,\n",
       "  0.831005859375,\n",
       "  0.824462890625,\n",
       "  0.8373046875,\n",
       "  0.829150390625,\n",
       "  0.830322265625,\n",
       "  0.831494140625,\n",
       "  0.8361328125,\n",
       "  0.82705078125,\n",
       "  0.82666015625,\n",
       "  0.83544921875,\n",
       "  0.834228515625,\n",
       "  0.831103515625,\n",
       "  0.838720703125,\n",
       "  0.83701171875,\n",
       "  0.84208984375,\n",
       "  0.834423828125,\n",
       "  0.83662109375,\n",
       "  0.831884765625,\n",
       "  0.838427734375,\n",
       "  0.84326171875,\n",
       "  0.8357421875,\n",
       "  0.831396484375,\n",
       "  0.832421875],\n",
       " [0.4166666666666667,\n",
       "  0.4722222222222222,\n",
       "  0.5277777777777778,\n",
       "  0.5555555555555556,\n",
       "  0.5555555555555556,\n",
       "  0.5694444444444444,\n",
       "  0.5694444444444444,\n",
       "  0.5972222222222222,\n",
       "  0.6111111111111112,\n",
       "  0.5833333333333334,\n",
       "  0.5833333333333334,\n",
       "  0.5972222222222222,\n",
       "  0.6111111111111112,\n",
       "  0.5833333333333334,\n",
       "  0.6111111111111112,\n",
       "  0.6388888888888888,\n",
       "  0.6527777777777778,\n",
       "  0.5972222222222222,\n",
       "  0.6111111111111112,\n",
       "  0.6527777777777778,\n",
       "  0.6111111111111112,\n",
       "  0.6111111111111112,\n",
       "  0.6527777777777778,\n",
       "  0.6388888888888888,\n",
       "  0.6111111111111112,\n",
       "  0.6111111111111112,\n",
       "  0.625,\n",
       "  0.6805555555555556,\n",
       "  0.6111111111111112,\n",
       "  0.6388888888888888,\n",
       "  0.6388888888888888,\n",
       "  0.6527777777777778,\n",
       "  0.6111111111111112,\n",
       "  0.6527777777777778,\n",
       "  0.6666666666666666,\n",
       "  0.625,\n",
       "  0.625,\n",
       "  0.625,\n",
       "  0.6666666666666666,\n",
       "  0.6944444444444444,\n",
       "  0.6527777777777778,\n",
       "  0.625,\n",
       "  0.6527777777777778,\n",
       "  0.625,\n",
       "  0.6527777777777778,\n",
       "  0.6805555555555556,\n",
       "  0.625],\n",
       " [0.4677009425102368,\n",
       "  0.6445172742390115,\n",
       "  0.6895697028222064,\n",
       "  0.7240068125116849,\n",
       "  0.7444951632518155,\n",
       "  0.7605866406346005,\n",
       "  0.7702761420728707,\n",
       "  0.7834140141288645,\n",
       "  0.7873321305141129,\n",
       "  0.7841472704020482,\n",
       "  0.7886741931887769,\n",
       "  0.7982996747267969,\n",
       "  0.7942169372068909,\n",
       "  0.7983734259699239,\n",
       "  0.8160683004600807,\n",
       "  0.8131782678138509,\n",
       "  0.8215341599796707,\n",
       "  0.8151839686570788,\n",
       "  0.8206442341936449,\n",
       "  0.8177189126856774,\n",
       "  0.8317622293549726,\n",
       "  0.8238857068826119,\n",
       "  0.8336164727420136,\n",
       "  0.8262726591187753,\n",
       "  0.8298576015986507,\n",
       "  0.8231398058523465,\n",
       "  0.8356956152044215,\n",
       "  0.8287617930237554,\n",
       "  0.8295977592201369,\n",
       "  0.8309031543782814,\n",
       "  0.8355867344304083,\n",
       "  0.8263027090524424,\n",
       "  0.8260270390422595,\n",
       "  0.8345796597096528,\n",
       "  0.83310558326476,\n",
       "  0.8302559758079611,\n",
       "  0.837454144292203,\n",
       "  0.8368155902827747,\n",
       "  0.8404104297619956,\n",
       "  0.8342581979471931,\n",
       "  0.8361688935935019,\n",
       "  0.8308991413107581,\n",
       "  0.8375554593094291,\n",
       "  0.8424414327576224,\n",
       "  0.8348420150253786,\n",
       "  0.8314874382162516,\n",
       "  0.8336139106891336],\n",
       " [0.39104938271604944,\n",
       "  0.4328747795414462,\n",
       "  0.48609891620547746,\n",
       "  0.540499449708106,\n",
       "  0.5465442458726341,\n",
       "  0.5600186104218362,\n",
       "  0.5693829953633875,\n",
       "  0.5930602319491208,\n",
       "  0.6072595164609054,\n",
       "  0.5830026455026456,\n",
       "  0.5733058317599381,\n",
       "  0.5933226826083968,\n",
       "  0.6081617331617332,\n",
       "  0.5814922480620155,\n",
       "  0.6064141414141414,\n",
       "  0.6370992841581078,\n",
       "  0.6505822607477454,\n",
       "  0.5954703813046478,\n",
       "  0.6096706091892228,\n",
       "  0.6493733632622521,\n",
       "  0.607924579977769,\n",
       "  0.6104362725040916,\n",
       "  0.6552423747276689,\n",
       "  0.6391207844696217,\n",
       "  0.608015135878913,\n",
       "  0.607057057057057,\n",
       "  0.6200829097070927,\n",
       "  0.6733369883040936,\n",
       "  0.6072746553162709,\n",
       "  0.6328028966917856,\n",
       "  0.6390856194283614,\n",
       "  0.6522023909278811,\n",
       "  0.6013564213564214,\n",
       "  0.6512156876045766,\n",
       "  0.668373015873016,\n",
       "  0.619706498951782,\n",
       "  0.6261438069846286,\n",
       "  0.6276175213675214,\n",
       "  0.658476985294936,\n",
       "  0.6882380568974773,\n",
       "  0.6516009234166416,\n",
       "  0.6253935374613566,\n",
       "  0.6525689223057644,\n",
       "  0.624533203207712,\n",
       "  0.6537501508618324,\n",
       "  0.6777484498072734,\n",
       "  0.6215277777777778])"
      ]
     },
     "execution_count": 12,
     "metadata": {},
     "output_type": "execute_result"
    }
   ],
   "source": [
    "fit(model, train_loader=train_loader, eval_loader=val_loader, epochs=100, model_name='data/inceptionv3_fc_weights.pth', results_file='data/inceptionv3_fc_train_results.json') "
   ]
  },
  {
   "cell_type": "code",
   "execution_count": 13,
   "id": "e2ee8255",
   "metadata": {},
   "outputs": [
    {
     "data": {
      "image/png": "[encoded data removed]",
      "text/plain": [
       "<Figure size 1800x500 with 3 Axes>"
      ]
     },
     "metadata": {},
     "output_type": "display_data"
    }
   ],
   "source": [
    "plot_train_results_from_json(json_file='data/inceptionv3_fc_train_results.json')"
   ]
  },
  {
   "cell_type": "code",
   "execution_count": 14,
   "id": "33716d99",
   "metadata": {},
   "outputs": [
    {
     "name": "stdout",
     "output_type": "stream",
     "text": [
      "Resultados guardados en data/inceptionv3_fc_evaluation_results.json\n"
     ]
    },
    {
     "data": {
      "image/png": "[encoded data removed]",
      "text/plain": [
       "<Figure size 1500x600 with 4 Axes>"
      ]
     },
     "metadata": {},
     "output_type": "display_data"
    }
   ],
   "source": [
    "evaluate_model(model, test_loader, test_dataset.classes, device, output_file='data/inceptionv3_fc_evaluation_results.json')"
   ]
  },
  {
   "cell_type": "code",
   "execution_count": 15,
   "id": "0dfafa11",
   "metadata": {},
   "outputs": [
    {
     "name": "stdout",
     "output_type": "stream",
     "text": [
      "Entrenando: AuxLogits.conv0.conv.weight\n",
      "Entrenando: AuxLogits.conv0.bn.weight\n",
      "Entrenando: AuxLogits.conv0.bn.bias\n",
      "Entrenando: AuxLogits.conv1.conv.weight\n",
      "Entrenando: AuxLogits.conv1.bn.weight\n",
      "Entrenando: AuxLogits.conv1.bn.bias\n",
      "Entrenando: AuxLogits.fc.weight\n",
      "Entrenando: AuxLogits.fc.bias\n",
      "Entrenando: Mixed_7a.branch3x3_1.conv.weight\n",
      "Entrenando: Mixed_7a.branch3x3_1.bn.weight\n",
      "Entrenando: Mixed_7a.branch3x3_1.bn.bias\n",
      "Entrenando: Mixed_7a.branch3x3_2.conv.weight\n",
      "Entrenando: Mixed_7a.branch3x3_2.bn.weight\n",
      "Entrenando: Mixed_7a.branch3x3_2.bn.bias\n",
      "Entrenando: Mixed_7a.branch7x7x3_1.conv.weight\n",
      "Entrenando: Mixed_7a.branch7x7x3_1.bn.weight\n",
      "Entrenando: Mixed_7a.branch7x7x3_1.bn.bias\n",
      "Entrenando: Mixed_7a.branch7x7x3_2.conv.weight\n",
      "Entrenando: Mixed_7a.branch7x7x3_2.bn.weight\n",
      "Entrenando: Mixed_7a.branch7x7x3_2.bn.bias\n",
      "Entrenando: Mixed_7a.branch7x7x3_3.conv.weight\n",
      "Entrenando: Mixed_7a.branch7x7x3_3.bn.weight\n",
      "Entrenando: Mixed_7a.branch7x7x3_3.bn.bias\n",
      "Entrenando: Mixed_7a.branch7x7x3_4.conv.weight\n",
      "Entrenando: Mixed_7a.branch7x7x3_4.bn.weight\n",
      "Entrenando: Mixed_7a.branch7x7x3_4.bn.bias\n",
      "Entrenando: Mixed_7b.branch1x1.conv.weight\n",
      "Entrenando: Mixed_7b.branch1x1.bn.weight\n",
      "Entrenando: Mixed_7b.branch1x1.bn.bias\n",
      "Entrenando: Mixed_7b.branch3x3_1.conv.weight\n",
      "Entrenando: Mixed_7b.branch3x3_1.bn.weight\n",
      "Entrenando: Mixed_7b.branch3x3_1.bn.bias\n",
      "Entrenando: Mixed_7b.branch3x3_2a.conv.weight\n",
      "Entrenando: Mixed_7b.branch3x3_2a.bn.weight\n",
      "Entrenando: Mixed_7b.branch3x3_2a.bn.bias\n",
      "Entrenando: Mixed_7b.branch3x3_2b.conv.weight\n",
      "Entrenando: Mixed_7b.branch3x3_2b.bn.weight\n",
      "Entrenando: Mixed_7b.branch3x3_2b.bn.bias\n",
      "Entrenando: Mixed_7b.branch3x3dbl_1.conv.weight\n",
      "Entrenando: Mixed_7b.branch3x3dbl_1.bn.weight\n",
      "Entrenando: Mixed_7b.branch3x3dbl_1.bn.bias\n",
      "Entrenando: Mixed_7b.branch3x3dbl_2.conv.weight\n",
      "Entrenando: Mixed_7b.branch3x3dbl_2.bn.weight\n",
      "Entrenando: Mixed_7b.branch3x3dbl_2.bn.bias\n",
      "Entrenando: Mixed_7b.branch3x3dbl_3a.conv.weight\n",
      "Entrenando: Mixed_7b.branch3x3dbl_3a.bn.weight\n",
      "Entrenando: Mixed_7b.branch3x3dbl_3a.bn.bias\n",
      "Entrenando: Mixed_7b.branch3x3dbl_3b.conv.weight\n",
      "Entrenando: Mixed_7b.branch3x3dbl_3b.bn.weight\n",
      "Entrenando: Mixed_7b.branch3x3dbl_3b.bn.bias\n",
      "Entrenando: Mixed_7b.branch_pool.conv.weight\n",
      "Entrenando: Mixed_7b.branch_pool.bn.weight\n",
      "Entrenando: Mixed_7b.branch_pool.bn.bias\n",
      "Entrenando: Mixed_7c.branch1x1.conv.weight\n",
      "Entrenando: Mixed_7c.branch1x1.bn.weight\n",
      "Entrenando: Mixed_7c.branch1x1.bn.bias\n",
      "Entrenando: Mixed_7c.branch3x3_1.conv.weight\n",
      "Entrenando: Mixed_7c.branch3x3_1.bn.weight\n",
      "Entrenando: Mixed_7c.branch3x3_1.bn.bias\n",
      "Entrenando: Mixed_7c.branch3x3_2a.conv.weight\n",
      "Entrenando: Mixed_7c.branch3x3_2a.bn.weight\n",
      "Entrenando: Mixed_7c.branch3x3_2a.bn.bias\n",
      "Entrenando: Mixed_7c.branch3x3_2b.conv.weight\n",
      "Entrenando: Mixed_7c.branch3x3_2b.bn.weight\n",
      "Entrenando: Mixed_7c.branch3x3_2b.bn.bias\n",
      "Entrenando: Mixed_7c.branch3x3dbl_1.conv.weight\n",
      "Entrenando: Mixed_7c.branch3x3dbl_1.bn.weight\n",
      "Entrenando: Mixed_7c.branch3x3dbl_1.bn.bias\n",
      "Entrenando: Mixed_7c.branch3x3dbl_2.conv.weight\n",
      "Entrenando: Mixed_7c.branch3x3dbl_2.bn.weight\n",
      "Entrenando: Mixed_7c.branch3x3dbl_2.bn.bias\n",
      "Entrenando: Mixed_7c.branch3x3dbl_3a.conv.weight\n",
      "Entrenando: Mixed_7c.branch3x3dbl_3a.bn.weight\n",
      "Entrenando: Mixed_7c.branch3x3dbl_3a.bn.bias\n",
      "Entrenando: Mixed_7c.branch3x3dbl_3b.conv.weight\n",
      "Entrenando: Mixed_7c.branch3x3dbl_3b.bn.weight\n",
      "Entrenando: Mixed_7c.branch3x3dbl_3b.bn.bias\n",
      "Entrenando: Mixed_7c.branch_pool.conv.weight\n",
      "Entrenando: Mixed_7c.branch_pool.bn.weight\n",
      "Entrenando: Mixed_7c.branch_pool.bn.bias\n",
      "Entrenando: fc.weight\n",
      "Entrenando: fc.bias\n"
     ]
    }
   ],
   "source": [
    "model = build_inceptionv3_finetune(num_classes=4)\n",
    "model = model.to(device)\n",
    "\n",
    "# Verificación\n",
    "for name, param in model.named_parameters():\n",
    "    if param.requires_grad:\n",
    "        print(f\"Entrenando: {name}\")"
   ]
  },
  {
   "cell_type": "code",
   "execution_count": 16,
   "id": "950ca414",
   "metadata": {},
   "outputs": [
    {
     "name": "stderr",
     "output_type": "stream",
     "text": [
      "loss 0.45838 acc 0.87861: 100%|██████████| 16/16 [00:28<00:00,  1.75s/it]\n",
      "val_loss 0.84249 val_acc 0.80556: 100%|██████████| 1/1 [00:00<00:00,  3.14it/s]\n"
     ]
    },
    {
     "name": "stdout",
     "output_type": "stream",
     "text": [
      "Epoch 1/100 loss 0.45838 val_loss 0.84249 acc 0.87861 val_acc 0.80556 train_f1 0.87628 val_f1 0.80277\n",
      "Mejor modelo guardado en la época 1 con val_loss 0.84249\n",
      "Mejor modelo guardado.\n"
     ]
    },
    {
     "name": "stderr",
     "output_type": "stream",
     "text": [
      "loss 0.04968 acc 0.99097: 100%|██████████| 16/16 [00:28<00:00,  1.76s/it]\n",
      "val_loss 0.58003 val_acc 0.83333: 100%|██████████| 1/1 [00:00<00:00,  3.05it/s]\n"
     ]
    },
    {
     "name": "stdout",
     "output_type": "stream",
     "text": [
      "Epoch 2/100 loss 0.04968 val_loss 0.58003 acc 0.99097 val_acc 0.83333 train_f1 0.99075 val_f1 0.83241\n",
      "Mejor modelo guardado en la época 2 con val_loss 0.58003\n",
      "Mejor modelo guardado.\n"
     ]
    },
    {
     "name": "stderr",
     "output_type": "stream",
     "text": [
      "loss 0.01666 acc 0.99692: 100%|██████████| 16/16 [00:27<00:00,  1.71s/it]\n",
      "val_loss 0.31873 val_acc 0.87500: 100%|██████████| 1/1 [00:00<00:00,  2.42it/s]\n"
     ]
    },
    {
     "name": "stdout",
     "output_type": "stream",
     "text": [
      "Epoch 3/100 loss 0.01666 val_loss 0.31873 acc 0.99692 val_acc 0.87500 train_f1 0.99700 val_f1 0.87288\n",
      "Mejor modelo guardado en la época 3 con val_loss 0.31873\n",
      "Mejor modelo guardado.\n"
     ]
    },
    {
     "name": "stderr",
     "output_type": "stream",
     "text": [
      "loss 0.01110 acc 0.99707: 100%|██████████| 16/16 [00:27<00:00,  1.73s/it]\n",
      "val_loss 0.20118 val_acc 0.93056: 100%|██████████| 1/1 [00:00<00:00,  3.20it/s]\n"
     ]
    },
    {
     "name": "stdout",
     "output_type": "stream",
     "text": [
      "Epoch 4/100 loss 0.01110 val_loss 0.20118 acc 0.99707 val_acc 0.93056 train_f1 0.99700 val_f1 0.93095\n",
      "Mejor modelo guardado en la época 4 con val_loss 0.20118\n",
      "Mejor modelo guardado.\n"
     ]
    },
    {
     "name": "stderr",
     "output_type": "stream",
     "text": [
      "loss 0.00925 acc 0.99707: 100%|██████████| 16/16 [00:28<00:00,  1.75s/it]\n",
      "val_loss 0.30781 val_acc 0.91667: 100%|██████████| 1/1 [00:00<00:00,  3.14it/s]\n"
     ]
    },
    {
     "name": "stdout",
     "output_type": "stream",
     "text": [
      "Epoch 5/100 loss 0.00925 val_loss 0.30781 acc 0.99707 val_acc 0.91667 train_f1 0.99700 val_f1 0.91618\n"
     ]
    },
    {
     "name": "stderr",
     "output_type": "stream",
     "text": [
      "loss 0.01028 acc 0.99717: 100%|██████████| 16/16 [00:26<00:00,  1.66s/it]\n",
      "val_loss 0.31706 val_acc 0.93056: 100%|██████████| 1/1 [00:00<00:00,  3.01it/s]\n"
     ]
    },
    {
     "name": "stdout",
     "output_type": "stream",
     "text": [
      "Epoch 6/100 loss 0.01028 val_loss 0.31706 acc 0.99717 val_acc 0.93056 train_f1 0.99725 val_f1 0.93176\n"
     ]
    },
    {
     "name": "stderr",
     "output_type": "stream",
     "text": [
      "loss 0.01029 acc 0.99644: 100%|██████████| 16/16 [00:27<00:00,  1.74s/it]\n",
      "val_loss 0.34215 val_acc 0.90278: 100%|██████████| 1/1 [00:00<00:00,  2.95it/s]\n"
     ]
    },
    {
     "name": "stdout",
     "output_type": "stream",
     "text": [
      "Epoch 7/100 loss 0.01029 val_loss 0.34215 acc 0.99644 val_acc 0.90278 train_f1 0.99650 val_f1 0.90476\n"
     ]
    },
    {
     "name": "stderr",
     "output_type": "stream",
     "text": [
      "loss 0.00593 acc 0.99878: 100%|██████████| 16/16 [00:27<00:00,  1.69s/it]\n",
      "val_loss 0.70855 val_acc 0.91667: 100%|██████████| 1/1 [00:00<00:00,  2.95it/s]\n"
     ]
    },
    {
     "name": "stdout",
     "output_type": "stream",
     "text": [
      "Epoch 8/100 loss 0.00593 val_loss 0.70855 acc 0.99878 val_acc 0.91667 train_f1 0.99875 val_f1 0.91950\n"
     ]
    },
    {
     "name": "stderr",
     "output_type": "stream",
     "text": [
      "loss 0.00421 acc 0.99854: 100%|██████████| 16/16 [00:27<00:00,  1.75s/it]\n",
      "val_loss 0.65563 val_acc 0.91667: 100%|██████████| 1/1 [00:00<00:00,  2.28it/s]\n"
     ]
    },
    {
     "name": "stdout",
     "output_type": "stream",
     "text": [
      "Epoch 9/100 loss 0.00421 val_loss 0.65563 acc 0.99854 val_acc 0.91667 train_f1 0.99850 val_f1 0.91950\n"
     ]
    },
    {
     "name": "stderr",
     "output_type": "stream",
     "text": [
      "loss 0.00626 acc 0.99780: 100%|██████████| 16/16 [00:26<00:00,  1.68s/it]\n",
      "val_loss 0.62761 val_acc 0.91667: 100%|██████████| 1/1 [00:00<00:00,  3.09it/s]\n"
     ]
    },
    {
     "name": "stdout",
     "output_type": "stream",
     "text": [
      "Epoch 10/100 loss 0.00626 val_loss 0.62761 acc 0.99780 val_acc 0.91667 train_f1 0.99775 val_f1 0.92056\n"
     ]
    },
    {
     "name": "stderr",
     "output_type": "stream",
     "text": [
      "loss 0.00819 acc 0.99619: 100%|██████████| 16/16 [00:27<00:00,  1.74s/it]\n",
      "val_loss 0.57622 val_acc 0.93056: 100%|██████████| 1/1 [00:00<00:00,  2.70it/s]\n"
     ]
    },
    {
     "name": "stdout",
     "output_type": "stream",
     "text": [
      "Epoch 11/100 loss 0.00819 val_loss 0.57622 acc 0.99619 val_acc 0.93056 train_f1 0.99625 val_f1 0.93328\n"
     ]
    },
    {
     "name": "stderr",
     "output_type": "stream",
     "text": [
      "loss 0.00902 acc 0.99683: 100%|██████████| 16/16 [00:27<00:00,  1.71s/it]\n",
      "val_loss 0.71919 val_acc 0.88889: 100%|██████████| 1/1 [00:00<00:00,  2.79it/s]\n"
     ]
    },
    {
     "name": "stdout",
     "output_type": "stream",
     "text": [
      "Epoch 12/100 loss 0.00902 val_loss 0.71919 acc 0.99683 val_acc 0.88889 train_f1 0.99675 val_f1 0.89364\n"
     ]
    },
    {
     "name": "stderr",
     "output_type": "stream",
     "text": [
      "loss 0.01443 acc 0.99609: 100%|██████████| 16/16 [00:27<00:00,  1.74s/it]\n",
      "val_loss 0.52919 val_acc 0.91667: 100%|██████████| 1/1 [00:00<00:00,  3.00it/s]\n"
     ]
    },
    {
     "name": "stdout",
     "output_type": "stream",
     "text": [
      "Epoch 13/100 loss 0.01443 val_loss 0.52919 acc 0.99609 val_acc 0.91667 train_f1 0.99600 val_f1 0.91718\n"
     ]
    },
    {
     "name": "stderr",
     "output_type": "stream",
     "text": [
      "loss 0.01318 acc 0.99595: 100%|██████████| 16/16 [00:27<00:00,  1.74s/it]\n",
      "val_loss 0.33121 val_acc 0.91667: 100%|██████████| 1/1 [00:00<00:00,  2.66it/s]\n"
     ]
    },
    {
     "name": "stdout",
     "output_type": "stream",
     "text": [
      "Epoch 14/100 loss 0.01318 val_loss 0.33121 acc 0.99595 val_acc 0.91667 train_f1 0.99600 val_f1 0.91768\n"
     ]
    },
    {
     "name": "stderr",
     "output_type": "stream",
     "text": [
      "loss 0.00597 acc 0.99854: 100%|██████████| 16/16 [00:28<00:00,  1.76s/it]\n",
      "val_loss 0.44081 val_acc 0.90278: 100%|██████████| 1/1 [00:00<00:00,  2.52it/s]\n"
     ]
    },
    {
     "name": "stdout",
     "output_type": "stream",
     "text": [
      "Epoch 15/100 loss 0.00597 val_loss 0.44081 acc 0.99854 val_acc 0.90278 train_f1 0.99850 val_f1 0.90382\n"
     ]
    },
    {
     "name": "stderr",
     "output_type": "stream",
     "text": [
      "loss 0.01135 acc 0.99717: 100%|██████████| 16/16 [00:28<00:00,  1.78s/it]\n",
      "val_loss 0.60935 val_acc 0.90278: 100%|██████████| 1/1 [00:00<00:00,  2.93it/s]"
     ]
    },
    {
     "name": "stdout",
     "output_type": "stream",
     "text": [
      "Epoch 16/100 loss 0.01135 val_loss 0.60935 acc 0.99717 val_acc 0.90278 train_f1 0.99725 val_f1 0.90570\n",
      "Patience counter alcanzado. Deteniendo entrenamiento por Early Stopping.\n",
      "Datos de entrenamiento guardados en train_data.json\n"
     ]
    },
    {
     "name": "stderr",
     "output_type": "stream",
     "text": [
      "\n"
     ]
    },
    {
     "data": {
      "text/plain": [
       "([0.45837581856176257,\n",
       "  0.04968268540687859,\n",
       "  0.0166628647421021,\n",
       "  0.011102286007371731,\n",
       "  0.00924519493128173,\n",
       "  0.010283643438015133,\n",
       "  0.010292797393049113,\n",
       "  0.005931833253271179,\n",
       "  0.004211538122035563,\n",
       "  0.0062624006932310294,\n",
       "  0.008190431784896646,\n",
       "  0.009015077903313795,\n",
       "  0.014426376474148128,\n",
       "  0.013178697336115874,\n",
       "  0.00596628673520172,\n",
       "  0.011353389563737437],\n",
       " [0.8424855470657349,\n",
       "  0.5800310969352722,\n",
       "  0.31872695684432983,\n",
       "  0.20118264853954315,\n",
       "  0.30781111121177673,\n",
       "  0.3170585036277771,\n",
       "  0.34214699268341064,\n",
       "  0.7085468769073486,\n",
       "  0.6556342244148254,\n",
       "  0.6276069283485413,\n",
       "  0.5762234926223755,\n",
       "  0.7191941738128662,\n",
       "  0.5291914343833923,\n",
       "  0.3312070071697235,\n",
       "  0.4408125579357147,\n",
       "  0.6093459129333496],\n",
       " [0.87861328125,\n",
       "  0.990966796875,\n",
       "  0.996923828125,\n",
       "  0.9970703125,\n",
       "  0.9970703125,\n",
       "  0.99716796875,\n",
       "  0.996435546875,\n",
       "  0.998779296875,\n",
       "  0.99853515625,\n",
       "  0.997802734375,\n",
       "  0.99619140625,\n",
       "  0.996826171875,\n",
       "  0.99609375,\n",
       "  0.995947265625,\n",
       "  0.99853515625,\n",
       "  0.99716796875],\n",
       " [0.8055555555555556,\n",
       "  0.8333333333333334,\n",
       "  0.875,\n",
       "  0.9305555555555556,\n",
       "  0.9166666666666666,\n",
       "  0.9305555555555556,\n",
       "  0.9027777777777778,\n",
       "  0.9166666666666666,\n",
       "  0.9166666666666666,\n",
       "  0.9166666666666666,\n",
       "  0.9305555555555556,\n",
       "  0.8888888888888888,\n",
       "  0.9166666666666666,\n",
       "  0.9166666666666666,\n",
       "  0.9027777777777778,\n",
       "  0.9027777777777778],\n",
       " [0.8762755247873929,\n",
       "  0.9907479899200254,\n",
       "  0.9970002547978722,\n",
       "  0.9969985100119803,\n",
       "  0.996999611943145,\n",
       "  0.9972492220905435,\n",
       "  0.9964985963182504,\n",
       "  0.998749419182386,\n",
       "  0.9985000188470624,\n",
       "  0.9977500923895122,\n",
       "  0.996251115160058,\n",
       "  0.9967508102427479,\n",
       "  0.9960005978749359,\n",
       "  0.9960010546710025,\n",
       "  0.998499887488721,\n",
       "  0.9972507369805221],\n",
       " [0.8027658662092624,\n",
       "  0.8324055467597666,\n",
       "  0.872879645349934,\n",
       "  0.9309498207885305,\n",
       "  0.916175100018185,\n",
       "  0.9317580023462377,\n",
       "  0.9047557619539044,\n",
       "  0.9195031003854532,\n",
       "  0.9195031003854532,\n",
       "  0.9205550586364539,\n",
       "  0.9332819957819959,\n",
       "  0.893640350877193,\n",
       "  0.9171793735224587,\n",
       "  0.9176798433048433,\n",
       "  0.9038248337028825,\n",
       "  0.9056971774995031])"
      ]
     },
     "execution_count": 16,
     "metadata": {},
     "output_type": "execute_result"
    }
   ],
   "source": [
    "fit(model, train_loader=train_loader, eval_loader=val_loader, epochs=100, model_name='data/inceptionv3_Mixed_7_fc_weights.pth', results_file='data/inceptionv3_Mixed_7_fc_train_results.json') "
   ]
  },
  {
   "cell_type": "code",
   "execution_count": 17,
   "id": "0effa485",
   "metadata": {},
   "outputs": [
    {
     "data": {
      "image/png": "[encoded data removed]",
      "text/plain": [
       "<Figure size 1800x500 with 3 Axes>"
      ]
     },
     "metadata": {},
     "output_type": "display_data"
    }
   ],
   "source": [
    "plot_train_results_from_json(json_file='data/inceptionv3_Mixed_7_fc_train_results.json')"
   ]
  },
  {
   "cell_type": "code",
   "execution_count": 18,
   "id": "bcf75ad4",
   "metadata": {},
   "outputs": [
    {
     "name": "stdout",
     "output_type": "stream",
     "text": [
      "Resultados guardados en data/inceptionv3_Mixed_7_fc_evaluation_results.json\n"
     ]
    },
    {
     "data": {
      "image/png": "[encoded data removed]",
      "text/plain": [
       "<Figure size 1500x600 with 4 Axes>"
      ]
     },
     "metadata": {},
     "output_type": "display_data"
    }
   ],
   "source": [
    "evaluate_model(model, test_loader, test_dataset.classes, device, output_file='data/inceptionv3_Mixed_7_fc_evaluation_results.json')"
   ]
  }
 ],
 "metadata": {
  "kernelspec": {
   "display_name": "Python 3",
   "language": "python",
   "name": "python3"
  },
  "language_info": {
   "codemirror_mode": {
    "name": "ipython",
    "version": 3
   },
   "file_extension": ".py",
   "mimetype": "text/x-python",
   "name": "python",
   "nbconvert_exporter": "python",
   "pygments_lexer": "ipython3",
   "version": "3.12.10"
  }
 },
 "nbformat": 4,
 "nbformat_minor": 5
}
